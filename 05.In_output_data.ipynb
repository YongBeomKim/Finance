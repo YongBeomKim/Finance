{
 "cells": [
  {
   "cell_type": "markdown",
   "metadata": {},
   "source": [
    "# Chapte 7 - Input-Output Operations\n",
    "입출력 작업"
   ]
  },
  {
   "cell_type": "code",
   "execution_count": 3,
   "metadata": {
    "collapsed": true
   },
   "outputs": [],
   "source": [
    "# 기본 입출력 작업 : text, ndarray, SQL\n",
    "# pandas 모듈을 활용 : 상동 및 CSV, JSON을 추가적 가능\n",
    "# PyTable을 사용한 입출력 : HDF5 표준을 활용한 대규모 입출력 작업"
   ]
  },
  {
   "cell_type": "markdown",
   "metadata": {},
   "source": [
    "## 1 기본 파이썬 입출력\n",
    "Input-Output Operations"
   ]
  },
  {
   "cell_type": "markdown",
   "metadata": {},
   "source": [
    "### 01 Pickle 객체 저장\n",
    "객체를 Disk에 저장하기"
   ]
  },
  {
   "cell_type": "code",
   "execution_count": 17,
   "metadata": {
    "collapsed": true
   },
   "outputs": [],
   "source": [
    "import numpy as np\n",
    "from random import gauss\n",
    "\n",
    "# 정규분포를 갖는 랜덤데이터를 생성한다\n",
    "a = [gauss(1.5, 2) for i in range(1000000)] "
   ]
  },
  {
   "cell_type": "code",
   "execution_count": 18,
   "metadata": {},
   "outputs": [
    {
     "name": "stdout",
     "output_type": "stream",
     "text": [
      "CPU times: user 20 ms, sys: 8 ms, total: 28 ms\n",
      "Wall time: 27.5 ms\n"
     ]
    },
    {
     "data": {
      "text/plain": [
       "<_io.BufferedWriter name='./data/data.pkl'>"
      ]
     },
     "execution_count": 18,
     "metadata": {},
     "output_type": "execute_result"
    }
   ],
   "source": [
    "import pickle\n",
    "path = './data/'\n",
    "\n",
    "# 폴더를 지정하고, 특정 파일을 연다 (없으면 생성/ 있으면 덮어쓴다)\n",
    "pkl_file = open(path + 'data.pkl', 'wb')\n",
    "%time pickle.dump(a, pkl_file)  # 데이터를 메모리에 올린다\n",
    "pkl_file.close()  # 기록을 종료한다\n",
    "\n",
    "pkl_file  # 객체 내용을 확인"
   ]
  },
  {
   "cell_type": "code",
   "execution_count": 19,
   "metadata": {},
   "outputs": [
    {
     "name": "stdout",
     "output_type": "stream",
     "text": [
      "-rw-rw-r-- 1 markbaum 9002006  8월 31 14:09 ./data/data.pkl\r\n",
      "-rw-rw-r-- 1 markbaum  688500  8월 31 11:29 ./data/es.txt\r\n",
      "-rw-rw-r-- 1 markbaum  531406  8월 31 13:45 ./data/es50.txt\r\n",
      "-rw-rw-r-- 1 markbaum  363485  8월 31 11:30 ./data/vs.txt\r\n",
      "-rw-rw-r-- 1 markbaum 1102776  7월 12 03:24 ./data/vstoxx_data_31032014.h5\r\n",
      "-rw-rw-r-- 1 markbaum 2416542  7월 12 03:24 ./data/vstoxx_march_2014.h5\r\n",
      "-rw-rw-r-- 1 markbaum 4806862  7월 12 03:24 ./data/vstoxx_march_2014.xlsx\r\n",
      "\r\n",
      "./data/py4fi-master:\r\n",
      "합계 20\r\n",
      "-rw-rw-r-- 1 markbaum 1778  7월 12 03:24 README.md\r\n",
      "drwx------ 5 markbaum 4096  7월 12 03:24 \u001b[0m\u001b[01;34mipython\u001b[0m/\r\n",
      "drwx------ 5 markbaum 4096  7월 12 03:24 \u001b[01;34mipython3\u001b[0m/\r\n",
      "drwx------ 5 markbaum 4096  7월 12 03:24 \u001b[01;34mpython\u001b[0m/\r\n",
      "drwx------ 5 markbaum 4096  7월 12 03:24 \u001b[01;34mpython3\u001b[0m/\r\n"
     ]
    }
   ],
   "source": [
    "# 저장된 객체의 용량이 약 9MB임을 확인가능\n",
    "ll $path*"
   ]
  },
  {
   "cell_type": "code",
   "execution_count": 24,
   "metadata": {},
   "outputs": [
    {
     "name": "stdout",
     "output_type": "stream",
     "text": [
      "CPU times: user 36 ms, sys: 12 ms, total: 48 ms\n",
      "Wall time: 48.3 ms\n"
     ]
    }
   ],
   "source": [
    "# 저장된 객체 불러오기\n",
    "pkl_file = open(path + 'data.pkl', 'rb')  # open file for reading\n",
    "\n",
    "%time b = pickle.load(pkl_file)\n",
    "pkl_file.close()  # 불러오기를 종료한다"
   ]
  },
  {
   "cell_type": "code",
   "execution_count": 26,
   "metadata": {},
   "outputs": [
    {
     "data": {
      "text/plain": [
       "True"
      ]
     },
     "execution_count": 26,
     "metadata": {},
     "output_type": "execute_result"
    }
   ],
   "source": [
    "# a (생성), b (불러옴) 객체간 동일여부를 확인한다\n",
    "np.allclose(np.array(a), np.array(b))"
   ]
  },
  {
   "cell_type": "code",
   "execution_count": 27,
   "metadata": {},
   "outputs": [
    {
     "data": {
      "text/plain": [
       "0.0"
      ]
     },
     "execution_count": 27,
     "metadata": {},
     "output_type": "execute_result"
    }
   ],
   "source": [
    "# 객체내부 개별 데이터간의 동일성확인\n",
    "np.sum(np.array(a) - np.array(b))"
   ]
  },
  {
   "cell_type": "markdown",
   "metadata": {},
   "source": [
    "### 02 Numpy를 활용한 Pickle 객체 저장\n",
    "by numpy"
   ]
  },
  {
   "cell_type": "code",
   "execution_count": 30,
   "metadata": {},
   "outputs": [
    {
     "name": "stdout",
     "output_type": "stream",
     "text": [
      "CPU times: user 28 ms, sys: 8 ms, total: 36 ms\n",
      "Wall time: 32.4 ms\n",
      "CPU times: user 20 ms, sys: 8 ms, total: 28 ms\n",
      "Wall time: 30 ms\n"
     ]
    }
   ],
   "source": [
    "# 2개 객체를 1개의 파일에 저장하기\n",
    "# np.array 모듈을 사용해서 속도가 빠르다\n",
    "# 2배 데이터로, 용량도 2배가 된다\n",
    "\n",
    "pkl_file = open(path + 'data.pkl', 'wb')  # open file for writing\n",
    "%time pickle.dump(np.array(a), pkl_file)  # a 객체를 np.array로 변환입력\n",
    "%time pickle.dump(np.array(a) ** 2, pkl_file) # 동일데이터 제곱을 입력\n",
    "pkl_file.close()"
   ]
  },
  {
   "cell_type": "code",
   "execution_count": 31,
   "metadata": {},
   "outputs": [
    {
     "name": "stdout",
     "output_type": "stream",
     "text": [
      "-rw-rw-r-- 1 markbaum 16000322  8월 31 14:16 ./data/data.pkl\r\n",
      "-rw-rw-r-- 1 markbaum   688500  8월 31 11:29 ./data/es.txt\r\n",
      "-rw-rw-r-- 1 markbaum   531406  8월 31 13:45 ./data/es50.txt\r\n",
      "-rw-rw-r-- 1 markbaum   363485  8월 31 11:30 ./data/vs.txt\r\n",
      "-rw-rw-r-- 1 markbaum  1102776  7월 12 03:24 ./data/vstoxx_data_31032014.h5\r\n",
      "-rw-rw-r-- 1 markbaum  2416542  7월 12 03:24 ./data/vstoxx_march_2014.h5\r\n",
      "-rw-rw-r-- 1 markbaum  4806862  7월 12 03:24 ./data/vstoxx_march_2014.xlsx\r\n",
      "\r\n",
      "./data/py4fi-master:\r\n",
      "합계 20\r\n",
      "-rw-rw-r-- 1 markbaum 1778  7월 12 03:24 README.md\r\n",
      "drwx------ 5 markbaum 4096  7월 12 03:24 \u001b[0m\u001b[01;34mipython\u001b[0m/\r\n",
      "drwx------ 5 markbaum 4096  7월 12 03:24 \u001b[01;34mipython3\u001b[0m/\r\n",
      "drwx------ 5 markbaum 4096  7월 12 03:24 \u001b[01;34mpython\u001b[0m/\r\n",
      "drwx------ 5 markbaum 4096  7월 12 03:24 \u001b[01;34mpython3\u001b[0m/\r\n"
     ]
    }
   ],
   "source": [
    "# 다른 함수들과 같이 실행하면 syntex 오류가 발생한다 (주의!!)\n",
    "ll $path*"
   ]
  },
  {
   "cell_type": "code",
   "execution_count": 32,
   "metadata": {},
   "outputs": [
    {
     "data": {
      "text/plain": [
       "array([ 1.52868321,  5.50229636,  0.3630939 , ..., -0.92560976,\n",
       "        0.15171902,  2.16398634])"
      ]
     },
     "execution_count": 32,
     "metadata": {},
     "output_type": "execute_result"
    }
   ],
   "source": [
    "# 2개의 np.array가 저장되었음에도 1개만 출력\n",
    "pkl_file = open(path + 'data.pkl', 'rb')  # open file for reading\n",
    "x = pickle.load(pkl_file)\n",
    "x"
   ]
  },
  {
   "cell_type": "code",
   "execution_count": 33,
   "metadata": {},
   "outputs": [
    {
     "data": {
      "text/plain": [
       "array([  2.33687235e+00,   3.02752652e+01,   1.31837177e-01, ...,\n",
       "         8.56753429e-01,   2.30186621e-02,   4.68283686e+00])"
      ]
     },
     "execution_count": 33,
     "metadata": {},
     "output_type": "execute_result"
    }
   ],
   "source": [
    "# First In First Out\n",
    "# pickle.load()를 1번더 실행해야 2번쨰 객체가 출력\n",
    "# 데이터 구조를 알지 못하면 필요한 자료를 찾기 어렵다\n",
    "y = pickle.load(pkl_file)\n",
    "y"
   ]
  },
  {
   "cell_type": "code",
   "execution_count": 34,
   "metadata": {
    "collapsed": true
   },
   "outputs": [],
   "source": [
    "pkl_file.close()"
   ]
  },
  {
   "cell_type": "code",
   "execution_count": null,
   "metadata": {
    "collapsed": true
   },
   "outputs": [],
   "source": [
    "# {'x' : x, 'y' : y} 의 dict 객체를 통해 데이터를 모두 저장\n",
    "pkl_file = open(path + 'data.pkl', 'wb')  # open file for writing\n",
    "pickle.dump({'x' : x, 'y' : y}, pkl_file)\n",
    "pkl_file.close()"
   ]
  },
  {
   "cell_type": "code",
   "execution_count": null,
   "metadata": {
    "collapsed": true
   },
   "outputs": [],
   "source": [
    "# {dict} 을 통해 모든 데이터를 불러오기만 가능하다\n",
    "pkl_file = open(path + 'data.pkl', 'rb')  # open file for writing\n",
    "data = pickle.load(pkl_file)\n",
    "pkl_file.close()\n",
    "for key in data.keys():\n",
    "    print(key, data[key][:4])"
   ]
  },
  {
   "cell_type": "markdown",
   "metadata": {},
   "source": [
    "## 2 텍스트 파일 읽고 쓰기\n",
    "Reading and Writing Text Files"
   ]
  },
  {
   "cell_type": "code",
   "execution_count": null,
   "metadata": {
    "collapsed": true
   },
   "outputs": [],
   "source": []
  },
  {
   "cell_type": "code",
   "execution_count": null,
   "metadata": {
    "collapsed": true
   },
   "outputs": [],
   "source": []
  }
 ],
 "metadata": {
  "kernelspec": {
   "display_name": "Python 3",
   "language": "python",
   "name": "python3"
  },
  "language_info": {
   "codemirror_mode": {
    "name": "ipython",
    "version": 3
   },
   "file_extension": ".py",
   "mimetype": "text/x-python",
   "name": "python",
   "nbconvert_exporter": "python",
   "pygments_lexer": "ipython3",
   "version": "3.6.1"
  }
 },
 "nbformat": 4,
 "nbformat_minor": 2
}
