{
 "cells": [
  {
   "cell_type": "markdown",
   "metadata": {},
   "source": [
    "# Chapte 7 - Input-Output Operations\n",
    "입출력 작업"
   ]
  },
  {
   "cell_type": "code",
   "execution_count": 1,
   "metadata": {
    "collapsed": true
   },
   "outputs": [],
   "source": [
    "# 기본 입출력 작업 : text, ndarray, SQL\n",
    "# pandas 모듈을 활용 : 상동 및 CSV, JSON을 추가적 가능\n",
    "# PyTable을 사용한 입출력 : HDF5 표준을 활용한 대규모 입출력 작업"
   ]
  },
  {
   "cell_type": "markdown",
   "metadata": {},
   "source": [
    "<br></br>\n",
    "## 1 기본 파이썬 입출력\n",
    "Input-Output Operations"
   ]
  },
  {
   "cell_type": "markdown",
   "metadata": {},
   "source": [
    "### 01 Pickle 객체 저장\n",
    "객체를 Disk에 저장하기"
   ]
  },
  {
   "cell_type": "code",
   "execution_count": 2,
   "metadata": {
    "collapsed": true
   },
   "outputs": [],
   "source": [
    "import numpy as np\n",
    "from random import gauss\n",
    "\n",
    "# 정규분포를 갖는 랜덤데이터를 생성한다\n",
    "a = [gauss(1.5, 2) for i in range(1000000)] "
   ]
  },
  {
   "cell_type": "code",
   "execution_count": 3,
   "metadata": {},
   "outputs": [
    {
     "name": "stdout",
     "output_type": "stream",
     "text": [
      "CPU times: user 0 ns, sys: 0 ns, total: 0 ns\n",
      "Wall time: 4.29 µs\n",
      "-rw-rw-r-- 1 markbaum markbaum 9002006  9월  4 11:29 ./data/data.pkl\r\n"
     ]
    }
   ],
   "source": [
    "%time\n",
    "import pickle\n",
    "path = './data/'\n",
    "with open(path + 'data.pkl', 'wb') as file:\n",
    "    pickle.dump(a, file)\n",
    "\n",
    "# 저장된 객체의 용량 9MB확인\n",
    "# http://www.mireene.com/webimg/linux_tip1.htm  # 리눅스 기본명령어\n",
    "! ls ./data/*.pkl -l"
   ]
  },
  {
   "cell_type": "code",
   "execution_count": 4,
   "metadata": {},
   "outputs": [
    {
     "name": "stdout",
     "output_type": "stream",
     "text": [
      "CPU times: user 0 ns, sys: 0 ns, total: 0 ns\n",
      "Wall time: 13.1 µs\n"
     ]
    }
   ],
   "source": [
    "# 저장된 객체 불러오기\n",
    "%time \n",
    "with open(path + 'data.pkl', 'rb') as file:\n",
    "    b = pickle.load(file)"
   ]
  },
  {
   "cell_type": "code",
   "execution_count": 5,
   "metadata": {},
   "outputs": [
    {
     "data": {
      "text/plain": [
       "True"
      ]
     },
     "execution_count": 5,
     "metadata": {},
     "output_type": "execute_result"
    }
   ],
   "source": [
    "# a (생성), b (불러옴) 객체간 동일여부를 확인한다\n",
    "np.allclose(np.array(a), np.array(b))"
   ]
  },
  {
   "cell_type": "markdown",
   "metadata": {},
   "source": [
    "### 02 Numpy를 활용한 Pickle 객체 저장\n",
    "by numpy"
   ]
  },
  {
   "cell_type": "code",
   "execution_count": 6,
   "metadata": {},
   "outputs": [
    {
     "name": "stdout",
     "output_type": "stream",
     "text": [
      "CPU times: user 28 ms, sys: 4 ms, total: 32 ms\n",
      "Wall time: 31.4 ms\n",
      "CPU times: user 24 ms, sys: 4 ms, total: 28 ms\n",
      "Wall time: 27.8 ms\n"
     ]
    }
   ],
   "source": [
    "# 2개 객체를 1개의 파일에 저장하기\n",
    "# np.array 모듈을 사용해서 속도가 빠르다\n",
    "# 2배 데이터로, 용량도 2배가 된다\n",
    "pkl_file = open(path + 'data.pkl', 'wb')  # open file for writing\n",
    "%time pickle.dump(np.array(a), pkl_file)  # a 객체를 np.array로 변환입력\n",
    "%time pickle.dump(np.array(a) ** 2, pkl_file) # 동일데이터 제곱을 입력\n",
    "pkl_file.close()"
   ]
  },
  {
   "cell_type": "code",
   "execution_count": 7,
   "metadata": {},
   "outputs": [
    {
     "name": "stdout",
     "output_type": "stream",
     "text": [
      "-rw-rw-r-- 1 markbaum markbaum 16000322  9월  4 11:29 ./data/data.pkl\r\n"
     ]
    }
   ],
   "source": [
    "# 다른 함수들과 같이 실행하면 syntex 오류가 발생한다 (주의!!)\n",
    "! ls ./data/*.pkl -l"
   ]
  },
  {
   "cell_type": "code",
   "execution_count": 8,
   "metadata": {},
   "outputs": [
    {
     "data": {
      "text/plain": [
       "array([ 1.70649082,  4.12848061,  3.39685536, ...,  3.6687107 ,\n",
       "        0.24022276, -0.07239309])"
      ]
     },
     "execution_count": 8,
     "metadata": {},
     "output_type": "execute_result"
    }
   ],
   "source": [
    "# 2개의 np.array가 저장되었음에도 1개만 출력\n",
    "pkl_file = open(path + 'data.pkl', 'rb')  # open file for reading\n",
    "x = pickle.load(pkl_file)\n",
    "x"
   ]
  },
  {
   "cell_type": "code",
   "execution_count": 9,
   "metadata": {},
   "outputs": [
    {
     "data": {
      "text/plain": [
       "array([  2.91211091e+00,   1.70443521e+01,   1.15386263e+01, ...,\n",
       "         1.34594382e+01,   5.77069768e-02,   5.24075991e-03])"
      ]
     },
     "execution_count": 9,
     "metadata": {},
     "output_type": "execute_result"
    }
   ],
   "source": [
    "# First In First Out\n",
    "# pickle.load()를 1번더 실행해야 2번쨰 객체가 출력\n",
    "# 데이터 구조를 알지 못하면 필요한 자료를 찾기 어렵다\n",
    "y = pickle.load(pkl_file)\n",
    "y"
   ]
  },
  {
   "cell_type": "code",
   "execution_count": 10,
   "metadata": {
    "collapsed": true
   },
   "outputs": [],
   "source": [
    "pkl_file.close()"
   ]
  },
  {
   "cell_type": "code",
   "execution_count": 11,
   "metadata": {
    "collapsed": true
   },
   "outputs": [],
   "source": [
    "# {'x' : x, 'y' : y} 의 dict 객체를 통해 데이터를 모두 저장\n",
    "pkl_file = open(path + 'data.pkl', 'wb')  # open file for writing\n",
    "pickle.dump({'x' : x, 'y' : y}, pkl_file)\n",
    "pkl_file.close()"
   ]
  },
  {
   "cell_type": "code",
   "execution_count": 12,
   "metadata": {},
   "outputs": [
    {
     "name": "stdout",
     "output_type": "stream",
     "text": [
      "x [ 1.70649082  4.12848061  3.39685536  3.65246595]\n",
      "y [  2.91211091  17.04435214  11.53862634  13.34050748]\n"
     ]
    }
   ],
   "source": [
    "# {dict} 을 통해 모든 데이터를 불러오기 가능하다\n",
    "pkl_file = open(path + 'data.pkl', 'rb')  # open file for writing\n",
    "data = pickle.load(pkl_file)\n",
    "pkl_file.close()\n",
    "for key in data.keys():\n",
    "    print(key, data[key][:4])"
   ]
  },
  {
   "cell_type": "markdown",
   "metadata": {},
   "source": [
    "### 02 텍스트 파일 읽고 쓰기\n",
    "Reading and Writing Text Files"
   ]
  },
  {
   "cell_type": "code",
   "execution_count": 13,
   "metadata": {},
   "outputs": [
    {
     "data": {
      "text/plain": [
       "array([[ 0.3806, -0.1565, -1.4968, -1.2179, -0.9513],\n",
       "       [-0.1281,  2.016 , -0.2718, -1.7224,  1.3798],\n",
       "       [-0.0967, -0.4376, -0.1043, -1.484 ,  0.4281],\n",
       "       ..., \n",
       "       [-0.1536,  1.3108,  1.0434,  0.1261,  0.3519],\n",
       "       [-1.6063,  0.7243, -1.3272, -1.4951,  1.44  ],\n",
       "       [-0.3295,  0.7337, -1.8692,  0.4136,  0.6614]])"
      ]
     },
     "execution_count": 13,
     "metadata": {},
     "output_type": "execute_result"
    }
   ],
   "source": [
    "import numpy as np\n",
    "rows = 5000\n",
    "a = np.random.standard_normal((rows, 5))  \n",
    "a.round(4) # 소숫점 4자리서 반올림"
   ]
  },
  {
   "cell_type": "code",
   "execution_count": 14,
   "metadata": {
    "collapsed": true
   },
   "outputs": [],
   "source": [
    "import pandas as pd\n",
    "t = pd.date_range(start='2014/1/1', periods=rows, freq='H')\n",
    "    # set of hourly datetime objects\n",
    "csv_file = open(path + 'data.csv', 'w')  # open file for writing"
   ]
  },
  {
   "cell_type": "code",
   "execution_count": 15,
   "metadata": {},
   "outputs": [
    {
     "data": {
      "text/plain": [
       "25"
      ]
     },
     "execution_count": 15,
     "metadata": {},
     "output_type": "execute_result"
    }
   ],
   "source": [
    "header = 'date,no1,no2,no3,no4,no5\\n'\n",
    "csv_file.write(header)"
   ]
  },
  {
   "cell_type": "code",
   "execution_count": 16,
   "metadata": {
    "collapsed": true
   },
   "outputs": [],
   "source": [
    "# 랜덤한 숫자와 날짜-시간 정보를 합쳐서 1줄씩 기록\n",
    "for t_, (no1, no2, no3, no4, no5) in zip(t, a):\n",
    "    s = '%s,%f,%f,%f,%f,%f\\n' % (t_, no1, no2, no3, no4, no5)\n",
    "    csv_file.write(s)\n",
    "csv_file.close()"
   ]
  },
  {
   "cell_type": "code",
   "execution_count": 17,
   "metadata": {},
   "outputs": [
    {
     "name": "stdout",
     "output_type": "stream",
     "text": [
      "date,no1,no2,no3,no4,no5\n",
      "2014-01-01 00:00:00,0.380571,-0.156497,-1.496833,-1.217939,-0.951262\n",
      "2014-01-01 01:00:00,-0.128092,2.015992,-0.271780,-1.722366,1.379821\n",
      "2014-01-01 02:00:00,-0.096663,-0.437576,-0.104265,-1.483974,0.428121\n",
      "2014-01-01 03:00:00,0.175604,-0.748875,0.454243,1.755248,-1.268272\n"
     ]
    }
   ],
   "source": [
    "# data.csv 저장한 파일 불러오기\n",
    "csv_file = open(path + 'data.csv', 'r') \n",
    "for i in range(5): # 전체 line 중 5줄만 읽기\n",
    "    print(csv_file.readline(), end='')"
   ]
  },
  {
   "cell_type": "code",
   "execution_count": 18,
   "metadata": {},
   "outputs": [
    {
     "name": "stdout",
     "output_type": "stream",
     "text": [
      "date,no1,no2,no3,no4,no5\n",
      "2014-01-01 00:00:00,0.380571,-0.156497,-1.496833,-1.217939,-0.951262\n",
      "2014-01-01 01:00:00,-0.128092,2.015992,-0.271780,-1.722366,1.379821\n",
      "2014-01-01 02:00:00,-0.096663,-0.437576,-0.104265,-1.483974,0.428121\n",
      "2014-01-01 03:00:00,0.175604,-0.748875,0.454243,1.755248,-1.268272\n"
     ]
    }
   ],
   "source": [
    "csv_file = open(path + 'data.csv', 'r')\n",
    "content = csv_file.readlines()\n",
    "for line in content[:5]:\n",
    "    print(line, end='')"
   ]
  },
  {
   "cell_type": "code",
   "execution_count": 19,
   "metadata": {
    "collapsed": true
   },
   "outputs": [],
   "source": [
    "csv_file.close()"
   ]
  },
  {
   "cell_type": "markdown",
   "metadata": {},
   "source": [
    "### 03 SQL 데이터베이스\n",
    "sqlite3"
   ]
  },
  {
   "cell_type": "code",
   "execution_count": 20,
   "metadata": {
    "collapsed": true
   },
   "outputs": [],
   "source": [
    "# DB와 연결을 설정\n",
    "import sqlite3\n",
    "con = sqlite3.connect(path + 'number.db')\n",
    "\n",
    "# Query 문 지정 및 실행\n",
    "query = 'Create Table numbs (Date date, No1 real, No2 real)'\n",
    "con.execute(query)   # execute : 명령입력\n",
    "con.commit()         # commit  : 입력시행 (범하다)"
   ]
  },
  {
   "cell_type": "code",
   "execution_count": 21,
   "metadata": {},
   "outputs": [
    {
     "data": {
      "text/plain": [
       "<sqlite3.Cursor at 0x7fa374086a40>"
      ]
     },
     "execution_count": 21,
     "metadata": {},
     "output_type": "execute_result"
    }
   ],
   "source": [
    "# input 01 : 테이블에 데이터 추가하기 : 1 줄 추가\n",
    "import datetime\n",
    "con.execute('Insert Into numbs  values(?,?,?)', (datetime.datetime.now(), 0.12, 7.3))"
   ]
  },
  {
   "cell_type": "code",
   "execution_count": 22,
   "metadata": {},
   "outputs": [
    {
     "name": "stdout",
     "output_type": "stream",
     "text": [
      "(10000, 2)\n"
     ]
    }
   ],
   "source": [
    "# input 02 : 10,000개 데이터를 생성후 입력하기\n",
    "data = np.random.standard_normal((10000, 2)).round(5)\n",
    "print(data.shape)\n",
    "for row in data:\n",
    "    con.execute('INSERT INTO numbs VALUES(?, ?, ?)',\n",
    "                (datetime.datetime.now(), row[0], row[1]))\n",
    "con.commit()"
   ]
  },
  {
   "cell_type": "code",
   "execution_count": 23,
   "metadata": {},
   "outputs": [
    {
     "data": {
      "text/plain": [
       "[('2017-09-04 11:29:29.815855', 0.12, 7.3),\n",
       " ('2017-09-04 11:29:29.823753', 1.21111, 0.86575),\n",
       " ('2017-09-04 11:29:29.823826', 0.31321, -1.06475),\n",
       " ('2017-09-04 11:29:29.823840', -1.77909, -1.54526)]"
      ]
     },
     "execution_count": 23,
     "metadata": {},
     "output_type": "execute_result"
    }
   ],
   "source": [
    "# load 01 : 저장한 데이터 불러오기\n",
    "con.execute('SELECT * FROM numbs').fetchmany(4)"
   ]
  },
  {
   "cell_type": "code",
   "execution_count": 24,
   "metadata": {},
   "outputs": [
    {
     "name": "stdout",
     "output_type": "stream",
     "text": [
      "('2017-09-04 11:29:29.815855', 7.3)\n",
      "('2017-09-04 11:29:29.823753', 0.86575)\n",
      "('2017-09-04 11:29:29.823826', -1.06475)\n"
     ]
    }
   ],
   "source": [
    "# load 02 : 한번에 특정 column 만 호출\n",
    "pointer = con.execute('SELECT   Date, No2   FROM numbs')\n",
    "for i in range(3):\n",
    "    print(pointer.fetchone())"
   ]
  },
  {
   "cell_type": "code",
   "execution_count": 25,
   "metadata": {
    "collapsed": true
   },
   "outputs": [],
   "source": [
    "con.close()\n",
    "!rm ./data/number.db"
   ]
  },
  {
   "cell_type": "markdown",
   "metadata": {},
   "source": [
    "### 03 Numpy 활용, 자료형 정의하기\n",
    "numpy 의 dtype를 지정하면 Sqlite의 자료형 변환의 수고를 덜어준다"
   ]
  },
  {
   "cell_type": "code",
   "execution_count": 26,
   "metadata": {},
   "outputs": [
    {
     "data": {
      "text/plain": [
       "3681360"
      ]
     },
     "execution_count": 26,
     "metadata": {},
     "output_type": "execute_result"
    }
   ],
   "source": [
    "# 필드별 데이터타입 정의하기\n",
    "import numpy as np\n",
    "# 날짜데이터로 기준 index 생성하기\n",
    "dtimes = np.arange('2015-01-01 10:00:00', '2021-12-31 22:00:00',\n",
    "                  dtype='datetime64[m]')  # 분 단위로 index를 생성 (minute intervals)\n",
    "len(dtimes)"
   ]
  },
  {
   "cell_type": "code",
   "execution_count": 27,
   "metadata": {},
   "outputs": [
    {
     "data": {
      "text/plain": [
       "array([[ 0.,  0.,  0.,  0.],\n",
       "       [ 0.,  0.,  0.,  0.],\n",
       "       [ 0.,  0.,  0.,  0.],\n",
       "       [ 0.,  0.,  0.,  0.]])"
      ]
     },
     "execution_count": 27,
     "metadata": {},
     "output_type": "execute_result"
    }
   ],
   "source": [
    "np.zeros([4,4])"
   ]
  },
  {
   "cell_type": "code",
   "execution_count": 28,
   "metadata": {},
   "outputs": [
    {
     "data": {
      "text/plain": [
       "array([('1970-01-01T00:00',  0.,  0.), ('1970-01-01T00:00',  0.,  0.),\n",
       "       ('1970-01-01T00:00',  0.,  0.), ..., ('1970-01-01T00:00',  0.,  0.),\n",
       "       ('1970-01-01T00:00',  0.,  0.), ('1970-01-01T00:00',  0.,  0.)],\n",
       "      dtype=[('Date', '<M8[m]'), ('No1', '<f4'), ('No2', '<f4')])"
      ]
     },
     "execution_count": 28,
     "metadata": {},
     "output_type": "execute_result"
    }
   ],
   "source": [
    "d_ty = np.dtype([('Date', 'datetime64[m]'), ('No1', 'f'), ('No2', 'f')])\n",
    "# zero array 생성 (datetime의 0을 입력하니까, 모든 데이터가 1970-1-1로 치환되어 입력)\n",
    "# 전체 3컬럼 중, 첫번쨰 컬럼에 내용이 삽입\n",
    "data = np.zeros(len(dtimes), dtype = d_ty); data "
   ]
  },
  {
   "cell_type": "code",
   "execution_count": 29,
   "metadata": {},
   "outputs": [
    {
     "data": {
      "text/plain": [
       "array([('2015-01-01T10:00',  0.,  0.), ('2015-01-01T10:01',  0.,  0.),\n",
       "       ('2015-01-01T10:02',  0.,  0.), ..., ('2021-12-31T21:57',  0.,  0.),\n",
       "       ('2021-12-31T21:58',  0.,  0.), ('2021-12-31T21:59',  0.,  0.)],\n",
       "      dtype=[('Date', '<M8[m]'), ('No1', '<f4'), ('No2', '<f4')])"
      ]
     },
     "execution_count": 29,
     "metadata": {},
     "output_type": "execute_result"
    }
   ],
   "source": [
    "# zero 데이터 영역에 dtime 객체로 치환\n",
    "data['Date'] = dtimes; data"
   ]
  },
  {
   "cell_type": "code",
   "execution_count": 30,
   "metadata": {},
   "outputs": [
    {
     "data": {
      "text/plain": [
       "array([('2015-01-01T10:00', -0.99307001,  0.60544002),\n",
       "       ('2015-01-01T10:01',  0.59921002, -0.22319999),\n",
       "       ('2015-01-01T10:02', -2.08380008, -1.64101005), ...,\n",
       "       ('2021-12-31T21:57', -0.46145999,  1.37346995),\n",
       "       ('2021-12-31T21:58', -0.91083997,  1.70670998),\n",
       "       ('2021-12-31T21:59', -0.1596    ,  0.22825   )],\n",
       "      dtype=[('Date', '<M8[m]'), ('No1', '<f4'), ('No2', '<f4')])"
      ]
     },
     "execution_count": 30,
     "metadata": {},
     "output_type": "execute_result"
    }
   ],
   "source": [
    "# 기타 column 데이터 입력하기\n",
    "a = np.random.standard_normal((len(dtimes), 2)).round(5)\n",
    "data['No1'] = a[:, 0] # 생성한 난수의 0 컬럼을 No1에 입력\n",
    "data['No2'] = a[:, 1] # 생성한 난수의 1 컬럼을 No1에 입력\n",
    "data"
   ]
  },
  {
   "cell_type": "code",
   "execution_count": 43,
   "metadata": {},
   "outputs": [
    {
     "name": "stdout",
     "output_type": "stream",
     "text": [
      "CPU times: user 4 ms, sys: 44 ms, total: 48 ms\n",
      "Wall time: 45.9 ms\n",
      "-rw-rw-r-- 1 markbaum markbaum 58901888  9월  4 11:32 ./data/array.npy\r\n"
     ]
    }
   ],
   "source": [
    "# 59Mb 임에도 속도가 빠르다\n",
    "%time np.save(path + 'array', data)  # array .npy 로 저장된다\n",
    "!ls ./data/*.npy -l"
   ]
  },
  {
   "cell_type": "code",
   "execution_count": 44,
   "metadata": {},
   "outputs": [
    {
     "name": "stdout",
     "output_type": "stream",
     "text": [
      "CPU times: user 0 ns, sys: 16 ms, total: 16 ms\n",
      "Wall time: 14.7 ms\n"
     ]
    },
    {
     "data": {
      "text/plain": [
       "array([('2015-01-01T10:00', -0.99307001,  0.60544002),\n",
       "       ('2015-01-01T10:01',  0.59921002, -0.22319999),\n",
       "       ('2015-01-01T10:02', -2.08380008, -1.64101005), ...,\n",
       "       ('2021-12-31T21:57', -0.46145999,  1.37346995),\n",
       "       ('2021-12-31T21:58', -0.91083997,  1.70670998),\n",
       "       ('2021-12-31T21:59', -0.1596    ,  0.22825   )],\n",
       "      dtype=[('Date', '<M8[m]'), ('No1', '<f4'), ('No2', '<f4')])"
      ]
     },
     "execution_count": 44,
     "metadata": {},
     "output_type": "execute_result"
    }
   ],
   "source": [
    "# numpy 객체 불러오기\n",
    "%time np.load(path + 'array.npy')"
   ]
  },
  {
   "cell_type": "code",
   "execution_count": 46,
   "metadata": {},
   "outputs": [
    {
     "name": "stdout",
     "output_type": "stream",
     "text": [
      "CPU times: user 4 ms, sys: 20 ms, total: 24 ms\n",
      "Wall time: 22.1 ms\n",
      "-rw-rw-r-- 1 markbaum markbaum 58901888  9월  4 11:32 ./data/array.npy\r\n",
      "-rw-rw-r-- 1 markbaum markbaum 48000080  9월  4 11:36 ./data/array_big.npy\r\n"
     ]
    }
   ],
   "source": [
    "# 대용량 데이터 저장 및 불러오기\n",
    "# 거의 시스템 속도만큼 즉각 저장이 가능하다 \n",
    "data = np.random.standard_normal((1000, 6000))\n",
    "%time np.save(path + 'array_big', data)\n",
    "!ls ./data/*.npy -l"
   ]
  },
  {
   "cell_type": "code",
   "execution_count": 47,
   "metadata": {
    "collapsed": true
   },
   "outputs": [],
   "source": [
    "! rm ./data/*.npy\n",
    "# 결론\n",
    "# pickle 및 SQL 보다 더 속도가 빠른반면, SQL의 기능을 활용할 수 없다\n",
    "# SQL기능을 보완가능한 Pandas (Pytable 라이브러리)를 활용하면 유용하다"
   ]
  },
  {
   "cell_type": "markdown",
   "metadata": {},
   "source": [
    "<br></br>\n",
    "## 2 pandas 를 활용한 사용자 입출력\n",
    "pandas 라이브러리"
   ]
  },
  {
   "cell_type": "code",
   "execution_count": null,
   "metadata": {
    "collapsed": true
   },
   "outputs": [],
   "source": []
  },
  {
   "cell_type": "code",
   "execution_count": null,
   "metadata": {
    "collapsed": true
   },
   "outputs": [],
   "source": []
  },
  {
   "cell_type": "code",
   "execution_count": null,
   "metadata": {
    "collapsed": true
   },
   "outputs": [],
   "source": []
  },
  {
   "cell_type": "code",
   "execution_count": null,
   "metadata": {
    "collapsed": true
   },
   "outputs": [],
   "source": []
  }
 ],
 "metadata": {
  "kernelspec": {
   "display_name": "Python 3",
   "language": "python",
   "name": "python3"
  },
  "language_info": {
   "codemirror_mode": {
    "name": "ipython",
    "version": 3
   },
   "file_extension": ".py",
   "mimetype": "text/x-python",
   "name": "python",
   "nbconvert_exporter": "python",
   "pygments_lexer": "ipython3",
   "version": "3.6.1"
  }
 },
 "nbformat": 4,
 "nbformat_minor": 2
}
