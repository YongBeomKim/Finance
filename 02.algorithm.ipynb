{
 "cells": [
  {
   "cell_type": "markdown",
   "metadata": {},
   "source": [
    "# <strong>알고리즘 트레이딩\n",
    "## <strong>알고리즘 트레이딩</strong> 소개 "
   ]
  },
  {
   "cell_type": "markdown",
   "metadata": {},
   "source": [
    "<br>\n",
    "## <strong>통계적 차익거래</strong> statistical Arbitrage \n",
    "1. <strong>Pairs Trading</strong>(에드워드 소프) : 상관관계가 높은 주식간의 Spread를 통계분석/Hedge전략으로 매수/매도\n",
    "  1. ex) 간격이 급격히 벌어지면 가격이 낮은 종목을 사고, 일정 간격이상 가까워 지면 판다\n",
    "<p><img src=\"http://3.bp.blogspot.com/-D6OE7p20dj8/TrIKVzj9ruI/AAAAAAAAAAU/yNivE6bEBtM/s1600/graph.jpg\" align=\"left\" width=\"500\"></p><br>"
   ]
  },
  {
   "cell_type": "markdown",
   "metadata": {},
   "source": [
    "http://thelazytrader.com/articles/learn-to-trade/how-to-make-money-trend-following/\n",
    "2. <strong>Trend Following</strong> (제임스 해리스 사이먼스) : <strong>Renaissance Tech</strong>를 운영하며 수많은 과거 데이터를 수집/분석 후 <strong>반복된 공식</strong>에 따라 운영\n",
    "   1. 직원 대부분을 수학자, 물리학자, 천문학자, 컴퓨터과학자 등으로 구성하여 오직 수학적 분석에 따른 알고리즘을 개발한다\n",
    "\n",
    "<div><img src=\"http://thelazytrader.com/wp-content/uploads/2013/05/bullish-cyclicity-copy.jpg\" align=\"left\" width=\"400\"></div>\n",
    "<div><img src=\"http://thelazytrader.com/wp-content/uploads/2013/05/bearish-cyclicity-copy1.jpg\" align=\"left\" width=\"450\"></div>"
   ]
  },
  {
   "cell_type": "markdown",
   "metadata": {},
   "source": [
    "3. <strong>Citadel 해지펀드</strong> (케네스 그리핀) : 경제학과 출신으로 수학과, 컴퓨터 IT기술을 활용하여 모델개발/검증/거래를 자동화\n",
    "<img src=\"http://www.tradingandinvestmentnews.co.uk/wp-content/uploads/2016/05/citadel.jpg\" align=\"left\" width=\"600\">"
   ]
  },
  {
   "cell_type": "markdown",
   "metadata": {},
   "source": [
    "## <strong> 1 알고리즘 트레이딩 모델\n"
   ]
  },
  {
   "cell_type": "code",
   "execution_count": null,
   "metadata": {
    "collapsed": true
   },
   "outputs": [],
   "source": []
  },
  {
   "cell_type": "code",
   "execution_count": null,
   "metadata": {
    "collapsed": true
   },
   "outputs": [],
   "source": []
  },
  {
   "cell_type": "code",
   "execution_count": null,
   "metadata": {
    "collapsed": true
   },
   "outputs": [],
   "source": []
  },
  {
   "cell_type": "code",
   "execution_count": null,
   "metadata": {
    "collapsed": true
   },
   "outputs": [],
   "source": []
  }
 ],
 "metadata": {
  "kernelspec": {
   "display_name": "Python 3",
   "language": "python",
   "name": "python3"
  },
  "language_info": {
   "codemirror_mode": {
    "name": "ipython",
    "version": 3
   },
   "file_extension": ".py",
   "mimetype": "text/x-python",
   "name": "python",
   "nbconvert_exporter": "python",
   "pygments_lexer": "ipython3",
   "version": "3.6.1"
  }
 },
 "nbformat": 4,
 "nbformat_minor": 2
}
