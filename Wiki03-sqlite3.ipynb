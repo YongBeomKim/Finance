{
 "cells": [
  {
   "cell_type": "markdown",
   "metadata": {},
   "source": [
    "# Sqlite3"
   ]
  },
  {
   "cell_type": "markdown",
   "metadata": {},
   "source": [
    "## Introduction"
   ]
  },
  {
   "cell_type": "code",
   "execution_count": 1,
   "metadata": {},
   "outputs": [
    {
     "name": "stdout",
     "output_type": "stream",
     "text": [
      "2.6.0\n",
      "3.16.2\n",
      "<class 'sqlite3.Connection'>\n"
     ]
    },
    {
     "data": {
      "text/plain": [
       "<module 'collections' from '/home/markbaum/Python/python36/lib/python3.6/collections/__init__.py'>"
      ]
     },
     "execution_count": 1,
     "metadata": {},
     "output_type": "execute_result"
    }
   ],
   "source": [
    "import sqlite3\n",
    "print(sqlite3.version)\n",
    "print(sqlite3.sqlite_version)\n",
    "con = sqlite3.connect('./sqlite.db')\n",
    "print(type(con))\n",
    "sqlite3.collections"
   ]
  },
  {
   "cell_type": "markdown",
   "metadata": {
    "collapsed": true
   },
   "source": [
    "## Cursor\n",
    "데이터 작성하기"
   ]
  },
  {
   "cell_type": "code",
   "execution_count": 2,
   "metadata": {
    "collapsed": true
   },
   "outputs": [],
   "source": [
    "# SQL 구문을 호충\n",
    "con = sqlite3.connect('./sqlite.db')\n",
    "cursor = con.cursor()"
   ]
  },
  {
   "cell_type": "code",
   "execution_count": 3,
   "metadata": {},
   "outputs": [
    {
     "data": {
      "text/plain": [
       "<sqlite3.Cursor at 0x7fad3823d5e0>"
      ]
     },
     "execution_count": 3,
     "metadata": {},
     "output_type": "execute_result"
    }
   ],
   "source": [
    "# 테이블 생성 및 내용 2줄 추가 (Python Coding)\n",
    "cursor.execute(\"create Table KAKAO (Data text, Open int, High int, Low int, Close int, Volumn int)\")\n",
    "cursor.execute(\"INSERT INTO KAKAO Values('16.06.03', 97000, 98600, 96900, 98000, 321405)\")\n",
    "cursor.execute(\"INSERT INTO KAKAO Values('16.06.02', 95000, 94600, 91900, 96000, 121405)\")"
   ]
  },
  {
   "cell_type": "code",
   "execution_count": 6,
   "metadata": {
    "collapsed": true
   },
   "outputs": [],
   "source": [
    "# 지금까지 수정한 내용을 DB에 반영 (saaving from Python to Sqlite)\n",
    "con.commit()\n",
    "con.close()"
   ]
  },
  {
   "cell_type": "markdown",
   "metadata": {},
   "source": [
    "## Cursor 2\n",
    "데이터 불러오기"
   ]
  },
  {
   "cell_type": "code",
   "execution_count": 8,
   "metadata": {
    "collapsed": true
   },
   "outputs": [],
   "source": [
    "# SQL 구문을 호충\n",
    "import sqlite3\n",
    "con = sqlite3.connect('./sqlite.db')\n",
    "cursor = con.cursor()"
   ]
  },
  {
   "cell_type": "code",
   "execution_count": 9,
   "metadata": {},
   "outputs": [
    {
     "data": {
      "text/plain": [
       "<sqlite3.Cursor at 0x7fad3823d650>"
      ]
     },
     "execution_count": 9,
     "metadata": {},
     "output_type": "execute_result"
    }
   ],
   "source": [
    "# Row 단위로 데이터 호출\n",
    "cursor.execute(\"SELECT * From KAKAO\")\n",
    "cursor.fetchone()"
   ]
  },
  {
   "cell_type": "code",
   "execution_count": 13,
   "metadata": {},
   "outputs": [
    {
     "data": {
      "text/plain": [
       "[('16.06.03', 97000, 98600, 96900, 98000, 321405),\n",
       " ('16.06.02', 95000, 94600, 91900, 96000, 121405)]"
      ]
     },
     "execution_count": 13,
     "metadata": {},
     "output_type": "execute_result"
    }
   ],
   "source": [
    "# Row 전체를 불러오기\n",
    "cursor.execute(\"SELECT * From KAKAO\") # 테이블 커서를 초기화 (맨 위로 회귀)\n",
    "cursor.fetchall()"
   ]
  },
  {
   "cell_type": "markdown",
   "metadata": {},
   "source": [
    "## Indexing and Slicing\n",
    "데이터 가공하기"
   ]
  },
  {
   "cell_type": "code",
   "execution_count": 14,
   "metadata": {},
   "outputs": [
    {
     "data": {
      "text/plain": [
       "'16.06.03'"
      ]
     },
     "execution_count": 14,
     "metadata": {},
     "output_type": "execute_result"
    }
   ],
   "source": [
    "# Row 전체를 불러온 뒤 indexing\n",
    "# 한 테이블의 데이터를 자유자재로 타루기에 용이하다\n",
    "cursor.execute(\"SELECT * From KAKAO\") # 테이블 커서를 초기화 (맨 위로 회귀)\n",
    "kakao = cursor.fetchall()\n",
    "kakao[0][0]  # [row] [column]"
   ]
  },
  {
   "cell_type": "code",
   "execution_count": 16,
   "metadata": {},
   "outputs": [
    {
     "data": {
      "text/plain": [
       "(97000, 98600, 96900, 98000, 321405)"
      ]
     },
     "execution_count": 16,
     "metadata": {},
     "output_type": "execute_result"
    }
   ],
   "source": [
    "kakao[0][1:]"
   ]
  },
  {
   "cell_type": "markdown",
   "metadata": {},
   "source": [
    "## Pandas \n",
    "by sqlite3\n",
    "- https://stackoverflow.com/questions/24189150/pandas-writing-dataframe-to-other-postgresql-schema"
   ]
  },
  {
   "cell_type": "markdown",
   "metadata": {},
   "source": [
    "### Writing Data\n",
    "by Pandas"
   ]
  },
  {
   "cell_type": "code",
   "execution_count": 20,
   "metadata": {},
   "outputs": [
    {
     "data": {
      "text/html": [
       "<div>\n",
       "<table border=\"1\" class=\"dataframe\">\n",
       "  <thead>\n",
       "    <tr style=\"text-align: right;\">\n",
       "      <th></th>\n",
       "      <th>col0</th>\n",
       "      <th>col1</th>\n",
       "      <th>col2</th>\n",
       "    </tr>\n",
       "  </thead>\n",
       "  <tbody>\n",
       "    <tr>\n",
       "      <th>0</th>\n",
       "      <td>1</td>\n",
       "      <td>10</td>\n",
       "      <td>100</td>\n",
       "    </tr>\n",
       "    <tr>\n",
       "      <th>1</th>\n",
       "      <td>2</td>\n",
       "      <td>20</td>\n",
       "      <td>200</td>\n",
       "    </tr>\n",
       "    <tr>\n",
       "      <th>2</th>\n",
       "      <td>3</td>\n",
       "      <td>30</td>\n",
       "      <td>300</td>\n",
       "    </tr>\n",
       "    <tr>\n",
       "      <th>3</th>\n",
       "      <td>4</td>\n",
       "      <td>40</td>\n",
       "      <td>400</td>\n",
       "    </tr>\n",
       "  </tbody>\n",
       "</table>\n",
       "</div>"
      ],
      "text/plain": [
       "   col0  col1  col2\n",
       "0     1    10   100\n",
       "1     2    20   200\n",
       "2     3    30   300\n",
       "3     4    40   400"
      ]
     },
     "execution_count": 20,
     "metadata": {},
     "output_type": "execute_result"
    }
   ],
   "source": [
    "import pandas as pd\n",
    "from pandas import Series, DataFrame\n",
    "raw_data = {'col0':[1,2,3,4], 'col1':[10,20,30,40], 'col2':[100,200,300,400]}\n",
    "df = DataFrame(raw_data); df"
   ]
  },
  {
   "cell_type": "code",
   "execution_count": 22,
   "metadata": {
    "collapsed": true
   },
   "outputs": [],
   "source": [
    "import sqlite3\n",
    "con = sqlite3.connect(\"./sqlite.db\")\n",
    "df.to_sql('test',con)  # Pandas 에서 바로 연결되어서 저장"
   ]
  },
  {
   "cell_type": "markdown",
   "metadata": {},
   "source": [
    "### Reading Data\n",
    "by Pandas"
   ]
  },
  {
   "cell_type": "code",
   "execution_count": 26,
   "metadata": {},
   "outputs": [
    {
     "data": {
      "text/html": [
       "<div>\n",
       "<table border=\"1\" class=\"dataframe\">\n",
       "  <thead>\n",
       "    <tr style=\"text-align: right;\">\n",
       "      <th></th>\n",
       "      <th>Data</th>\n",
       "      <th>Open</th>\n",
       "      <th>High</th>\n",
       "      <th>Low</th>\n",
       "      <th>Close</th>\n",
       "      <th>Volumn</th>\n",
       "    </tr>\n",
       "  </thead>\n",
       "  <tbody>\n",
       "    <tr>\n",
       "      <th>0</th>\n",
       "      <td>16.06.03</td>\n",
       "      <td>97000</td>\n",
       "      <td>98600</td>\n",
       "      <td>96900</td>\n",
       "      <td>98000</td>\n",
       "      <td>321405</td>\n",
       "    </tr>\n",
       "    <tr>\n",
       "      <th>1</th>\n",
       "      <td>16.06.02</td>\n",
       "      <td>95000</td>\n",
       "      <td>94600</td>\n",
       "      <td>91900</td>\n",
       "      <td>96000</td>\n",
       "      <td>121405</td>\n",
       "    </tr>\n",
       "  </tbody>\n",
       "</table>\n",
       "</div>"
      ],
      "text/plain": [
       "       Data   Open   High    Low  Close  Volumn\n",
       "0  16.06.03  97000  98600  96900  98000  321405\n",
       "1  16.06.02  95000  94600  91900  96000  121405"
      ]
     },
     "execution_count": 26,
     "metadata": {},
     "output_type": "execute_result"
    }
   ],
   "source": [
    "df = pd.read_sql(\"Select * from KAKAO\", con, index_col=None)\n",
    "df  # Index 값이 추가된 테이블이 생성"
   ]
  },
  {
   "cell_type": "code",
   "execution_count": 27,
   "metadata": {},
   "outputs": [
    {
     "data": {
      "text/html": [
       "<div>\n",
       "<table border=\"1\" class=\"dataframe\">\n",
       "  <thead>\n",
       "    <tr style=\"text-align: right;\">\n",
       "      <th></th>\n",
       "      <th>index</th>\n",
       "      <th>col0</th>\n",
       "      <th>col1</th>\n",
       "      <th>col2</th>\n",
       "    </tr>\n",
       "  </thead>\n",
       "  <tbody>\n",
       "    <tr>\n",
       "      <th>0</th>\n",
       "      <td>0</td>\n",
       "      <td>1</td>\n",
       "      <td>10</td>\n",
       "      <td>100</td>\n",
       "    </tr>\n",
       "    <tr>\n",
       "      <th>1</th>\n",
       "      <td>1</td>\n",
       "      <td>2</td>\n",
       "      <td>20</td>\n",
       "      <td>200</td>\n",
       "    </tr>\n",
       "    <tr>\n",
       "      <th>2</th>\n",
       "      <td>2</td>\n",
       "      <td>3</td>\n",
       "      <td>30</td>\n",
       "      <td>300</td>\n",
       "    </tr>\n",
       "    <tr>\n",
       "      <th>3</th>\n",
       "      <td>3</td>\n",
       "      <td>4</td>\n",
       "      <td>40</td>\n",
       "      <td>400</td>\n",
       "    </tr>\n",
       "  </tbody>\n",
       "</table>\n",
       "</div>"
      ],
      "text/plain": [
       "   index  col0  col1  col2\n",
       "0      0     1    10   100\n",
       "1      1     2    20   200\n",
       "2      2     3    30   300\n",
       "3      3     4    40   400"
      ]
     },
     "execution_count": 27,
     "metadata": {},
     "output_type": "execute_result"
    }
   ],
   "source": [
    "df = pd.read_sql(\"Select * from test\", con, index_col=None)\n",
    "df  # Index 값이 추가된 테이블이 생성"
   ]
  },
  {
   "cell_type": "markdown",
   "metadata": {},
   "source": [
    "### Sqlite with Stock Data\n",
    "by Pandas"
   ]
  },
  {
   "cell_type": "code",
   "execution_count": 13,
   "metadata": {},
   "outputs": [
    {
     "name": "stdout",
     "output_type": "stream",
     "text": [
      "                Open      High       Low     Close  Volume\n",
      "Date                                                      \n",
      "2010-01-04  803000.0  809000.0  800000.0  809000.0  233324\n",
      "2010-01-05  826000.0  829000.0  815000.0  822000.0  531612\n",
      "2010-01-06  829000.0  841000.0  826000.0  841000.0  452442\n",
      "2010-01-07  841000.0  841000.0  813000.0  813000.0  428015\n",
      "2010-01-08  820000.0  821000.0  806000.0  821000.0  291154\n"
     ]
    }
   ],
   "source": [
    "from pandas_datareader import get_data_google\n",
    "df = get_data_google(\"KRX:005930\", '2010-1-1', '2017-7-10')\n",
    "print(df.head())"
   ]
  },
  {
   "cell_type": "code",
   "execution_count": 14,
   "metadata": {
    "collapsed": true
   },
   "outputs": [],
   "source": [
    "# Connect to Write Sqlite3\n",
    "con = sqlite3.connect('./sqlite.db')\n",
    "df.to_sql('삼성전자', con, if_exists = 'replace') # 기존 자료를 지우고 새롭게 저장"
   ]
  },
  {
   "cell_type": "markdown",
   "metadata": {},
   "source": [
    "    if_exists = \n",
    "    - fail: (기존 자료가 있으면 저장하지 않는다) If table exists, do nothing.\n",
    "    - replace: (지우고 새롭게 저장) If table exists, drop it, recreate it, and insert data.\n",
    "    - append: (내용을 추가) If table exists, insert data. Create if does not exist."
   ]
  },
  {
   "cell_type": "code",
   "execution_count": 6,
   "metadata": {},
   "outputs": [
    {
     "name": "stdout",
     "output_type": "stream",
     "text": [
      "                          Open       High        Low      Close  Volume\n",
      "Date                                                                   \n",
      "2017-07-07 00:00:00  2387000.0  2406000.0  2381000.0  2393000.0  160473\n",
      "2017-07-10 00:00:00  2425000.0  2445000.0  2416000.0  2433000.0  211575\n",
      "2017-07-11 00:00:00  2432000.0  2450000.0  2414000.0  2450000.0  191701\n",
      "2017-07-12 00:00:00  2450000.0  2500000.0  2442000.0  2494000.0  188641\n",
      "2017-07-13 00:00:00  2504000.0  2547000.0  2502000.0  2528000.0  308691\n"
     ]
    }
   ],
   "source": [
    "# Connect to Read Sqlite3\n",
    "read_df = pd.read_sql(\"select * from '삼성전자'\",con , index_col='Date')\n",
    "print(read_df.tail(5))"
   ]
  },
  {
   "cell_type": "markdown",
   "metadata": {},
   "source": [
    "### Appending the Data\n",
    "by Pandas\n",
    "- 새로운 데이터만 추가해보기\n",
    "https://www.ryanbaumann.com/blog/2016/4/30/python-pandas-tosql-only-insert-new-rows"
   ]
  },
  {
   "cell_type": "code",
   "execution_count": 25,
   "metadata": {},
   "outputs": [
    {
     "name": "stdout",
     "output_type": "stream",
     "text": [
      "                 Open       High        Low      Close  Volume\n",
      "Date                                                          \n",
      "2017-07-10  2425000.0  2445000.0  2416000.0  2433000.0  211575\n",
      "2017-07-11  2432000.0  2450000.0  2414000.0  2450000.0  191701\n",
      "2017-07-12  2450000.0  2500000.0  2442000.0  2494000.0  188641\n",
      "2017-07-13  2504000.0  2547000.0  2502000.0  2528000.0  308691\n"
     ]
    }
   ],
   "source": [
    "from pandas_datareader import get_data_google\n",
    "df = get_data_google(\"KRX:005930\", '2017-7-10', '2017-7-14')\n",
    "print(df.head())"
   ]
  },
  {
   "cell_type": "code",
   "execution_count": 16,
   "metadata": {
    "collapsed": true
   },
   "outputs": [],
   "source": [
    "# Connect to Write Sqlite3\n",
    "con = sqlite3.connect('./sqlite.db')\n",
    "df.to_sql('삼성전자', con, if_exists = 'append')"
   ]
  },
  {
   "cell_type": "code",
   "execution_count": 28,
   "metadata": {},
   "outputs": [
    {
     "name": "stdout",
     "output_type": "stream",
     "text": [
      "                          Open       High        Low      Close  Volume\n",
      "Date                                                                   \n",
      "2017-06-07 00:00:00  2325000.0  2325000.0  2262000.0  2265000.0  243638\n",
      "2017-06-08 00:00:00  2250000.0  2279000.0  2250000.0  2258000.0  274158\n",
      "2017-06-09 00:00:00  2284000.0  2322000.0  2280000.0  2305000.0  227782\n",
      "2017-06-12 00:00:00  2271000.0  2280000.0  2257000.0  2269000.0  217181\n",
      "2017-06-13 00:00:00  2257000.0  2281000.0  2257000.0  2270000.0  167722\n",
      "2017-06-14 00:00:00  2290000.0  2303000.0  2262000.0  2268000.0  194743\n",
      "2017-06-15 00:00:00  2284000.0  2296000.0  2259000.0  2284000.0  182884\n",
      "2017-06-16 00:00:00  2275000.0  2297000.0  2273000.0  2279000.0  301134\n",
      "2017-06-19 00:00:00  2279000.0  2328000.0  2278000.0  2328000.0  212538\n",
      "2017-06-20 00:00:00  2362000.0  2407000.0  2361000.0  2407000.0  296577\n",
      "2017-06-21 00:00:00  2387000.0  2406000.0  2374000.0  2374000.0  192556\n",
      "2017-06-22 00:00:00  2398000.0  2404000.0  2386000.0  2398000.0  178242\n",
      "2017-06-23 00:00:00  2380000.0  2389000.0  2371000.0  2381000.0  172622\n",
      "2017-06-26 00:00:00  2376000.0  2418000.0  2376000.0  2414000.0  160857\n",
      "2017-06-27 00:00:00  2411000.0  2420000.0  2395000.0  2415000.0  187532\n",
      "2017-06-28 00:00:00  2380000.0  2400000.0  2378000.0  2385000.0  188156\n",
      "2017-06-29 00:00:00  2402000.0  2416000.0  2397000.0  2397000.0  159859\n",
      "2017-06-30 00:00:00  2375000.0  2381000.0  2355000.0  2377000.0  234972\n",
      "2017-07-03 00:00:00  2375000.0  2389000.0  2356000.0  2361000.0  135870\n",
      "2017-07-04 00:00:00  2358000.0  2370000.0  2345000.0  2350000.0  157562\n",
      "2017-07-05 00:00:00  2341000.0  2384000.0  2339000.0  2379000.0  194505\n",
      "2017-07-06 00:00:00  2400000.0  2405000.0  2386000.0  2403000.0  210773\n",
      "2017-07-07 00:00:00  2387000.0  2406000.0  2381000.0  2393000.0  160473\n",
      "2017-07-10 00:00:00  2425000.0  2445000.0  2416000.0  2433000.0  211575\n",
      "2017-07-03 00:00:00  2375000.0  2389000.0  2356000.0  2361000.0  135870\n",
      "2017-07-04 00:00:00  2358000.0  2370000.0  2345000.0  2350000.0  157562\n",
      "2017-07-05 00:00:00  2341000.0  2384000.0  2339000.0  2379000.0  194505\n",
      "2017-07-06 00:00:00  2400000.0  2405000.0  2386000.0  2403000.0  210773\n",
      "2017-07-07 00:00:00  2387000.0  2406000.0  2381000.0  2393000.0  160473\n",
      "2017-07-10 00:00:00  2425000.0  2445000.0  2416000.0  2433000.0  211575\n",
      "2017-07-11 00:00:00  2432000.0  2450000.0  2414000.0  2450000.0  191701\n",
      "2017-07-12 00:00:00  2450000.0  2500000.0  2442000.0  2494000.0  188641\n",
      "2017-07-13 00:00:00  2504000.0  2547000.0  2502000.0  2528000.0  308691\n",
      "NaN                  2425000.0  2445000.0  2416000.0  2433000.0  211575\n",
      "NaN                  2432000.0  2450000.0  2414000.0  2450000.0  191701\n",
      "NaN                  2450000.0  2500000.0  2442000.0  2494000.0  188641\n",
      "NaN                  2504000.0  2547000.0  2502000.0  2528000.0  308691\n",
      "2017-07-10 00:00:00  2425000.0  2445000.0  2416000.0  2433000.0  211575\n",
      "2017-07-11 00:00:00  2432000.0  2450000.0  2414000.0  2450000.0  191701\n",
      "2017-07-12 00:00:00  2450000.0  2500000.0  2442000.0  2494000.0  188641\n",
      "2017-07-13 00:00:00  2504000.0  2547000.0  2502000.0  2528000.0  308691\n",
      "2017-07-10 00:00:00  2425000.0  2445000.0  2416000.0  2433000.0  211575\n",
      "2017-07-11 00:00:00  2432000.0  2450000.0  2414000.0  2450000.0  191701\n",
      "2017-07-12 00:00:00  2450000.0  2500000.0  2442000.0  2494000.0  188641\n",
      "2017-07-13 00:00:00  2504000.0  2547000.0  2502000.0  2528000.0  308691\n"
     ]
    }
   ],
   "source": [
    "# Connect to Read Sqlite3\n",
    "read_df = pd.read_sql(\"select * from '삼성전자'\",con , index_col='Date')\n",
    "print(read_df.tail(45))"
   ]
  },
  {
   "cell_type": "code",
   "execution_count": null,
   "metadata": {
    "collapsed": true
   },
   "outputs": [],
   "source": []
  },
  {
   "cell_type": "code",
   "execution_count": null,
   "metadata": {
    "collapsed": true
   },
   "outputs": [],
   "source": []
  }
 ],
 "metadata": {
  "kernelspec": {
   "display_name": "Python 3",
   "language": "python",
   "name": "python3"
  },
  "language_info": {
   "codemirror_mode": {
    "name": "ipython",
    "version": 3
   },
   "file_extension": ".py",
   "mimetype": "text/x-python",
   "name": "python",
   "nbconvert_exporter": "python",
   "pygments_lexer": "ipython3",
   "version": "3.6.1"
  }
 },
 "nbformat": 4,
 "nbformat_minor": 2
}
