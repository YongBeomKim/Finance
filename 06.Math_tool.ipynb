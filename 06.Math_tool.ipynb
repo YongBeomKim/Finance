{
 "cells": [
  {
   "cell_type": "markdown",
   "metadata": {},
   "source": [
    "# Chapter 9 - Mathematical Tools\n",
    "수학용도구"
   ]
  },
  {
   "cell_type": "markdown",
   "metadata": {},
   "source": [
    "<br></br>\n",
    "## 1 Approximation (근사법 )\n",
    "회귀법(regression), 보간법(interplation)을 활용하여 근사값을 계산"
   ]
  },
  {
   "cell_type": "code",
   "execution_count": 1,
   "metadata": {
    "collapsed": true
   },
   "outputs": [],
   "source": [
    "%matplotlib inline\n",
    "import numpy as np\n",
    "import matplotlib.pyplot as plt\n",
    "\n",
    "# sin() 파동의 변화를 시각화\n",
    "def f(x):\n",
    "    return np.sin(x) + 0.5 * x"
   ]
  },
  {
   "cell_type": "code",
   "execution_count": 2,
   "metadata": {},
   "outputs": [
    {
     "data": {
      "text/plain": [
       "<matplotlib.text.Text at 0x7f7df285dd30>"
      ]
     },
     "execution_count": 2,
     "metadata": {},
     "output_type": "execute_result"
    },
    {
     "data": {
      "image/png": "[encoded data removed]",
      "text/plain": [
       "<matplotlib.figure.Figure at 0x7f7df489db70>"
      ]
     },
     "metadata": {},
     "output_type": "display_data"
    }
   ],
   "source": [
    "# 관심구간인 -2pi ~ 2pi 사이의 구간을 관찰\n",
    "x = np.linspace(-2 * np.pi, 2 * np.pi, 50)\n",
    "\n",
    "plt.plot(x, f(x), 'b')\n",
    "plt.grid(True)\n",
    "plt.xlabel('x'); plt.ylabel('f(x)')"
   ]
  },
  {
   "cell_type": "markdown",
   "metadata": {},
   "source": [
    "### 01 회귀법\n",
    "regression"
   ]
  },
  {
   "cell_type": "markdown",
   "metadata": {},
   "source": [
    "#### 1) 1차 다항식을 적용\n",
    "회귀식 모델의 다양한 적용 1"
   ]
  },
  {
   "cell_type": "code",
   "execution_count": 3,
   "metadata": {},
   "outputs": [
    {
     "data": {
      "text/plain": [
       "array([  2.00000000e+00,   1.12346671e-15])"
      ]
     },
     "execution_count": 3,
     "metadata": {},
     "output_type": "execute_result"
    }
   ],
   "source": [
    "# np.polyfit()\n",
    "# x factor , y target 의 회귀식 추출\n",
    "x_sample = [i for i in range(10)]\n",
    "y_sample = [i for i in range(0,20,2)]\n",
    "reg = np.polyfit(x_sample, y_sample, deg=1)  # deg = 1 : 회귀식 x의 차수를 지정 (1차원 함수)\n",
    "                             # deg = 2 : 회귀식은 X^2, X^1 두개의 차수로 구성 (X는 2차원 함수)\n",
    "reg  # array(weight , bias) 출력"
   ]
  },
  {
   "cell_type": "code",
   "execution_count": 4,
   "metadata": {},
   "outputs": [
    {
     "data": {
      "text/plain": [
       "array([-12.56637061, -12.05345753, -11.54054444, -11.02763136,\n",
       "       -10.51471827, -10.00180518,  -9.4888921 ,  -8.97597901,\n",
       "        -8.46306592,  -7.95015284,  -7.43723975,  -6.92432667,\n",
       "        -6.41141358,  -5.89850049,  -5.38558741,  -4.87267432,\n",
       "        -4.35976123,  -3.84684815,  -3.33393506,  -2.82102197,\n",
       "        -2.30810889,  -1.7951958 ,  -1.28228272,  -0.76936963,\n",
       "        -0.25645654,   0.25645654,   0.76936963,   1.28228272,\n",
       "         1.7951958 ,   2.30810889,   2.82102197,   3.33393506,\n",
       "         3.84684815,   4.35976123,   4.87267432,   5.38558741,\n",
       "         5.89850049,   6.41141358,   6.92432667,   7.43723975,\n",
       "         7.95015284,   8.46306592,   8.97597901,   9.4888921 ,\n",
       "        10.00180518,  10.51471827,  11.02763136,  11.54054444,\n",
       "        12.05345753,  12.56637061])"
      ]
     },
     "execution_count": 4,
     "metadata": {},
     "output_type": "execute_result"
    }
   ],
   "source": [
    "# np.polyval() : 회귀식 검증\n",
    "np.polyval(reg, x)            # 추출 회귀식에 x를 대입한, 예측 Y값 출력"
   ]
  },
  {
   "cell_type": "code",
   "execution_count": 5,
   "metadata": {
    "collapsed": true
   },
   "outputs": [],
   "source": [
    "# 단항 기저함수 Monomials as Basis Functions\n",
    "# np.polyfit() - train(훈련)\n",
    "# np.polyval() - test (검증)\n",
    "reg = np.polyfit(x, f(x), deg=1) # \n",
    "ry = np.polyval(reg, x)"
   ]
  },
  {
   "cell_type": "code",
   "execution_count": 6,
   "metadata": {},
   "outputs": [
    {
     "data": {
      "text/plain": [
       "<matplotlib.text.Text at 0x7f7df2758208>"
      ]
     },
     "execution_count": 6,
     "metadata": {},
     "output_type": "execute_result"
    },
    {
     "data": {
      "image/png": "[encoded data removed]",
      "text/plain": [
       "<matplotlib.figure.Figure at 0x7f7df27a2c18>"
      ]
     },
     "metadata": {},
     "output_type": "display_data"
    }
   ],
   "source": [
    "plt.plot(x, f(x), 'b', label='f(x)')        # sin() 그래프\n",
    "plt.plot(x, ry,  'r.', label='regression')  # np.polyfit() 회귀식 그래프\n",
    "plt.legend(loc=0)\n",
    "plt.grid(True); plt.xlabel('x'); plt.ylabel('f(x)')"
   ]
  },
  {
   "cell_type": "markdown",
   "metadata": {},
   "source": [
    "#### 2) 5차 다항식을 적용\n",
    "회귀식 모델의 다양한 적용 2"
   ]
  },
  {
   "cell_type": "code",
   "execution_count": 7,
   "metadata": {},
   "outputs": [
    {
     "data": {
      "text/plain": [
       "<matplotlib.text.Text at 0x7f7df26a2a58>"
      ]
     },
     "execution_count": 7,
     "metadata": {},
     "output_type": "execute_result"
    },
    {
     "data": {
      "image/png": "[encoded data removed]",
      "text/plain": [
       "<matplotlib.figure.Figure at 0x7f7df275c400>"
      ]
     },
     "metadata": {},
     "output_type": "display_data"
    }
   ],
   "source": [
    "reg = np.polyfit(x, f(x), deg=5)\n",
    "ry = np.polyval(reg, x)\n",
    "\n",
    "plt.plot(x, f(x), 'b', label='f(x)')\n",
    "plt.plot(x, ry, 'r.', label='regression')\n",
    "plt.legend(loc=0); plt.grid(True); plt.xlabel('x'); plt.ylabel('f(x)')"
   ]
  },
  {
   "cell_type": "markdown",
   "metadata": {},
   "source": [
    "#### 3) 7차 다항식을 적용\n",
    "회귀식 모델의 다양한 적용 3"
   ]
  },
  {
   "cell_type": "code",
   "execution_count": 8,
   "metadata": {},
   "outputs": [
    {
     "data": {
      "text/plain": [
       "<matplotlib.text.Text at 0x7f7df26a8550>"
      ]
     },
     "execution_count": 8,
     "metadata": {},
     "output_type": "execute_result"
    },
    {
     "data": {
      "image/png": "[encoded data removed]",
      "text/plain": [
       "<matplotlib.figure.Figure at 0x7f7df288c588>"
      ]
     },
     "metadata": {},
     "output_type": "display_data"
    }
   ],
   "source": [
    "reg = np.polyfit(x, f(x), deg = 7)\n",
    "ry = np.polyval(reg, x)\n",
    "\n",
    "plt.plot(x, f(x), 'b', label='f(x)')\n",
    "plt.plot(x, ry, 'r.', label='regression')\n",
    "plt.legend(loc=0); plt.grid(True); plt.xlabel('x'); plt.ylabel('f(x)')"
   ]
  },
  {
   "cell_type": "code",
   "execution_count": 9,
   "metadata": {},
   "outputs": [
    {
     "data": {
      "text/plain": [
       "False"
      ]
     },
     "execution_count": 9,
     "metadata": {},
     "output_type": "execute_result"
    }
   ],
   "source": [
    "# 7차 다항식을 정의한 결과 유하산 그래프가 출력\n",
    "# 함수와 회귀식은 완전히 일치하지 않는다\n",
    "np.allclose(f(x), ry)"
   ]
  },
  {
   "cell_type": "code",
   "execution_count": 10,
   "metadata": {},
   "outputs": [
    {
     "data": {
      "text/plain": [
       "0.0017769134759517593"
      ]
     },
     "execution_count": 10,
     "metadata": {},
     "output_type": "execute_result"
    }
   ],
   "source": [
    "# MSE(평균제곱오차) 로 Cost 계산 - 그 오차는 작다\n",
    "np.sum((f(x) - ry) ** 2) / len(x)"
   ]
  },
  {
   "cell_type": "markdown",
   "metadata": {},
   "source": [
    "### 02 개별 기저함수\n",
    "Individual Basis Functions"
   ]
  },
  {
   "cell_type": "code",
   "execution_count": 11,
   "metadata": {
    "collapsed": true
   },
   "outputs": [],
   "source": [
    "# http://darkpgmr.tistory.com/56\n",
    "# 최소자승법(Least Square Method)은 모델, 데이터, residual2의 \n",
    "# 합 또는 평균을 최소화하도록 파라미터를 결정하는 방법.\n",
    "\n",
    "# Residual은 어떤 데이터가 추정된 모델로부터 얼마나 떨어진 값인가를 \n",
    "# 나타내는 용어로 통계학에서는 '잔차'라고 부른다고 한다\n",
    "\n",
    "# 최소자승법을 계산하는 방법은 크게 \n",
    "# 해석학적(analytic : 편미분 함수를 연립방정식으로 계산) 방법과 \n",
    "# 대수적(algebraic : 선형대수로 계산) 방법이 있다"
   ]
  },
  {
   "cell_type": "code",
   "execution_count": 12,
   "metadata": {
    "collapsed": true
   },
   "outputs": [],
   "source": [
    "# 모델 : 가설함수\n",
    "# 파라미터 : 모델의 weight, bias 조절 값"
   ]
  },
  {
   "cell_type": "code",
   "execution_count": 13,
   "metadata": {},
   "outputs": [
    {
     "data": {
      "text/plain": [
       "(4, 50)"
      ]
     },
     "execution_count": 13,
     "metadata": {},
     "output_type": "execute_result"
    }
   ],
   "source": [
    "matrix = np.zeros((3 + 1, len(x)))\n",
    "matrix[3, :] = x ** 3\n",
    "matrix[2, :] = x ** 2\n",
    "matrix[1, :] = x\n",
    "matrix[0, :] = 1\n",
    "matrix.shape"
   ]
  },
  {
   "cell_type": "markdown",
   "metadata": {},
   "source": [
    "#### 1) 최소 자승 최적화 문제를 풀이\n",
    "고차원 다항식을 활용\n",
    "\n",
    "np.linalg.lstsq(matrix.T, f(x))[0]"
   ]
  },
  {
   "cell_type": "code",
   "execution_count": 14,
   "metadata": {},
   "outputs": [
    {
     "data": {
      "text/plain": [
       "array([  1.13340410e-14,   5.62777448e-01,  -8.88178420e-16,\n",
       "        -5.43553615e-03])"
      ]
     },
     "execution_count": 14,
     "metadata": {},
     "output_type": "execute_result"
    }
   ],
   "source": [
    "# 기저 함수에 대한 최적의 파라미터를 계산\n",
    "reg = np.linalg.lstsq(matrix.T, f(x))[0]\n",
    "reg"
   ]
  },
  {
   "cell_type": "code",
   "execution_count": 15,
   "metadata": {},
   "outputs": [
    {
     "data": {
      "text/plain": [
       "(50,)"
      ]
     },
     "execution_count": 15,
     "metadata": {},
     "output_type": "execute_result"
    }
   ],
   "source": [
    "# 회귀식 결과를 적용 (np.dot(벡터 내적의 합))\n",
    "ry = np.dot(reg, matrix)\n",
    "ry.shape"
   ]
  },
  {
   "cell_type": "code",
   "execution_count": 16,
   "metadata": {},
   "outputs": [
    {
     "data": {
      "text/plain": [
       "<matplotlib.text.Text at 0x7f7df26db860>"
      ]
     },
     "execution_count": 16,
     "metadata": {},
     "output_type": "execute_result"
    },
    {
     "data": {
      "image/png": "[encoded data removed]",
      "text/plain": [
       "<matplotlib.figure.Figure at 0x7f7df2764080>"
      ]
     },
     "metadata": {},
     "output_type": "display_data"
    }
   ],
   "source": [
    "# Regression via least-squares function\n",
    "plt.plot(x, f(x), 'b', label='f(x)')       # sin() 그래프\n",
    "plt.plot(x, ry, 'r.', label='regression')  # np.dot() 회귀식 연산결과\n",
    "plt.legend(loc=0); plt.grid(True); plt.xlabel('x'); plt.ylabel('f(x)')"
   ]
  },
  {
   "cell_type": "markdown",
   "metadata": {},
   "source": [
    "#### 2) 기저함수에 sin() 함수를 적용\n",
    "matrix[3, :] = np.sin(x)"
   ]
  },
  {
   "cell_type": "code",
   "execution_count": 17,
   "metadata": {
    "collapsed": true
   },
   "outputs": [],
   "source": [
    "matrix[3, :] = np.sin(x)\n",
    "reg = np.linalg.lstsq(matrix.T, f(x))[0]\n",
    "ry = np.dot(reg, matrix)"
   ]
  },
  {
   "cell_type": "code",
   "execution_count": 18,
   "metadata": {},
   "outputs": [
    {
     "data": {
      "text/plain": [
       "<matplotlib.text.Text at 0x7f7df251e748>"
      ]
     },
     "execution_count": 18,
     "metadata": {},
     "output_type": "execute_result"
    },
    {
     "data": {
      "image/png": "[encoded data removed]",
      "text/plain": [
       "<matplotlib.figure.Figure at 0x7f7df253c9e8>"
      ]
     },
     "metadata": {},
     "output_type": "display_data"
    }
   ],
   "source": [
    "plt.plot(x, f(x), 'b', label='f(x)')\n",
    "plt.plot(x, ry, 'r.', label='regression')\n",
    "plt.legend(loc=0)\n",
    "plt.grid(True); plt.xlabel('x'); plt.ylabel('f(x)')"
   ]
  },
  {
   "cell_type": "code",
   "execution_count": 19,
   "metadata": {},
   "outputs": [
    {
     "data": {
      "text/plain": [
       "True"
      ]
     },
     "execution_count": 19,
     "metadata": {},
     "output_type": "execute_result"
    }
   ],
   "source": [
    "# 수치적 일치도 높아짐\n",
    "np.allclose(f(x), ry)"
   ]
  },
  {
   "cell_type": "code",
   "execution_count": 20,
   "metadata": {},
   "outputs": [
    {
     "data": {
      "text/plain": [
       "7.2578284768244106e-31"
      ]
     },
     "execution_count": 20,
     "metadata": {},
     "output_type": "execute_result"
    }
   ],
   "source": [
    "np.sum((f(x) - ry) ** 2) / len(x)"
   ]
  },
  {
   "cell_type": "code",
   "execution_count": 21,
   "metadata": {},
   "outputs": [
    {
     "data": {
      "text/plain": [
       "array([  9.26243218e-17,   5.00000000e-01,   0.00000000e+00,\n",
       "         1.00000000e+00])"
      ]
     },
     "execution_count": 21,
     "metadata": {},
     "output_type": "execute_result"
    }
   ],
   "source": [
    "reg"
   ]
  },
  {
   "cell_type": "markdown",
   "metadata": {},
   "source": [
    "### 03 잡음이 포함된 경우\n",
    "Noisy Data"
   ]
  },
  {
   "cell_type": "code",
   "execution_count": 22,
   "metadata": {
    "collapsed": true
   },
   "outputs": [],
   "source": [
    "xn = np.linspace(-2 * np.pi, 2 * np.pi, 50)\n",
    "# 독립변숙와 측정값에 잡음을 포함시킨다 \n",
    "xn = xn + 0.15 * np.random.standard_normal(len(xn))\n",
    "yn = f(xn) + 0.25 * np.random.standard_normal(len(xn))"
   ]
  },
  {
   "cell_type": "code",
   "execution_count": 23,
   "metadata": {
    "collapsed": true
   },
   "outputs": [],
   "source": [
    "reg = np.polyfit(xn, yn, 7)\n",
    "ry = np.polyval(reg, xn)"
   ]
  },
  {
   "cell_type": "code",
   "execution_count": 24,
   "metadata": {},
   "outputs": [
    {
     "data": {
      "text/plain": [
       "<matplotlib.text.Text at 0x7f7df26e7c88>"
      ]
     },
     "execution_count": 24,
     "metadata": {},
     "output_type": "execute_result"
    },
    {
     "data": {
      "image/png": "[encoded data removed]",
      "text/plain": [
       "<matplotlib.figure.Figure at 0x7f7df23e2390>"
      ]
     },
     "metadata": {},
     "output_type": "display_data"
    }
   ],
   "source": [
    "plt.plot(xn, yn, 'b^', label='f(x)')\n",
    "plt.plot(xn, ry, 'ro', label='regression')\n",
    "plt.legend(loc=0)\n",
    "plt.grid(True); plt.xlabel('x'); plt.ylabel('f(x)')"
   ]
  },
  {
   "cell_type": "code",
   "execution_count": 25,
   "metadata": {
    "collapsed": true
   },
   "outputs": [],
   "source": [
    "# 결론\n",
    "# 회귀법을 통하면 일정한 잡음을 제거할 수 있다"
   ]
  },
  {
   "cell_type": "markdown",
   "metadata": {},
   "source": [
    "### 04 정렬되지 않은 자료\n",
    "Regression with unsorted data"
   ]
  },
  {
   "cell_type": "code",
   "execution_count": 26,
   "metadata": {
    "collapsed": true
   },
   "outputs": [],
   "source": [
    "# 데이터를 뒤섞으며 생성하기 \n",
    "# xu = np.random.rand(50) * 4 * np.pi - 2 * np.pi\n",
    "# yu = f(xu)"
   ]
  },
  {
   "cell_type": "code",
   "execution_count": 27,
   "metadata": {
    "collapsed": true
   },
   "outputs": [],
   "source": [
    "# 데이터를 생성 후 뒤섞기 (이해가 더 쉽다)\n",
    "xu = np.linspace(-2 * np.pi, 2 * np.pi, 50)\n",
    "np.random.shuffle(xu)\n",
    "yu = f(xu)"
   ]
  },
  {
   "cell_type": "code",
   "execution_count": 28,
   "metadata": {},
   "outputs": [
    {
     "name": "stdout",
     "output_type": "stream",
     "text": [
      "[-5.   -4.74  4.23 -2.18 -1.67  3.46  3.98 -1.92 -0.13  5.51]\n",
      "[-1.54 -1.37  1.23 -1.91 -1.83  1.42  1.25 -1.9  -0.19  2.06]\n"
     ]
    }
   ],
   "source": [
    "print(xu[:10].round(2))\n",
    "print(yu[:10].round(2))"
   ]
  },
  {
   "cell_type": "code",
   "execution_count": 29,
   "metadata": {},
   "outputs": [
    {
     "data": {
      "text/plain": [
       "<matplotlib.text.Text at 0x7f7df231b9e8>"
      ]
     },
     "execution_count": 29,
     "metadata": {},
     "output_type": "execute_result"
    },
    {
     "data": {
      "image/png": "[encoded data removed]",
      "text/plain": [
       "<matplotlib.figure.Figure at 0x7f7df2390080>"
      ]
     },
     "metadata": {},
     "output_type": "display_data"
    }
   ],
   "source": [
    "reg = np.polyfit(xu, yu, 5)\n",
    "ry = np.polyval(reg, xu)\n",
    "\n",
    "plt.plot(xu, yu, 'b^', label='f(x)')\n",
    "plt.plot(xu, ry, 'ro', label='regression')\n",
    "plt.legend(loc=0)\n",
    "plt.grid(True); plt.xlabel('x'); plt.ylabel('f(x)')"
   ]
  },
  {
   "cell_type": "code",
   "execution_count": 30,
   "metadata": {
    "collapsed": true
   },
   "outputs": [],
   "source": [
    "# 결론\n",
    "# 잡음이 포함된 데이터와 동일하게, 자료형의 순서는 \n",
    "# 회귀식 생성에 영향을 받지 않는다"
   ]
  },
  {
   "cell_type": "markdown",
   "metadata": {},
   "source": [
    "### 05 다차원 자료\n",
    "Multiple Dimensions"
   ]
  },
  {
   "cell_type": "markdown",
   "metadata": {},
   "source": [
    "#### 1) np.meshgrid(x, y)\n",
    "1차원 배열을 정방(square) 행렬로 선언"
   ]
  },
  {
   "cell_type": "code",
   "execution_count": 31,
   "metadata": {
    "collapsed": true
   },
   "outputs": [],
   "source": [
    "x = np.linspace(0, 10, 10)\n",
    "y = np.linspace(0, 10, 10)\n",
    "\n",
    "# 1차원 배열에서, 2차원 그리드를 생성한다\n",
    "# 해당 배열을 정방(square) 행렬로 선언\n",
    "X, Y = np.meshgrid(x, y)"
   ]
  },
  {
   "cell_type": "code",
   "execution_count": 32,
   "metadata": {},
   "outputs": [
    {
     "data": {
      "text/plain": [
       "array([[  0.        ,   1.11111111,   2.22222222,   3.33333333,\n",
       "          4.44444444,   5.55555556,   6.66666667,   7.77777778,\n",
       "          8.88888889,  10.        ],\n",
       "       [  0.        ,   1.11111111,   2.22222222,   3.33333333,\n",
       "          4.44444444,   5.55555556,   6.66666667,   7.77777778,\n",
       "          8.88888889,  10.        ]])"
      ]
     },
     "execution_count": 32,
     "metadata": {},
     "output_type": "execute_result"
    },
    {
     "data": {
      "image/png": "[encoded data removed]",
      "text/plain": [
       "<matplotlib.figure.Figure at 0x7f7df2395ef0>"
      ]
     },
     "metadata": {},
     "output_type": "display_data"
    }
   ],
   "source": [
    "# np.meshgrid() : X 는 수평으로 나열\n",
    "plt.subplots(1,1,figsize=(2,2))\n",
    "plt.plot(X); X[:2]"
   ]
  },
  {
   "cell_type": "code",
   "execution_count": 33,
   "metadata": {},
   "outputs": [
    {
     "data": {
      "text/plain": [
       "array([[ 0.        ,  0.        ,  0.        ,  0.        ,  0.        ,\n",
       "         0.        ,  0.        ,  0.        ,  0.        ,  0.        ],\n",
       "       [ 1.11111111,  1.11111111,  1.11111111,  1.11111111,  1.11111111,\n",
       "         1.11111111,  1.11111111,  1.11111111,  1.11111111,  1.11111111],\n",
       "       [ 2.22222222,  2.22222222,  2.22222222,  2.22222222,  2.22222222,\n",
       "         2.22222222,  2.22222222,  2.22222222,  2.22222222,  2.22222222]])"
      ]
     },
     "execution_count": 33,
     "metadata": {},
     "output_type": "execute_result"
    },
    {
     "data": {
      "image/png": "[encoded data removed]",
      "text/plain": [
       "<matplotlib.figure.Figure at 0x7f7df2213a20>"
      ]
     },
     "metadata": {},
     "output_type": "display_data"
    }
   ],
   "source": [
    "# np.meshgrid() : Y 는 축척\n",
    "plt.subplots(1,1,figsize=(2,2))\n",
    "plt.plot(Y); Y[:3]"
   ]
  },
  {
   "cell_type": "markdown",
   "metadata": {},
   "source": [
    "#### 2) 모델의 적용\n",
    "Function with two parameters"
   ]
  },
  {
   "cell_type": "code",
   "execution_count": 34,
   "metadata": {
    "collapsed": true
   },
   "outputs": [],
   "source": [
    "def fm(x, y):\n",
    "    return np.sin(x) + 0.25 * x + np.sqrt(y) + 0.05 * y ** 2"
   ]
  },
  {
   "cell_type": "code",
   "execution_count": 35,
   "metadata": {},
   "outputs": [
    {
     "name": "stdout",
     "output_type": "stream",
     "text": [
      "X : (20, 20)  Y : (20, 20)\n"
     ]
    }
   ],
   "source": [
    "x = np.linspace(0, 10, 20)\n",
    "y = np.linspace(0, 10, 20)\n",
    "\n",
    "# 1차원 배열에서, 2차원 그리드를 생성한다\n",
    "# 해당 배열을 정방(square) 행렬로 선언\n",
    "X, Y = np.meshgrid(x, y)\n",
    "print('X :', X.shape,\" Y :\", Y.shape )"
   ]
  },
  {
   "cell_type": "code",
   "execution_count": 36,
   "metadata": {},
   "outputs": [
    {
     "name": "stdout",
     "output_type": "stream",
     "text": [
      "x : (400,)  y : (400,)\n"
     ]
    }
   ],
   "source": [
    "# 다차원 함수를 적용\n",
    "Z = fm(X, Y)\n",
    "\n",
    "# 2차원 Matrix 를, 1차원 array로 이어 붙인다 (fully connected)\n",
    "x = X.flatten()\n",
    "y = Y.flatten()\n",
    "print('x :', x.shape,\" y :\", y.shape )"
   ]
  },
  {
   "cell_type": "code",
   "execution_count": 37,
   "metadata": {},
   "outputs": [
    {
     "data": {
      "text/plain": [
       "<matplotlib.colorbar.Colorbar at 0x7f7df1fdeef0>"
      ]
     },
     "execution_count": 37,
     "metadata": {},
     "output_type": "execute_result"
    },
    {
     "data": {
      "image/png": "[encoded data removed]",
      "text/plain": [
       "<matplotlib.figure.Figure at 0x7f7df21a3898>"
      ]
     },
     "metadata": {},
     "output_type": "display_data"
    }
   ],
   "source": [
    "from mpl_toolkits.mplot3d import Axes3D\n",
    "import matplotlib as mpl\n",
    "\n",
    "fig = plt.figure(figsize=(9, 6))\n",
    "ax = fig.gca(projection='3d')\n",
    "surf = ax.plot_surface(X, Y, Z, rstride=2, cstride=2, cmap=mpl.cm.coolwarm,\n",
    "        linewidth=0.5, antialiased=True)\n",
    "ax.set_xlabel('x'); ax.set_ylabel('y'); ax.set_zlabel('f(x, y)')\n",
    "fig.colorbar(surf, shrink=0.5, aspect=5)"
   ]
  },
  {
   "cell_type": "code",
   "execution_count": 38,
   "metadata": {},
   "outputs": [
    {
     "name": "stdout",
     "output_type": "stream",
     "text": [
      "(400, 7)\n"
     ]
    },
    {
     "data": {
      "text/plain": [
       "array([[ 1.        ,  0.        ,  0.        ,  0.        ,  0.        ,\n",
       "         0.        ,  0.        ],\n",
       "       [ 1.        ,  0.52631579,  0.        ,  0.27700831,  0.        ,\n",
       "         0.50235115,  0.        ],\n",
       "       [ 1.        ,  1.05263158,  0.        ,  1.10803324,  0.        ,\n",
       "         0.86872962,  0.        ],\n",
       "       [ 1.        ,  1.57894737,  0.        ,  2.49307479,  0.        ,\n",
       "         0.99996678,  0.        ]])"
      ]
     },
     "execution_count": 38,
     "metadata": {},
     "output_type": "execute_result"
    }
   ],
   "source": [
    "# 결과의 정제를 위한 기저함수 집합\n",
    "# Higher dimension regression\n",
    "matrix = np.zeros((len(x), 6 + 1))\n",
    "matrix[:, 0] = 1           # 0번필드 1로 채운다\n",
    "matrix[:, 1] = x           # 1번필드 x 배열로 채운다\n",
    "matrix[:, 2] = y           # 2번필드 y 배열로 채운다\n",
    "matrix[:, 3] = x ** 2      # 3번필드 x 제곱으로 채운다\n",
    "matrix[:, 4] = y ** 2      # 4번필드 y 제곱으로 채운다\n",
    "matrix[:, 5] = np.sin(x)   # 5번필드 x sin() 값으로 채운다 \n",
    "matrix[:, 6] = np.sqrt(y)  # 6번필드 y 제곱근으로 채운다\n",
    "\n",
    "print(matrix.shape); matrix[:4]"
   ]
  },
  {
   "cell_type": "code",
   "execution_count": 39,
   "metadata": {},
   "outputs": [
    {
     "data": {
      "text/plain": [
       "1.0"
      ]
     },
     "execution_count": 39,
     "metadata": {},
     "output_type": "execute_result"
    }
   ],
   "source": [
    "# 최소 자승 회귀계산\n",
    "import statsmodels.api as sm\n",
    "model = sm.OLS(fm(x, y), matrix).fit()\n",
    "\n",
    "# r-squared : R^2 결정계수\n",
    "# 회귀식에서 개별데이터의 MSE 오차 거리거리로 0 ~ 1 사이의 값을 갖는다\n",
    "# 0 : 회귀식의 정확도가 낮다\n",
    "# 1 : 회귀식의 정확도가 높다\n",
    "model.rsquared "
   ]
  },
  {
   "cell_type": "markdown",
   "metadata": {},
   "source": [
    "#### 결정계수\n",
    "http://math7.tistory.com/123\n",
    "\n",
    "<img src =\"http://cfile3.uf.tistory.com/image/2421B33654D318480A6D0D\" align='left' width='600'>"
   ]
  },
  {
   "cell_type": "code",
   "execution_count": 40,
   "metadata": {},
   "outputs": [
    {
     "data": {
      "text/html": [
       "<table class=\"simpletable\">\n",
       "<caption>OLS Regression Results</caption>\n",
       "<tr>\n",
       "  <th>Dep. Variable:</th>            <td>y</td>        <th>  R-squared:         </th>  <td>   1.000</td> \n",
       "</tr>\n",
       "<tr>\n",
       "  <th>Model:</th>                   <td>OLS</td>       <th>  Adj. R-squared:    </th>  <td>   1.000</td> \n",
       "</tr>\n",
       "<tr>\n",
       "  <th>Method:</th>             <td>Least Squares</td>  <th>  F-statistic:       </th>  <td>2.336e+30</td>\n",
       "</tr>\n",
       "<tr>\n",
       "  <th>Date:</th>             <td>Tue, 05 Sep 2017</td> <th>  Prob (F-statistic):</th>   <td>  0.00</td>  \n",
       "</tr>\n",
       "<tr>\n",
       "  <th>Time:</th>                 <td>20:10:04</td>     <th>  Log-Likelihood:    </th>  <td>  12211.</td> \n",
       "</tr>\n",
       "<tr>\n",
       "  <th>No. Observations:</th>      <td>   400</td>      <th>  AIC:               </th> <td>-2.441e+04</td>\n",
       "</tr>\n",
       "<tr>\n",
       "  <th>Df Residuals:</th>          <td>   393</td>      <th>  BIC:               </th> <td>-2.438e+04</td>\n",
       "</tr>\n",
       "<tr>\n",
       "  <th>Df Model:</th>              <td>     6</td>      <th>                     </th>      <td> </td>    \n",
       "</tr>\n",
       "<tr>\n",
       "  <th>Covariance Type:</th>      <td>nonrobust</td>    <th>                     </th>      <td> </td>    \n",
       "</tr>\n",
       "</table>\n",
       "<table class=\"simpletable\">\n",
       "<tr>\n",
       "    <td></td>       <th>coef</th>     <th>std err</th>      <th>t</th>      <th>P>|t|</th>  <th>[0.025</th>    <th>0.975]</th>  \n",
       "</tr>\n",
       "<tr>\n",
       "  <th>const</th> <td> 2.845e-15</td> <td> 3.45e-15</td> <td>    0.825</td> <td> 0.410</td> <td>-3.93e-15</td> <td> 9.62e-15</td>\n",
       "</tr>\n",
       "<tr>\n",
       "  <th>x1</th>    <td>    0.2500</td> <td> 8.96e-16</td> <td> 2.79e+14</td> <td> 0.000</td> <td>    0.250</td> <td>    0.250</td>\n",
       "</tr>\n",
       "<tr>\n",
       "  <th>x2</th>    <td> 7.772e-16</td> <td> 2.92e-15</td> <td>    0.266</td> <td> 0.790</td> <td>-4.96e-15</td> <td> 6.52e-15</td>\n",
       "</tr>\n",
       "<tr>\n",
       "  <th>x3</th>    <td>-3.261e-16</td> <td> 8.61e-17</td> <td>   -3.790</td> <td> 0.000</td> <td>-4.95e-16</td> <td>-1.57e-16</td>\n",
       "</tr>\n",
       "<tr>\n",
       "  <th>x4</th>    <td>    0.0500</td> <td> 1.52e-16</td> <td>  3.3e+14</td> <td> 0.000</td> <td>    0.050</td> <td>    0.050</td>\n",
       "</tr>\n",
       "<tr>\n",
       "  <th>x5</th>    <td>    1.0000</td> <td> 1.07e-15</td> <td> 9.33e+14</td> <td> 0.000</td> <td>    1.000</td> <td>    1.000</td>\n",
       "</tr>\n",
       "<tr>\n",
       "  <th>x6</th>    <td>    1.0000</td> <td> 5.72e-15</td> <td> 1.75e+14</td> <td> 0.000</td> <td>    1.000</td> <td>    1.000</td>\n",
       "</tr>\n",
       "</table>\n",
       "<table class=\"simpletable\">\n",
       "<tr>\n",
       "  <th>Omnibus:</th>       <td> 3.394</td> <th>  Durbin-Watson:     </th> <td>   0.274</td>\n",
       "</tr>\n",
       "<tr>\n",
       "  <th>Prob(Omnibus):</th> <td> 0.183</td> <th>  Jarque-Bera (JB):  </th> <td>   2.570</td>\n",
       "</tr>\n",
       "<tr>\n",
       "  <th>Skew:</th>          <td>-0.031</td> <th>  Prob(JB):          </th> <td>   0.277</td>\n",
       "</tr>\n",
       "<tr>\n",
       "  <th>Kurtosis:</th>      <td> 2.612</td> <th>  Cond. No.          </th> <td>    587.</td>\n",
       "</tr>\n",
       "</table>"
      ],
      "text/plain": [
       "<class 'statsmodels.iolib.summary.Summary'>\n",
       "\"\"\"\n",
       "                            OLS Regression Results                            \n",
       "==============================================================================\n",
       "Dep. Variable:                      y   R-squared:                       1.000\n",
       "Model:                            OLS   Adj. R-squared:                  1.000\n",
       "Method:                 Least Squares   F-statistic:                 2.336e+30\n",
       "Date:                Tue, 05 Sep 2017   Prob (F-statistic):               0.00\n",
       "Time:                        20:10:04   Log-Likelihood:                 12211.\n",
       "No. Observations:                 400   AIC:                        -2.441e+04\n",
       "Df Residuals:                     393   BIC:                        -2.438e+04\n",
       "Df Model:                           6                                         \n",
       "Covariance Type:            nonrobust                                         \n",
       "==============================================================================\n",
       "                 coef    std err          t      P>|t|      [0.025      0.975]\n",
       "------------------------------------------------------------------------------\n",
       "const       2.845e-15   3.45e-15      0.825      0.410   -3.93e-15    9.62e-15\n",
       "x1             0.2500   8.96e-16   2.79e+14      0.000       0.250       0.250\n",
       "x2          7.772e-16   2.92e-15      0.266      0.790   -4.96e-15    6.52e-15\n",
       "x3         -3.261e-16   8.61e-17     -3.790      0.000   -4.95e-16   -1.57e-16\n",
       "x4             0.0500   1.52e-16    3.3e+14      0.000       0.050       0.050\n",
       "x5             1.0000   1.07e-15   9.33e+14      0.000       1.000       1.000\n",
       "x6             1.0000   5.72e-15   1.75e+14      0.000       1.000       1.000\n",
       "==============================================================================\n",
       "Omnibus:                        3.394   Durbin-Watson:                   0.274\n",
       "Prob(Omnibus):                  0.183   Jarque-Bera (JB):                2.570\n",
       "Skew:                          -0.031   Prob(JB):                        0.277\n",
       "Kurtosis:                       2.612   Cond. No.                         587.\n",
       "==============================================================================\n",
       "\n",
       "Warnings:\n",
       "[1] Standard Errors assume that the covariance matrix of the errors is correctly specified.\n",
       "\"\"\""
      ]
     },
     "execution_count": 40,
     "metadata": {},
     "output_type": "execute_result"
    }
   ],
   "source": [
    "# model 로 정의한 데이터에 대한 요약정보를 출력\n",
    "model.summary()"
   ]
  },
  {
   "cell_type": "code",
   "execution_count": 41,
   "metadata": {},
   "outputs": [
    {
     "data": {
      "text/plain": [
       "array([  2.84494650e-15,   2.50000000e-01,   7.77156117e-16,\n",
       "        -3.26128013e-16,   5.00000000e-02,   1.00000000e+00,\n",
       "         1.00000000e+00])"
      ]
     },
     "execution_count": 41,
     "metadata": {},
     "output_type": "execute_result"
    }
   ],
   "source": [
    "# model.params : 최적회귀계수를 출력\n",
    "# matrix.shape (400, 7) 로 전체 7개 파라미터 출력 \n",
    "a = model.params; a"
   ]
  },
  {
   "cell_type": "code",
   "execution_count": 42,
   "metadata": {
    "collapsed": true
   },
   "outputs": [],
   "source": [
    "def reg_func(a, p):\n",
    "    x, y = p\n",
    "    f0 = a[0] * 1\n",
    "    f1 = a[1] * x\n",
    "    f2 = a[2] * y\n",
    "    f3 = a[3] * x ** 2\n",
    "    f4 = a[4] * y ** 2\n",
    "    f5 = a[5] * np.sin(x)\n",
    "    f6 = a[6] * np.sqrt(y)\n",
    "    return (f6 + f5 + f4 + f3 + f2 + f1 + f0)"
   ]
  },
  {
   "cell_type": "code",
   "execution_count": 43,
   "metadata": {
    "collapsed": true
   },
   "outputs": [],
   "source": [
    "RZ = reg_func(a, (X, Y))"
   ]
  },
  {
   "cell_type": "code",
   "execution_count": 44,
   "metadata": {},
   "outputs": [
    {
     "data": {
      "text/plain": [
       "<matplotlib.colorbar.Colorbar at 0x7f7dd8e829e8>"
      ]
     },
     "execution_count": 44,
     "metadata": {},
     "output_type": "execute_result"
    },
    {
     "data": {
      "image/png": "[encoded data removed]",
      "text/plain": [
       "<matplotlib.figure.Figure at 0x7f7dda760d30>"
      ]
     },
     "metadata": {},
     "output_type": "display_data"
    }
   ],
   "source": [
    "fig = plt.figure(figsize=(9, 6))\n",
    "ax = fig.gca(projection='3d')\n",
    "surf1 = ax.plot_surface(X, Y, Z, rstride=2, cstride=2,\n",
    "            cmap=mpl.cm.coolwarm, linewidth=0.5,\n",
    "            antialiased=True)\n",
    "surf2 = ax.plot_wireframe(X, Y, RZ, rstride=2, cstride=2,\n",
    "                          label='regression')\n",
    "ax.set_xlabel('x');       ax.set_ylabel('y')\n",
    "ax.set_zlabel('f(x, y)'); ax.legend()\n",
    "fig.colorbar(surf, shrink=0.5, aspect=5)"
   ]
  },
  {
   "cell_type": "markdown",
   "metadata": {},
   "source": [
    "<br></br>\n",
    "## 2 보간법\n",
    "보간법(interplation) : 두 함수 사이의 값들로 새로운 규칙을 생성하는 방법으로\n",
    "\n",
    "'독립변수'를 관찰하기 힘들떄, '종속변수를 통한 추정'의 용도로 쓰인다\n",
    "\n",
    "다차원에는 적용하기가 힘들다. X축 방향으로 정렬된 자료를 사용하는 점만 제외하면, 나머지는 회귀법과 동일"
   ]
  },
  {
   "cell_type": "markdown",
   "metadata": {},
   "source": [
    "### 01 2개 모델 사이를  1차원 선형분리 모델을 적용한 보간법\n",
    "Function with two parameters"
   ]
  },
  {
   "cell_type": "code",
   "execution_count": 45,
   "metadata": {
    "collapsed": true
   },
   "outputs": [],
   "source": [
    "import scipy.interpolate as spi\n",
    "x = np.linspace(-2 * np.pi, 2 * np.pi, 25)\n",
    "\n",
    "def f(x):\n",
    "    return np.sin(x) + 0.5 * x"
   ]
  },
  {
   "cell_type": "code",
   "execution_count": 46,
   "metadata": {},
   "outputs": [
    {
     "data": {
      "text/plain": [
       "array([-3.14159265, -2.37979327, -1.75196847, -1.35619449, -1.2283697 ,\n",
       "       -1.33259571, -1.57079633, -1.80899694, -1.91322295, -1.78539816,\n",
       "       -1.38962418, -0.76179939,  0.        ,  0.76179939,  1.38962418,\n",
       "        1.78539816,  1.91322295,  1.80899694,  1.57079633,  1.33259571,\n",
       "        1.2283697 ,  1.35619449,  1.75196847,  2.37979327,  3.14159265,\n",
       "        0.        ,  0.        ])"
      ]
     },
     "execution_count": 46,
     "metadata": {},
     "output_type": "execute_result"
    }
   ],
   "source": [
    "ipo = spi.splrep(x, f(x), k=1)  # polyfit() 대신 적용 - k : 스플릿라인 함수의 차수 (y = ax + b)\n",
    "iy = spi.splev(x, ipo)          # polyvalue() 대신 적용 - 파라미터를 적용한 test결과를 출력\n",
    "\n",
    "ipo[1]"
   ]
  },
  {
   "cell_type": "code",
   "execution_count": 47,
   "metadata": {},
   "outputs": [
    {
     "data": {
      "text/plain": [
       "True"
      ]
     },
     "execution_count": 47,
     "metadata": {},
     "output_type": "execute_result"
    }
   ],
   "source": [
    "# 연산으로 동일성 확인\n",
    "np.allclose(f(x), iy)"
   ]
  },
  {
   "cell_type": "code",
   "execution_count": 48,
   "metadata": {},
   "outputs": [
    {
     "data": {
      "text/plain": [
       "<matplotlib.text.Text at 0x7f7dda75cfd0>"
      ]
     },
     "execution_count": 48,
     "metadata": {},
     "output_type": "execute_result"
    },
    {
     "data": {
      "image/png": "[encoded data removed]",
      "text/plain": [
       "<matplotlib.figure.Figure at 0x7f7dda7600f0>"
      ]
     },
     "metadata": {},
     "output_type": "display_data"
    }
   ],
   "source": [
    "# 두 관측점 사이를 선형으로 보간 (관측점에선 연속 미분은 아니다)\n",
    "plt.plot(x, f(x), 'b', label='f(x)')\n",
    "plt.plot(x, iy, 'r.', label='interpolation')\n",
    "plt.legend(loc=0)\n",
    "plt.grid(True); plt.xlabel('x'); plt.ylabel('f(x)')"
   ]
  },
  {
   "cell_type": "markdown",
   "metadata": {},
   "source": [
    "### 02 spline 보간법\n",
    "Using spline"
   ]
  },
  {
   "cell_type": "code",
   "execution_count": 49,
   "metadata": {},
   "outputs": [
    {
     "data": {
      "text/plain": [
       "<matplotlib.text.Text at 0x7f7dd8cf0a20>"
      ]
     },
     "execution_count": 49,
     "metadata": {},
     "output_type": "execute_result"
    },
    {
     "data": {
      "image/png": "[encoded data removed]",
      "text/plain": [
       "<matplotlib.figure.Figure at 0x7f7e1c7680f0>"
      ]
     },
     "metadata": {},
     "output_type": "display_data"
    }
   ],
   "source": [
    "xd = np.linspace(1.0, 3.0, 50)\n",
    "iyd = spi.splev(xd, ipo)\n",
    "\n",
    "plt.plot(xd, f(xd), 'b', label='f(x)')\n",
    "plt.plot(xd, iyd, 'r.', label='interpolation')\n",
    "plt.legend(loc=0); plt.grid(True); plt.xlabel('x'); plt.ylabel('f(x)')"
   ]
  },
  {
   "cell_type": "markdown",
   "metadata": {},
   "source": [
    "### 03 3차 큐빅 spline 활용 보간법\n",
    "Using 3dim Spline"
   ]
  },
  {
   "cell_type": "code",
   "execution_count": 50,
   "metadata": {
    "collapsed": true
   },
   "outputs": [],
   "source": [
    "ipo = spi.splrep(x, f(x), k=3)\n",
    "iyd = spi.splev(xd, ipo)"
   ]
  },
  {
   "cell_type": "code",
   "execution_count": 51,
   "metadata": {},
   "outputs": [
    {
     "data": {
      "text/plain": [
       "<matplotlib.text.Text at 0x7f7dd8dfa9e8>"
      ]
     },
     "execution_count": 51,
     "metadata": {},
     "output_type": "execute_result"
    },
    {
     "data": {
      "image/png": "[encoded data removed]",
      "text/plain": [
       "<matplotlib.figure.Figure at 0x7f7dd8d3fd30>"
      ]
     },
     "metadata": {},
     "output_type": "display_data"
    }
   ],
   "source": [
    "plt.plot(xd, f(xd), 'b', label='f(x)')\n",
    "plt.plot(xd, iyd, 'r.', label='interpolation')\n",
    "plt.legend(loc=0)\n",
    "plt.grid(True)\n",
    "plt.xlabel('x')\n",
    "plt.ylabel('f(x)')\n",
    "# tag: sin_plot_ipo_3\n",
    "# title: Example plot (detail) with cubic splines interpolation\n",
    "# size: 60"
   ]
  },
  {
   "cell_type": "code",
   "execution_count": 52,
   "metadata": {},
   "outputs": [
    {
     "data": {
      "text/plain": [
       "False"
      ]
     },
     "execution_count": 52,
     "metadata": {},
     "output_type": "execute_result"
    }
   ],
   "source": [
    "# 수치적으로는 보간법이 완벽히 적용되지 않음\n",
    "np.allclose(f(xd), iyd)"
   ]
  },
  {
   "cell_type": "code",
   "execution_count": 53,
   "metadata": {},
   "outputs": [
    {
     "data": {
      "text/plain": [
       "1.1349319851436252e-08"
      ]
     },
     "execution_count": 53,
     "metadata": {},
     "output_type": "execute_result"
    }
   ],
   "source": [
    "# 오차승수값은 아주 작다\n",
    "np.sum((f(xd) - iyd) ** 2) / len(xd)"
   ]
  },
  {
   "cell_type": "markdown",
   "metadata": {},
   "source": [
    "<br></br>\n",
    "## 3 최적화 Convex Optimization\n",
    "Function to minimize with two parameters\n",
    "\n",
    "인수교정 및 대리인 효용함수 최적화에 적용"
   ]
  },
  {
   "cell_type": "markdown",
   "metadata": {},
   "source": [
    "### 01 Introduction\n",
    "fig.gca(projection='3d')"
   ]
  },
  {
   "cell_type": "code",
   "execution_count": 54,
   "metadata": {
    "collapsed": true
   },
   "outputs": [],
   "source": [
    "def fm(x, y):\n",
    "    return (np.sin(x) + 0.05 * x ** 2\n",
    "          + np.sin(y) + 0.05 * y ** 2)"
   ]
  },
  {
   "cell_type": "code",
   "execution_count": 55,
   "metadata": {},
   "outputs": [
    {
     "data": {
      "text/plain": [
       "[<matplotlib.lines.Line2D at 0x7f7dd8b44ef0>]"
      ]
     },
     "execution_count": 55,
     "metadata": {},
     "output_type": "execute_result"
    },
    {
     "data": {
      "image/png": "[encoded data removed]",
      "text/plain": [
       "<matplotlib.figure.Figure at 0x7f7dd8bd7588>"
      ]
     },
     "metadata": {},
     "output_type": "display_data"
    }
   ],
   "source": [
    "x = np.linspace(-10, 10, 50)\n",
    "y = np.linspace(-10, 10, 50)\n",
    "plt.plot(fm(x,y)) # 2차원 그래프로 시각화 결과"
   ]
  },
  {
   "cell_type": "code",
   "execution_count": 56,
   "metadata": {
    "collapsed": true
   },
   "outputs": [],
   "source": [
    "# 다차원 데이터로 변환\n",
    "X, Y = np.meshgrid(x, y)\n",
    "Z = fm(X, Y)"
   ]
  },
  {
   "cell_type": "code",
   "execution_count": 57,
   "metadata": {},
   "outputs": [
    {
     "data": {
      "text/plain": [
       "<matplotlib.colorbar.Colorbar at 0x7f7dd8a492b0>"
      ]
     },
     "execution_count": 57,
     "metadata": {},
     "output_type": "execute_result"
    },
    {
     "data": {
      "image/png": "[encoded data removed]",
      "text/plain": [
       "<matplotlib.figure.Figure at 0x7f7dd8b89160>"
      ]
     },
     "metadata": {},
     "output_type": "display_data"
    }
   ],
   "source": [
    "# 시각화\n",
    "fig = plt.figure(figsize=(9, 6))\n",
    "ax = fig.gca(projection='3d')\n",
    "surf = ax.plot_surface(X, Y, Z, rstride=2, cstride=2, cmap=mpl.cm.coolwarm,\n",
    "        linewidth=0.5, antialiased=True)\n",
    "ax.set_xlabel('x'); ax.set_ylabel('y'); ax.set_zlabel('f(x, y)')\n",
    "fig.colorbar(surf, shrink=0.5, aspect=5)"
   ]
  },
  {
   "cell_type": "markdown",
   "metadata": {},
   "source": [
    "### 02 전역 최적화\n",
    "scipy.optimize() \n",
    "\n",
    "spo.brute()\n",
    "\n",
    "Global Optimization : 전역 최소화 방법과, 국소 최소화 방법을 구현"
   ]
  },
  {
   "cell_type": "code",
   "execution_count": 58,
   "metadata": {
    "collapsed": true
   },
   "outputs": [],
   "source": [
    "def fo(p):\n",
    "    x, y = p\n",
    "    z = np.sin(x) + 0.05 * x ** 2 + np.sin(y) + 0.05 * y ** 2\n",
    "    if output == True:\n",
    "        print('%8.4f %8.4f %8.4f' % (x, y, z))\n",
    "    return z"
   ]
  },
  {
   "cell_type": "code",
   "execution_count": 59,
   "metadata": {},
   "outputs": [
    {
     "name": "stdout",
     "output_type": "stream",
     "text": [
      "-10.0000 -10.0000  11.0880\n",
      "-10.0000 -10.0000  11.0880\n",
      "-10.0000  -5.0000   7.7529\n",
      "-10.0000   0.0000   5.5440\n",
      "-10.0000   5.0000   5.8351\n",
      "-10.0000  10.0000  10.0000\n",
      " -5.0000 -10.0000   7.7529\n",
      " -5.0000  -5.0000   4.4178\n",
      " -5.0000   0.0000   2.2089\n",
      " -5.0000   5.0000   2.5000\n",
      " -5.0000  10.0000   6.6649\n",
      "  0.0000 -10.0000   5.5440\n",
      "  0.0000  -5.0000   2.2089\n",
      "  0.0000   0.0000   0.0000\n",
      "  0.0000   5.0000   0.2911\n",
      "  0.0000  10.0000   4.4560\n",
      "  5.0000 -10.0000   5.8351\n",
      "  5.0000  -5.0000   2.5000\n",
      "  5.0000   0.0000   0.2911\n",
      "  5.0000   5.0000   0.5822\n",
      "  5.0000  10.0000   4.7471\n",
      " 10.0000 -10.0000  10.0000\n",
      " 10.0000  -5.0000   6.6649\n",
      " 10.0000   0.0000   4.4560\n",
      " 10.0000   5.0000   4.7471\n",
      " 10.0000  10.0000   8.9120\n"
     ]
    },
    {
     "data": {
      "text/plain": [
       "array([ 0.,  0.])"
      ]
     },
     "execution_count": 59,
     "metadata": {},
     "output_type": "execute_result"
    }
   ],
   "source": [
    "# 최적값을 찾기위한 Train을 실시한다\n",
    "\n",
    "import scipy.optimize as spo\n",
    "output = True\n",
    "# (-10, 10.1, 5) : -10 ~ 10 사이값을 -10, -5, 0, 5, 10 순차적 출력한다\n",
    "spo.brute( fo, ((-10, 10.1, 5), (-10, 10.1, 5)), finish = None )"
   ]
  },
  {
   "cell_type": "code",
   "execution_count": 60,
   "metadata": {},
   "outputs": [
    {
     "data": {
      "text/plain": [
       "array([-1.4, -1.4])"
      ]
     },
     "execution_count": 60,
     "metadata": {},
     "output_type": "execute_result"
    }
   ],
   "source": [
    "output = False # 계산 과정을 출력하지 않는다\n",
    "opt1 = spo.brute(fo, ((-10, 10.1, 0.1), (-10, 10.1, 0.1)), finish=None)\n",
    "opt1"
   ]
  },
  {
   "cell_type": "code",
   "execution_count": 61,
   "metadata": {},
   "outputs": [
    {
     "data": {
      "text/plain": [
       "-1.7748994599769203"
      ]
     },
     "execution_count": 61,
     "metadata": {},
     "output_type": "execute_result"
    }
   ],
   "source": [
    "x_1, y_1 = opt1\n",
    "fm(x_1, y_1)"
   ]
  },
  {
   "cell_type": "markdown",
   "metadata": {},
   "source": [
    "### 03 국소 최적화 Local Optimization\n",
    "위의 전역 최적화 결과 (opt1)를 기반으로 국소 최적화를 진행"
   ]
  },
  {
   "cell_type": "code",
   "execution_count": 62,
   "metadata": {},
   "outputs": [
    {
     "name": "stdout",
     "output_type": "stream",
     "text": [
      " -1.4000  -1.4000  -1.7749\n",
      " -1.4700  -1.4000  -1.7743\n",
      " -1.4000  -1.4700  -1.7743\n",
      " -1.3300  -1.4700  -1.7696\n",
      " -1.4350  -1.4175  -1.7756\n",
      " -1.4350  -1.3475  -1.7722\n",
      " -1.4088  -1.4394  -1.7755\n",
      " -1.4438  -1.4569  -1.7751\n",
      " -1.4328  -1.4427  -1.7756\n",
      " -1.4591  -1.4208  -1.7752\n",
      " -1.4213  -1.4347  -1.7757\n",
      " -1.4235  -1.4096  -1.7755\n",
      " -1.4305  -1.4344  -1.7757\n",
      " -1.4168  -1.4516  -1.7753\n",
      " -1.4305  -1.4260  -1.7757\n",
      " -1.4396  -1.4257  -1.7756\n",
      " -1.4259  -1.4325  -1.7757\n",
      " -1.4259  -1.4241  -1.7757\n",
      " -1.4304  -1.4177  -1.7757\n",
      " -1.4270  -1.4288  -1.7757\n",
      "Warning: Maximum number of function evaluations has been exceeded.\n"
     ]
    },
    {
     "data": {
      "text/plain": [
       "array([-1.42702972, -1.42876755])"
      ]
     },
     "execution_count": 62,
     "metadata": {},
     "output_type": "execute_result"
    }
   ],
   "source": [
    "output = True\n",
    "opt2 = spo.fmin(fo, opt1, xtol=0.001, ftol=0.001, maxiter=15, maxfun=20)\n",
    "opt2"
   ]
  },
  {
   "cell_type": "code",
   "execution_count": 63,
   "metadata": {},
   "outputs": [
    {
     "data": {
      "text/plain": [
       "-1.7757246992239009"
      ]
     },
     "execution_count": 63,
     "metadata": {},
     "output_type": "execute_result"
    }
   ],
   "source": [
    "x_1, y_1 = opt2\n",
    "fm(x_1, y_1)"
   ]
  },
  {
   "cell_type": "code",
   "execution_count": 64,
   "metadata": {},
   "outputs": [
    {
     "name": "stdout",
     "output_type": "stream",
     "text": [
      "Optimization terminated successfully.\n",
      "         Current function value: 0.015826\n",
      "         Iterations: 46\n",
      "         Function evaluations: 86\n"
     ]
    },
    {
     "data": {
      "text/plain": [
       "array([ 4.2710728 ,  4.27106945])"
      ]
     },
     "execution_count": 64,
     "metadata": {},
     "output_type": "execute_result"
    }
   ],
   "source": [
    "output = False\n",
    "spo.fmin(fo, (2.0, 2.0), maxiter=250)"
   ]
  },
  {
   "cell_type": "markdown",
   "metadata": {},
   "source": [
    "### 04 제약조건이 있는 최적화\n",
    "부등식의 제약조건 내 최적화 Constrained Optimization"
   ]
  },
  {
   "cell_type": "code",
   "execution_count": 65,
   "metadata": {
    "collapsed": true
   },
   "outputs": [],
   "source": [
    "# 최소화 대상 함수\n",
    "from math import sqrt\n",
    "def Eu(p):\n",
    "    s, b = p\n",
    "    return -(0.5 * sqrt(s * 15 + b * 5) + 0.5 * sqrt(s * 5 + b * 12))"
   ]
  },
  {
   "cell_type": "code",
   "execution_count": 66,
   "metadata": {},
   "outputs": [
    {
     "data": {
      "text/plain": [
       "     fun: -9.700883611487832\n",
       "     jac: array([-0.48508096, -0.48489535])\n",
       " message: 'Optimization terminated successfully.'\n",
       "    nfev: 21\n",
       "     nit: 5\n",
       "    njev: 5\n",
       "  status: 0\n",
       " success: True\n",
       "       x: array([ 8.02547122,  1.97452878])"
      ]
     },
     "execution_count": 66,
     "metadata": {},
     "output_type": "execute_result"
    }
   ],
   "source": [
    "# 제약조건\n",
    "cons = ({'type': 'ineq', 'fun': lambda p:  100 - p[0] * 10 - p[1] * 10})\n",
    "# 예산조건<br></br>\n",
    "bnds = ((0, 1000), (0, 1000))  # 충분히 큰 범위값을 지정한다\n",
    "# 최적화를 위한 초기 인수값 추가 ([5,5])\n",
    "result = spo.minimize(Eu, [5, 5], method='SLSQP',\n",
    "                      bounds = bnds, constraints = cons)\n",
    "result"
   ]
  },
  {
   "cell_type": "code",
   "execution_count": 67,
   "metadata": {},
   "outputs": [
    {
     "data": {
      "text/plain": [
       "array([ 8.02547122,  1.97452878])"
      ]
     },
     "execution_count": 67,
     "metadata": {},
     "output_type": "execute_result"
    }
   ],
   "source": [
    "# 최적 인수값만 출력 \n",
    "# ( result 객체내 dict 으로 선택적 출력 )\n",
    "result['x']"
   ]
  },
  {
   "cell_type": "code",
   "execution_count": 68,
   "metadata": {},
   "outputs": [
    {
     "data": {
      "text/plain": [
       "-9.700883611487832"
      ]
     },
     "execution_count": 68,
     "metadata": {},
     "output_type": "execute_result"
    }
   ],
   "source": [
    "# 최적 함수 값 (단 부호는 반대)\n",
    "result['fun']"
   ]
  },
  {
   "cell_type": "code",
   "execution_count": 69,
   "metadata": {},
   "outputs": [
    {
     "data": {
      "text/plain": [
       "99.999999999999986"
      ]
     },
     "execution_count": 69,
     "metadata": {},
     "output_type": "execute_result"
    }
   ],
   "source": [
    "# 최적 주식수와 가격 벡터의 내적을 연산\n",
    "np.dot(result['x'], [10,10])"
   ]
  },
  {
   "cell_type": "markdown",
   "metadata": {},
   "source": [
    "<br></br>\n",
    "## 4 정적분 Integration\n",
    "위험중립 결과값을, 할인한 기댓값으로 연산시 활용"
   ]
  },
  {
   "cell_type": "markdown",
   "metadata": {},
   "source": [
    "### 01 정적분 계산 및 Graph 그리기\n",
    "Polygon( [X, Y 좌표 list 객체], facecolor='0.7', edgecolor='0.5')"
   ]
  },
  {
   "cell_type": "code",
   "execution_count": 70,
   "metadata": {
    "collapsed": true
   },
   "outputs": [],
   "source": [
    "import scipy.integrate as sci\n",
    "\n",
    "def f(x):\n",
    "    return np.sin(x) + 0.5 * x"
   ]
  },
  {
   "cell_type": "code",
   "execution_count": 71,
   "metadata": {
    "scrolled": true
   },
   "outputs": [
    {
     "data": {
      "text/plain": [
       "array([ 0.        ,  0.30470875,  0.60100578,  0.88082849,  1.13679805,\n",
       "        1.36252565,  1.55287768,  1.70418879,  1.81441401,  1.88321366,\n",
       "        1.91196739,  1.903717  ,  1.86304012,  1.79586023,  1.70920083,\n",
       "        1.61089392,  1.50925492,  1.41273756,  1.32958298,  1.26747772,\n",
       "        1.23323464,  1.2325102 ,  1.26956967,  1.34711011,  1.46614839,\n",
       "        1.62597904,  1.82420349,  2.05682965,  2.31843757,  2.60240443,\n",
       "        2.9011794 ,  3.20659704,  3.51021619,  3.80367037,  4.07901495,\n",
       "        4.32905699,  4.54765369,  4.7299674 ,  4.87266642,  4.9740632 ,\n",
       "        5.0341845 ,  5.05477017,  5.03920101,  4.99235842,  4.92042179,\n",
       "        4.83061205,  4.73089195,  4.62963557,  4.53528075,  4.45597889])"
      ]
     },
     "execution_count": 71,
     "metadata": {},
     "output_type": "execute_result"
    }
   ],
   "source": [
    "a = 0.5  # 정적분 구간의 좌극한\n",
    "b = 9.5  # 정적분 구간의 우극한\n",
    "x = np.linspace(0, 10)\n",
    "y = f(x)\n",
    "y"
   ]
  },
  {
   "cell_type": "code",
   "execution_count": 72,
   "metadata": {},
   "outputs": [
    {
     "data": {
      "text/plain": [
       "[(0.5, 0),\n",
       " (0.5, 0.72942553860420301),\n",
       " (0.68367346938775508, 0.97348189928683826),\n",
       " (0.86734693877551017, 1.196288954158784),\n",
       " (1.0510204081632653, 1.3934407035518863),\n",
       " (1.2346938775510203, 1.5613942232434239)]"
      ]
     },
     "execution_count": 72,
     "metadata": {},
     "output_type": "execute_result"
    }
   ],
   "source": [
    "# 정적분 구간 계산하기\n",
    "Ix = np.linspace(a, b)\n",
    "Iy = f(Ix)\n",
    "verts = [(a, 0)] + list(zip(Ix, Iy)) + [(b, 0)]\n",
    "verts[:6]"
   ]
  },
  {
   "cell_type": "code",
   "execution_count": 73,
   "metadata": {},
   "outputs": [
    {
     "data": {
      "text/plain": [
       "[<matplotlib.text.Text at 0x7f7dd8846ac8>,\n",
       " <matplotlib.text.Text at 0x7f7dd891cc18>]"
      ]
     },
     "execution_count": 73,
     "metadata": {},
     "output_type": "execute_result"
    },
    {
     "data": {
      "image/png": "[encoded data removed]",
      "text/plain": [
       "<matplotlib.figure.Figure at 0x7f7dd8ba0b70>"
      ]
     },
     "metadata": {},
     "output_type": "display_data"
    }
   ],
   "source": [
    "# Example function with integral area\n",
    "from matplotlib.patches import Polygon\n",
    "fig, ax = plt.subplots(figsize = (7, 5))\n",
    "plt.plot(x, y, 'b', linewidth = 2)\n",
    "plt.ylim(ymin = 0)\n",
    "\n",
    "# 함수내 정적분 구간 시각화\n",
    "poly = Polygon(verts, facecolor='0.7', edgecolor='0.5')\n",
    "ax.add_patch(poly)\n",
    "\n",
    "# 그래프의 라벨을 지정한다\n",
    "plt.text(0.75 * (a + b), 1.5, r\"$\\int_a^b f(x)dx$\",  # 적분 구간에 글자표시\n",
    "         horizontalalignment='center', fontsize=20)\n",
    "plt.figtext(0.9, 0.075, '$x$')         # x 축의 끝에  x 표시\n",
    "plt.figtext(0.075, 0.9, '$f(x)$')      # y 축의 끝에  f(x) 표시\n",
    "ax.set_xticks((a, b))                  # x축 a, b 를 marked\n",
    "ax.set_yticks([f(a), f(b)])            # y축 유효구간 marked\n",
    "ax.set_xticklabels(('$a$', '$b$'))"
   ]
  },
  {
   "cell_type": "markdown",
   "metadata": {},
   "source": [
    "### 02 수치적분\n",
    "Numerical Integration"
   ]
  },
  {
   "cell_type": "code",
   "execution_count": 74,
   "metadata": {},
   "outputs": [
    {
     "data": {
      "text/plain": [
       "24.366995967084602"
      ]
     },
     "execution_count": 74,
     "metadata": {},
     "output_type": "execute_result"
    }
   ],
   "source": [
    "# sci.fixed_quad() : 가우스 구적법으로 정적분\n",
    "import scipy.integrate as sci\n",
    "sci.fixed_quad(f, a, b)[0]"
   ]
  },
  {
   "cell_type": "code",
   "execution_count": 75,
   "metadata": {},
   "outputs": [
    {
     "data": {
      "text/plain": [
       "24.374754718086752"
      ]
     },
     "execution_count": 75,
     "metadata": {},
     "output_type": "execute_result"
    }
   ],
   "source": [
    "# sci.quad() : 적응 구적법으로 정적분\n",
    "sci.quad(f, a, b)[0]"
   ]
  },
  {
   "cell_type": "code",
   "execution_count": 76,
   "metadata": {},
   "outputs": [
    {
     "data": {
      "text/plain": [
       "24.374754718086713"
      ]
     },
     "execution_count": 76,
     "metadata": {},
     "output_type": "execute_result"
    }
   ],
   "source": [
    "# sci.romberg() : 롬베르크 적분법으로 정적분\n",
    "sci.romberg(f, a, b)"
   ]
  },
  {
   "cell_type": "code",
   "execution_count": 77,
   "metadata": {},
   "outputs": [
    {
     "data": {
      "text/plain": [
       "24.352733271544516"
      ]
     },
     "execution_count": 77,
     "metadata": {},
     "output_type": "execute_result"
    }
   ],
   "source": [
    "# sci.trapz() : array 객체로 사다리꼴 정적분\n",
    "xi = np.linspace(0.5, 9.5, 25)\n",
    "sci.trapz(f(xi), xi)"
   ]
  },
  {
   "cell_type": "code",
   "execution_count": 78,
   "metadata": {},
   "outputs": [
    {
     "data": {
      "text/plain": [
       "24.374964184550748"
      ]
     },
     "execution_count": 78,
     "metadata": {},
     "output_type": "execute_result"
    }
   ],
   "source": [
    "# sci.simps() : array 객체로 심승 정적분\n",
    "sci.simps(f(xi), xi)"
   ]
  },
  {
   "cell_type": "markdown",
   "metadata": {},
   "source": [
    "### 03 시뮬레이션을 사용한 적분\n",
    "Integration by Simulation"
   ]
  },
  {
   "cell_type": "code",
   "execution_count": 79,
   "metadata": {},
   "outputs": [
    {
     "name": "stdout",
     "output_type": "stream",
     "text": [
      "24.8047622793\n",
      "26.5229188983\n",
      "26.2655475192\n",
      "26.0277033994\n",
      "24.9995418144\n",
      "23.8818101416\n",
      "23.5279122748\n",
      "23.507857659\n",
      "23.6723674607\n",
      "23.6794104161\n",
      "24.4244017079\n",
      "24.2390053468\n",
      "24.115396925\n",
      "24.4241919876\n",
      "23.9249330805\n",
      "24.1948421203\n",
      "24.1173483782\n",
      "24.1006909297\n",
      "23.7690510985\n"
     ]
    }
   ],
   "source": [
    "# x 값이 증가할수록, 정적분 값으로 수렴한다\n",
    "for i in range(1, 20):\n",
    "    np.random.seed(1000)\n",
    "    x = np.random.random(i * 10) * (b - a) + a\n",
    "    print(np.sum(f(x)) / len(x) * (b - a))"
   ]
  },
  {
   "cell_type": "markdown",
   "metadata": {},
   "source": [
    "<br></br>\n",
    "## 5 심볼릭 연산\n",
    "Symbolic Computation\n",
    "\n",
    "pip install sympy"
   ]
  },
  {
   "cell_type": "markdown",
   "metadata": {},
   "source": [
    "### 01 심볼릭 연산의 기초\n",
    "수식을 보기좋게 화면에 출력"
   ]
  },
  {
   "cell_type": "code",
   "execution_count": 80,
   "metadata": {},
   "outputs": [
    {
     "data": {
      "text/plain": [
       "sympy.core.symbol.Symbol"
      ]
     },
     "execution_count": 80,
     "metadata": {},
     "output_type": "execute_result"
    }
   ],
   "source": [
    "# 심볼릭 객체를 생성\n",
    "import sympy as sy\n",
    "\n",
    "x = sy.Symbol('x')\n",
    "y = sy.Symbol('y')\n",
    "type(x)"
   ]
  },
  {
   "cell_type": "code",
   "execution_count": 81,
   "metadata": {},
   "outputs": [
    {
     "data": {
      "text/plain": [
       "sqrt(x)"
      ]
     },
     "execution_count": 81,
     "metadata": {},
     "output_type": "execute_result"
    }
   ],
   "source": [
    "# x 제곱근을 정의함으로써, 수학식의 일부와 동일하게 적용\n",
    "sy.sqrt(x)"
   ]
  },
  {
   "cell_type": "code",
   "execution_count": 82,
   "metadata": {},
   "outputs": [
    {
     "data": {
      "text/plain": [
       "sqrt(x) - 13"
      ]
     },
     "execution_count": 82,
     "metadata": {},
     "output_type": "execute_result"
    }
   ],
   "source": [
    "# symblic 이 포함된 수식\n",
    "3 + sy.sqrt(x) - 4 ** 2"
   ]
  },
  {
   "cell_type": "code",
   "execution_count": 83,
   "metadata": {},
   "outputs": [
    {
     "data": {
      "text/plain": [
       "1.5*x**2 + 4.5"
      ]
     },
     "execution_count": 83,
     "metadata": {},
     "output_type": "execute_result"
    }
   ],
   "source": [
    "# symblic 이 포함된 수식 2 \n",
    "f = x ** 2 + 3 + 0.5 * x ** 2 + 3 / 2\n",
    "sy.simplify(f)"
   ]
  },
  {
   "cell_type": "code",
   "execution_count": 84,
   "metadata": {},
   "outputs": [
    {
     "name": "stdout",
     "output_type": "stream",
     "text": [
      "     2      \n",
      "1.5*x  + 4.5\n"
     ]
    },
    {
     "data": {
      "text/plain": [
       "'     2      \\n1.5*x  + 4.5'"
      ]
     },
     "execution_count": 84,
     "metadata": {},
     "output_type": "execute_result"
    }
   ],
   "source": [
    "# symblic 이 포함된 수식 3 : 제곱근은 보기좋게 표시\n",
    "sy.init_printing(pretty_print=False, use_unicode=False)\n",
    "print(sy.pretty(f))\n",
    "sy.pretty(f)"
   ]
  },
  {
   "cell_type": "code",
   "execution_count": 85,
   "metadata": {},
   "outputs": [
    {
     "name": "stdout",
     "output_type": "stream",
     "text": [
      "  ___      \n",
      "\\/ x  + 0.5\n"
     ]
    },
    {
     "data": {
      "text/plain": [
       "'  ___      \\n\\\\/ x  + 0.5'"
      ]
     },
     "execution_count": 85,
     "metadata": {},
     "output_type": "execute_result"
    }
   ],
   "source": [
    "print(sy.pretty(sy.sqrt(x) + 0.5))\n",
    "sy.pretty(sy.sqrt(x) + 0.5)"
   ]
  },
  {
   "cell_type": "code",
   "execution_count": 86,
   "metadata": {},
   "outputs": [
    {
     "data": {
      "text/plain": [
       "'3.14159265358979323846264338327950288419'"
      ]
     },
     "execution_count": 86,
     "metadata": {},
     "output_type": "execute_result"
    }
   ],
   "source": [
    "pi_str = str(sy.N(sy.pi, 40000))\n",
    "pi_str[:40]"
   ]
  },
  {
   "cell_type": "code",
   "execution_count": 87,
   "metadata": {},
   "outputs": [
    {
     "data": {
      "text/plain": [
       "'3907469361988150781468526213325247383765'"
      ]
     },
     "execution_count": 87,
     "metadata": {},
     "output_type": "execute_result"
    }
   ],
   "source": [
    "pi_str[-40:]"
   ]
  },
  {
   "cell_type": "code",
   "execution_count": 88,
   "metadata": {},
   "outputs": [
    {
     "data": {
      "text/plain": [
       "3987"
      ]
     },
     "execution_count": 88,
     "metadata": {},
     "output_type": "execute_result"
    }
   ],
   "source": [
    "pi_str.find('652272')"
   ]
  },
  {
   "cell_type": "markdown",
   "metadata": {},
   "source": [
    "### 02 방정식\n",
    "해당 수식을 연산가능 Equations"
   ]
  },
  {
   "cell_type": "code",
   "execution_count": 89,
   "metadata": {},
   "outputs": [
    {
     "name": "stdout",
     "output_type": "stream",
     "text": [
      "[-1, 1]\n",
      "[-2, 2]\n",
      "[0.858094329496553, -0.679047164748276 - 0.839206763026694*I, -0.679047164748276 + 0.839206763026694*I]\n"
     ]
    },
    {
     "data": {
      "text/plain": [
       "[{x: -I*y}, {x: I*y}]"
      ]
     },
     "execution_count": 89,
     "metadata": {},
     "output_type": "execute_result"
    }
   ],
   "source": [
    "# 해당 수식의 연산결과 출력\n",
    "print(sy.solve(x ** 2 - 1))                 # X^2 - 1 = 0 의 수식을 풀이\n",
    "print(sy.solve(x ** 2 - 1 - 3))             # X^2 - 1 - 3 = 0 의 수식을 풀이\n",
    "print(sy.solve(x ** 3 + 0.5 * x ** 2 - 1))  # X^3 + 0.5X^2 -1 = 0 의 수식을 풀이\n",
    "sy.solve(x ** 2 + y ** 2)                   # X^2 + Y^2 = 0 복소수 연산"
   ]
  },
  {
   "cell_type": "markdown",
   "metadata": {},
   "source": [
    "### 03 적분\n",
    "Integration"
   ]
  },
  {
   "cell_type": "code",
   "execution_count": 90,
   "metadata": {
    "collapsed": true
   },
   "outputs": [],
   "source": [
    "# x , y 를 제외한 심볼릭 객체 (a, b)를 정의\n",
    "a, b = sy.symbols('a b')"
   ]
  },
  {
   "cell_type": "code",
   "execution_count": 91,
   "metadata": {},
   "outputs": [
    {
     "name": "stdout",
     "output_type": "stream",
     "text": [
      "  b                    \n",
      "  /                    \n",
      " |                     \n",
      " |  (0.5*x + sin(x)) dx\n",
      " |                     \n",
      "/                      \n",
      "a                      \n"
     ]
    }
   ],
   "source": [
    "# 적분 수식을 출력\n",
    "print(sy.pretty(sy.Integral(sy.sin(x) + 0.5 * x, (x, a, b))))"
   ]
  },
  {
   "cell_type": "code",
   "execution_count": 92,
   "metadata": {},
   "outputs": [
    {
     "name": "stdout",
     "output_type": "stream",
     "text": [
      "f(x):  \n",
      "       2         \n",
      "0.25*x  - cos(x)\n"
     ]
    },
    {
     "data": {
      "text/plain": [
       "24.3747547180867"
      ]
     },
     "execution_count": 92,
     "metadata": {},
     "output_type": "execute_result"
    }
   ],
   "source": [
    "# 부정적분 함수를 출력\n",
    "int_func = sy.integrate(sy.sin(x) + 0.5 * x, x)\n",
    "print('f(x):  \\n', sy.pretty(int_func))\n",
    "\n",
    "Fb = int_func.subs(x, 9.5).evalf()\n",
    "Fa = int_func.subs(x, 0.5).evalf()\n",
    "Fb - Fa   # 정확한 적분값 출력"
   ]
  },
  {
   "cell_type": "code",
   "execution_count": 93,
   "metadata": {},
   "outputs": [
    {
     "name": "stdout",
     "output_type": "stream",
     "text": [
      "        2         2                  \n",
      "- 0.25*a  + 0.25*b  + cos(a) - cos(b)\n"
     ]
    },
    {
     "data": {
      "text/plain": [
       "24.3747547180868"
      ]
     },
     "execution_count": 93,
     "metadata": {},
     "output_type": "execute_result"
    }
   ],
   "source": [
    "int_func_limits = sy.integrate(sy.sin(x) + 0.5 * x, (x, a, b))\n",
    "print(sy.pretty(int_func_limits))\n",
    "# 심볼릭 함수에 a, b 수치를 대입 : ( a, b  {dict} 객체의 형식으로 입력 )\n",
    "int_func_limits.subs({a : 0.5, b : 9.5}).evalf()"
   ]
  },
  {
   "cell_type": "code",
   "execution_count": 94,
   "metadata": {},
   "outputs": [
    {
     "data": {
      "text/plain": [
       "24.3747547180867"
      ]
     },
     "execution_count": 94,
     "metadata": {},
     "output_type": "execute_result"
    }
   ],
   "source": [
    "# 적분 구간을 인수로 대입\n",
    "# sy.integrate( 수식, (매개변수, 구간1, 구간2))\n",
    "sy.integrate(sy.sin(x) + 0.5 * x, (x, 0.5, 9.5))"
   ]
  },
  {
   "cell_type": "markdown",
   "metadata": {},
   "source": [
    "### 04 미분\n",
    "부정적분 함수를 다시 미분시, 본래의 함수로 되돌아간다"
   ]
  },
  {
   "cell_type": "code",
   "execution_count": 95,
   "metadata": {},
   "outputs": [
    {
     "data": {
      "text/plain": [
       "0.5*x + sin(x)"
      ]
     },
     "execution_count": 95,
     "metadata": {},
     "output_type": "execute_result"
    }
   ],
   "source": [
    "int_func = sy.integrate(sy.sin(x) + 0.5 * x, x)\n",
    "int_func.diff()"
   ]
  },
  {
   "cell_type": "code",
   "execution_count": 96,
   "metadata": {},
   "outputs": [
    {
     "name": "stdout",
     "output_type": "stream",
     "text": [
      "d/dx : 0.1*x + cos(x) \n",
      "d/dy : 0.1*y - sin(y)\n"
     ]
    }
   ],
   "source": [
    "# sy.diff( 미분대상 함수, dy/ dx 편미분 변수)\n",
    "f = (sy.sin(x) + 0.05 * x ** 2\n",
    "   + sy.cos(y) + 0.05 * y ** 2)\n",
    "\n",
    "del_x = sy.diff(f, x)\n",
    "del_y = sy.diff(f, y)\n",
    "print('d/dx :', del_x, '\\nd/dy :', del_y)"
   ]
  },
  {
   "cell_type": "code",
   "execution_count": 97,
   "metadata": {},
   "outputs": [
    {
     "name": "stdout",
     "output_type": "stream",
     "text": [
      "-1.42755177876459\n",
      "7.06817435809582\n"
     ]
    },
    {
     "data": {
      "text/plain": [
       "2.31748761946137"
      ]
     },
     "execution_count": 97,
     "metadata": {},
     "output_type": "execute_result"
    }
   ],
   "source": [
    "# d/dx 미분함수에 , x = -1.5 대입\n",
    "xo = sy.nsolve(del_x, -1.5); print(xo)\n",
    "yo = sy.nsolve(del_y, -1.5); print(yo)\n",
    "\n",
    "# 전역 최소점 \n",
    "f.subs({x : xo, y : yo}).evalf() "
   ]
  },
  {
   "cell_type": "code",
   "execution_count": 98,
   "metadata": {},
   "outputs": [
    {
     "name": "stdout",
     "output_type": "stream",
     "text": [
      "1.74632928225285\n",
      "7.06817435809582\n"
     ]
    },
    {
     "data": {
      "text/plain": [
       "4.34246735131328"
      ]
     },
     "execution_count": 98,
     "metadata": {},
     "output_type": "execute_result"
    }
   ],
   "source": [
    "xo = sy.nsolve(del_x, 1.5); print(xo)\n",
    "yo = sy.nsolve(del_y, 1.5); print(yo)\n",
    "# 국소 최소점 연산\n",
    "f.subs({x : xo, y : yo}).evalf()"
   ]
  },
  {
   "cell_type": "code",
   "execution_count": 99,
   "metadata": {
    "collapsed": true
   },
   "outputs": [],
   "source": [
    "# 결론\n",
    "# 함수근사 : 이자율 보간 및 옵션가치 계산을 위한 몬테카를로 분석의 금융모델에 주요\n",
    "# 최적화기법 : \n",
    "# 수치적분 : \n",
    "# SymPy 로 수식연산을 확인 및 적용에도 용이하다"
   ]
  }
 ],
 "metadata": {
  "kernelspec": {
   "display_name": "Python 3",
   "language": "python",
   "name": "python3"
  },
  "language_info": {
   "codemirror_mode": {
    "name": "ipython",
    "version": 3
   },
   "file_extension": ".py",
   "mimetype": "text/x-python",
   "name": "python",
   "nbconvert_exporter": "python",
   "pygments_lexer": "ipython3",
   "version": "3.6.1"
  }
 },
 "nbformat": 4,
 "nbformat_minor": 2
}
