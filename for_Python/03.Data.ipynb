{
 "cells": [
  {
   "cell_type": "markdown",
   "metadata": {},
   "source": [
    "# <strong>데이터 입출력 (Chapter 7)\n",
    "<strong>입출력 작업"
   ]
  },
  {
   "cell_type": "code",
   "execution_count": 1,
   "metadata": {},
   "outputs": [],
   "source": [
    "# 기본 입출력 작업 : text, ndarray, SQL\n",
    "# pandas 모듈을 활용 : 상동 및 CSV, JSON을 추가적 가능\n",
    "# PyTable을 사용한 입출력 : HDF5 표준을 활용한 대규모 입출력 작업\n",
    "!rm ./data/number.*"
   ]
  },
  {
   "cell_type": "markdown",
   "metadata": {},
   "source": [
    "<br></br>\n",
    "## <STRONG>1 기본 파이썬 입출력\n",
    "Input-Output Operations\n",
    "### <strong>01 SQL 데이터베이스\n",
    "sqlite3"
   ]
  },
  {
   "cell_type": "code",
   "execution_count": 2,
   "metadata": {},
   "outputs": [
    {
     "name": "stdout",
     "output_type": "stream",
     "text": [
      "(10000, 2)\n"
     ]
    }
   ],
   "source": [
    "# DB와 연결을 설정\n",
    "import sqlite3\n",
    "import numpy as np\n",
    "filename = './data/number'\n",
    "con = sqlite3.Connection(filename + '.db')\n",
    "query = 'Create Table numbs (Date date, No1 real, No2 real)'\n",
    "con.execute(query)   # execute : 명령입력\n",
    "\n",
    "# input 01 : 테이블에 데이터 추가하기 : 1 줄 추가\n",
    "import datetime\n",
    "con.execute('Insert Into numbs  values(?,?,?)', (datetime.datetime.now(), 0.12, 7.3))\n",
    "\n",
    "# input 02 : 10,000개 데이터를 생성후 입력하기\n",
    "data = np.random.standard_normal((10000, 2)).round(5)\n",
    "print(data.shape)\n",
    "for row in data:\n",
    "    con.execute('INSERT INTO numbs VALUES(?, ?, ?)',\n",
    "                (datetime.datetime.now(), row[0], row[1]))\n",
    "con.commit()  # commit  : 입력시행 (범하다)"
   ]
  },
  {
   "cell_type": "code",
   "execution_count": 3,
   "metadata": {},
   "outputs": [
    {
     "data": {
      "text/plain": [
       "[('2018-01-02 10:23:41.363631', 0.12, 7.3),\n",
       " ('2018-01-02 10:23:41.365748', -0.22266, 0.86991),\n",
       " ('2018-01-02 10:23:41.365893', 0.63346, 1.19462),\n",
       " ('2018-01-02 10:23:41.365914', 1.13999, -1.22335)]"
      ]
     },
     "execution_count": 3,
     "metadata": {},
     "output_type": "execute_result"
    }
   ],
   "source": [
    "# load 01 : 저장한 데이터 불러오기\n",
    "con.execute('SELECT * FROM numbs').fetchmany(4)"
   ]
  },
  {
   "cell_type": "code",
   "execution_count": 4,
   "metadata": {},
   "outputs": [
    {
     "name": "stdout",
     "output_type": "stream",
     "text": [
      "('2018-01-02 10:23:41.363631', 7.3)\n",
      "('2018-01-02 10:23:41.365748', 0.86991)\n",
      "('2018-01-02 10:23:41.365893', 1.19462)\n"
     ]
    }
   ],
   "source": [
    "# load 02 : 한번에 특정 column 만 호출\n",
    "pointer = con.execute('SELECT   Date, No2   FROM numbs')\n",
    "for i in range(3):\n",
    "    print(pointer.fetchone())\n",
    "con.close()"
   ]
  },
  {
   "cell_type": "markdown",
   "metadata": {},
   "source": [
    "### <strong>02 Numpy 활용한 SQlite\n",
    "numpy 의 dtype를 지정하면 Sqlite의 자료형 변환의 수고를 덜어준다\n",
    "\n",
    "con.executemany() 데이터 전체입력함수"
   ]
  },
  {
   "cell_type": "code",
   "execution_count": 5,
   "metadata": {},
   "outputs": [
    {
     "name": "stdout",
     "output_type": "stream",
     "text": [
      "CPU times: user 6.44 s, sys: 81.8 ms, total: 6.52 s\n",
      "Wall time: 6.68 s\n"
     ]
    }
   ],
   "source": [
    "%%time \n",
    "import sqlite3\n",
    "import numpy as np\n",
    "query = \"\"\"CREATE TABLE numbers (No1 real, No2 real, \n",
    "                                 No3 real, No4 real, No5 real)\"\"\"\n",
    "con = sqlite3.connect('./data/number.db')\n",
    "con.execute(query)\n",
    "\n",
    "data = np.random.standard_normal((1000000, 5)).round(5)\n",
    "con.executemany('INSERT INTO numbers VALUES (?, ?, ?, ?, ?)', data)\n",
    "con.commit()"
   ]
  },
  {
   "cell_type": "code",
   "execution_count": 6,
   "metadata": {},
   "outputs": [
    {
     "name": "stdout",
     "output_type": "stream",
     "text": [
      "-rw-r--r-- 1 markbaum markbaum 53149696  1월  2 10:23 ./data/number.db\r\n"
     ]
    }
   ],
   "source": [
    "!ls ./data/number.* -l"
   ]
  },
  {
   "cell_type": "code",
   "execution_count": 7,
   "metadata": {},
   "outputs": [
    {
     "name": "stdout",
     "output_type": "stream",
     "text": [
      "[(-0.75977, -1.1668, -0.67039, -0.51925, 0.49838), (0.00907, -0.21774, -0.28857, -0.3507, 1.1898)]\n",
      "CPU times: user 1.1 s, sys: 64.2 ms, total: 1.17 s\n",
      "Wall time: 1.17 s\n"
     ]
    }
   ],
   "source": [
    "%%time\n",
    "temp = con.execute('SELECT * FROM numbers').fetchall()\n",
    "print(temp[:2])  # 전체 데이터 불러온 뒤 index 2까지 출력\n",
    "temp = 0.0"
   ]
  },
  {
   "cell_type": "code",
   "execution_count": 8,
   "metadata": {},
   "outputs": [
    {
     "name": "stdout",
     "output_type": "stream",
     "text": [
      "CPU times: user 405 ms, sys: 32.2 ms, total: 437 ms\n",
      "Wall time: 440 ms\n"
     ]
    }
   ],
   "source": [
    "%%time\n",
    "query = 'SELECT * FROM numbers WHERE No1 > 0 AND No2 < 0'\n",
    "res = np.array(con.execute(query).fetchall()).round(3)"
   ]
  },
  {
   "cell_type": "code",
   "execution_count": 9,
   "metadata": {},
   "outputs": [
    {
     "data": {
      "image/png": "[encoded data removed]",
      "text/plain": [
       "<matplotlib.figure.Figure at 0x7f2a70746588>"
      ]
     },
     "metadata": {},
     "output_type": "display_data"
    }
   ],
   "source": [
    "%matplotlib inline\n",
    "import matplotlib.pyplot as plt\n",
    "res = res[::100]    # every 100th result\n",
    "plt.plot(res[:, 0], res[:, 1], 'ro')\n",
    "plt.title('Plot of the query result')\n",
    "plt.grid(True); plt.tight_layout(); plt.show()"
   ]
  },
  {
   "cell_type": "markdown",
   "metadata": {},
   "source": [
    "### <strong>03 Pandas 활용한 SQlite\n",
    "query 결과를 pandas로 변환"
   ]
  },
  {
   "cell_type": "code",
   "execution_count": 10,
   "metadata": {},
   "outputs": [
    {
     "name": "stdout",
     "output_type": "stream",
     "text": [
      "CPU times: user 1.39 s, sys: 107 ms, total: 1.49 s\n",
      "Wall time: 1.5 s\n"
     ]
    },
    {
     "data": {
      "text/html": [
       "<div>\n",
       "<style scoped>\n",
       "    .dataframe tbody tr th:only-of-type {\n",
       "        vertical-align: middle;\n",
       "    }\n",
       "\n",
       "    .dataframe tbody tr th {\n",
       "        vertical-align: top;\n",
       "    }\n",
       "\n",
       "    .dataframe thead th {\n",
       "        text-align: right;\n",
       "    }\n",
       "</style>\n",
       "<table border=\"1\" class=\"dataframe\">\n",
       "  <thead>\n",
       "    <tr style=\"text-align: right;\">\n",
       "      <th></th>\n",
       "      <th>No1</th>\n",
       "      <th>No2</th>\n",
       "      <th>No3</th>\n",
       "      <th>No4</th>\n",
       "      <th>No5</th>\n",
       "    </tr>\n",
       "  </thead>\n",
       "  <tbody>\n",
       "    <tr>\n",
       "      <th>0</th>\n",
       "      <td>-0.75977</td>\n",
       "      <td>-1.16680</td>\n",
       "      <td>-0.67039</td>\n",
       "      <td>-0.51925</td>\n",
       "      <td>0.49838</td>\n",
       "    </tr>\n",
       "    <tr>\n",
       "      <th>1</th>\n",
       "      <td>0.00907</td>\n",
       "      <td>-0.21774</td>\n",
       "      <td>-0.28857</td>\n",
       "      <td>-0.35070</td>\n",
       "      <td>1.18980</td>\n",
       "    </tr>\n",
       "    <tr>\n",
       "      <th>2</th>\n",
       "      <td>-0.25506</td>\n",
       "      <td>-0.21466</td>\n",
       "      <td>-0.95173</td>\n",
       "      <td>1.32384</td>\n",
       "      <td>-0.19275</td>\n",
       "    </tr>\n",
       "  </tbody>\n",
       "</table>\n",
       "</div>"
      ],
      "text/plain": [
       "       No1      No2      No3      No4      No5\n",
       "0 -0.75977 -1.16680 -0.67039 -0.51925  0.49838\n",
       "1  0.00907 -0.21774 -0.28857 -0.35070  1.18980\n",
       "2 -0.25506 -0.21466 -0.95173  1.32384 -0.19275"
      ]
     },
     "execution_count": 10,
     "metadata": {},
     "output_type": "execute_result"
    }
   ],
   "source": [
    "# 메모리에 업로드후 작업시 빠르게 작업이 가능\n",
    "filename = './data/number'\n",
    "con = sqlite3.Connection(filename + '.db')\n",
    "import pandas as pd\n",
    "%time data = pd.read_sql('SELECT * FROM  numbers', con)\n",
    "con.close()                # 메모리 로딩 후 Sqlite3를 닫는다\n",
    "data.head(3)"
   ]
  },
  {
   "cell_type": "code",
   "execution_count": 11,
   "metadata": {},
   "outputs": [
    {
     "name": "stdout",
     "output_type": "stream",
     "text": [
      "CPU times: user 8.7 ms, sys: 8.08 ms, total: 16.8 ms\n",
      "Wall time: 16.2 ms\n"
     ]
    },
    {
     "data": {
      "text/html": [
       "<div>\n",
       "<style scoped>\n",
       "    .dataframe tbody tr th:only-of-type {\n",
       "        vertical-align: middle;\n",
       "    }\n",
       "\n",
       "    .dataframe tbody tr th {\n",
       "        vertical-align: top;\n",
       "    }\n",
       "\n",
       "    .dataframe thead th {\n",
       "        text-align: right;\n",
       "    }\n",
       "</style>\n",
       "<table border=\"1\" class=\"dataframe\">\n",
       "  <thead>\n",
       "    <tr style=\"text-align: right;\">\n",
       "      <th></th>\n",
       "      <th>No1</th>\n",
       "      <th>No2</th>\n",
       "      <th>No3</th>\n",
       "      <th>No4</th>\n",
       "      <th>No5</th>\n",
       "    </tr>\n",
       "  </thead>\n",
       "  <tbody>\n",
       "    <tr>\n",
       "      <th>1</th>\n",
       "      <td>0.00907</td>\n",
       "      <td>-0.21774</td>\n",
       "      <td>-0.28857</td>\n",
       "      <td>-0.35070</td>\n",
       "      <td>1.18980</td>\n",
       "    </tr>\n",
       "    <tr>\n",
       "      <th>5</th>\n",
       "      <td>0.70288</td>\n",
       "      <td>-1.34906</td>\n",
       "      <td>-1.12806</td>\n",
       "      <td>-0.83270</td>\n",
       "      <td>1.07310</td>\n",
       "    </tr>\n",
       "    <tr>\n",
       "      <th>8</th>\n",
       "      <td>0.48408</td>\n",
       "      <td>-0.86510</td>\n",
       "      <td>-0.34383</td>\n",
       "      <td>-0.91339</td>\n",
       "      <td>-1.41759</td>\n",
       "    </tr>\n",
       "  </tbody>\n",
       "</table>\n",
       "</div>"
      ],
      "text/plain": [
       "       No1      No2      No3      No4      No5\n",
       "1  0.00907 -0.21774 -0.28857 -0.35070  1.18980\n",
       "5  0.70288 -1.34906 -1.12806 -0.83270  1.07310\n",
       "8  0.48408 -0.86510 -0.34383 -0.91339 -1.41759"
      ]
     },
     "execution_count": 11,
     "metadata": {},
     "output_type": "execute_result"
    }
   ],
   "source": [
    "# Query문을 활용한 데이터 추출\n",
    "%time data[(data['No1'] > 0) & (data['No2'] < 0)].head(3)"
   ]
  },
  {
   "cell_type": "code",
   "execution_count": 12,
   "metadata": {},
   "outputs": [
    {
     "data": {
      "image/png": "[encoded data removed]",
      "text/plain": [
       "<matplotlib.figure.Figure at 0x7f2a45ba7320>"
      ]
     },
     "metadata": {},
     "output_type": "display_data"
    },
    {
     "name": "stdout",
     "output_type": "stream",
     "text": [
      "CPU times: user 782 ms, sys: 352 ms, total: 1.13 s\n",
      "Wall time: 741 ms\n"
     ]
    }
   ],
   "source": [
    "%%time\n",
    "res = data[['No1', 'No2']][ ((data['No1'] > 0.5) | \n",
    "                             (data['No1'] < -0.5))\n",
    "                          & ((data['No2'] < -1) | \n",
    "                             (data['No2'] > 1))]\n",
    "plt.plot(res.No1, res.No2, 'ro')\n",
    "plt.grid(True);    plt.title('Scatter plot of complex query results')\n",
    "plt.axis('tight'); plt.show()"
   ]
  },
  {
   "cell_type": "markdown",
   "metadata": {},
   "source": [
    "### <strong>04 HDFS를 pandas 에서\n",
    "pd.HDFStore()"
   ]
  },
  {
   "cell_type": "code",
   "execution_count": 13,
   "metadata": {},
   "outputs": [
    {
     "name": "stdout",
     "output_type": "stream",
     "text": [
      "CPU times: user 22.1 ms, sys: 35.8 ms, total: 57.9 ms\n",
      "Wall time: 57.9 ms\n",
      "<class 'pandas.io.pytables.HDFStore'>\n",
      "File path: ./data/number.h5s\n",
      "\n"
     ]
    }
   ],
   "source": [
    "# SQL과 같은 데이터를 HDFS로 저장 (속도가 SQL보다 더 빠르다)\n",
    "h5s = pd.HDFStore(filename + '.h5s', 'w')  \n",
    "%time h5s['data'] = data  # 데이터 입력\n",
    "print(h5s)\n",
    "h5s.close()               # 저장절차 종료"
   ]
  },
  {
   "cell_type": "code",
   "execution_count": 14,
   "metadata": {},
   "outputs": [
    {
     "name": "stdout",
     "output_type": "stream",
     "text": [
      "CPU times: user 8.45 ms, sys: 20.1 ms, total: 28.5 ms\n",
      "Wall time: 28.3 ms\n"
     ]
    }
   ],
   "source": [
    "%%time\n",
    "# HDFS로 읽기\n",
    "h5s = pd.HDFStore(filename + '.h5s', 'r')\n",
    "temp = h5s['data']\n",
    "h5s.close()               # 읽기절차 종료"
   ]
  },
  {
   "cell_type": "code",
   "execution_count": 15,
   "metadata": {},
   "outputs": [
    {
     "data": {
      "text/plain": [
       "True"
      ]
     },
     "execution_count": 15,
     "metadata": {},
     "output_type": "execute_result"
    }
   ],
   "source": [
    "# 저장자료와 읽은자료 동질성 확인\n",
    "np.allclose(np.array(temp), np.array(data))"
   ]
  },
  {
   "cell_type": "code",
   "execution_count": 16,
   "metadata": {},
   "outputs": [
    {
     "name": "stdout",
     "output_type": "stream",
     "text": [
      "-rw-r--r-- 1 markbaum markbaum 53149696  1월  2 10:23 ./data/number.db\r\n",
      "-rw-rw-r-- 1 markbaum markbaum 48007192  1월  2 10:23 ./data/number.h5s\r\n"
     ]
    }
   ],
   "source": [
    "# h5s가 10% 더 작은 용량을 갖는다\n",
    "!ls ./data/number.* -l"
   ]
  },
  {
   "cell_type": "markdown",
   "metadata": {},
   "source": [
    "### <strong>05 CSV로 저장\n",
    "Data as CSV File"
   ]
  },
  {
   "cell_type": "code",
   "execution_count": 17,
   "metadata": {},
   "outputs": [
    {
     "name": "stdout",
     "output_type": "stream",
     "text": [
      "CPU times: user 5.06 s, sys: 47.1 ms, total: 5.11 s\n",
      "Wall time: 5.11 s\n"
     ]
    }
   ],
   "source": [
    "%time data.to_csv(filename + '.csv')"
   ]
  },
  {
   "cell_type": "code",
   "execution_count": 18,
   "metadata": {},
   "outputs": [
    {
     "name": "stdout",
     "output_type": "stream",
     "text": [
      "-rw-rw-r-- 1 markbaum markbaum 48831576  1월  2 10:23 ./data/number.csv\r\n",
      "-rw-r--r-- 1 markbaum markbaum 53149696  1월  2 10:23 ./data/number.db\r\n",
      "-rw-rw-r-- 1 markbaum markbaum 48007192  1월  2 10:23 ./data/number.h5s\r\n"
     ]
    }
   ],
   "source": [
    "# h5s가 10% 더 작은 용량을 갖는다\n",
    "!ls ./data/number.* -l"
   ]
  },
  {
   "cell_type": "code",
   "execution_count": 19,
   "metadata": {},
   "outputs": [
    {
     "name": "stdout",
     "output_type": "stream",
     "text": [
      "CPU times: user 855 ms, sys: 52.2 ms, total: 907 ms\n",
      "Wall time: 906 ms\n"
     ]
    },
    {
     "data": {
      "text/plain": [
       "array([[<matplotlib.axes._subplots.AxesSubplot object at 0x7f2a4be58320>,\n",
       "        <matplotlib.axes._subplots.AxesSubplot object at 0x7f2a4b88cf60>],\n",
       "       [<matplotlib.axes._subplots.AxesSubplot object at 0x7f2a4793add8>,\n",
       "        <matplotlib.axes._subplots.AxesSubplot object at 0x7f2a478f7e48>]], dtype=object)"
      ]
     },
     "execution_count": 19,
     "metadata": {},
     "output_type": "execute_result"
    },
    {
     "data": {
      "image/png": "[encoded data removed]",
      "text/plain": [
       "<matplotlib.figure.Figure at 0x7f2a4bf33518>"
      ]
     },
     "metadata": {},
     "output_type": "display_data"
    }
   ],
   "source": [
    "%%time\n",
    "# bins = 20 : 구간을 20단계로 나눈다\n",
    "pd.read_csv(filename + '.csv')[['No1', 'No2','No3', 'No4']].hist(bins = 20)"
   ]
  },
  {
   "cell_type": "markdown",
   "metadata": {},
   "source": [
    "### <Strong>06 Excel 로 저장\n",
    "Data as Excel File"
   ]
  },
  {
   "cell_type": "code",
   "execution_count": 20,
   "metadata": {},
   "outputs": [
    {
     "name": "stdout",
     "output_type": "stream",
     "text": [
      "CPU times: user 15.6 s, sys: 193 ms, total: 15.8 s\n",
      "Wall time: 15.7 s\n"
     ]
    }
   ],
   "source": [
    "%time data[:100000].to_excel(filename + '.xlsx')"
   ]
  },
  {
   "cell_type": "code",
   "execution_count": 21,
   "metadata": {},
   "outputs": [
    {
     "name": "stdout",
     "output_type": "stream",
     "text": [
      "CPU times: user 4.89 s, sys: 19.3 ms, total: 4.91 s\n",
      "Wall time: 4.92 s\n"
     ]
    },
    {
     "data": {
      "text/plain": [
       "<matplotlib.axes._subplots.AxesSubplot at 0x7f2a2c6e96a0>"
      ]
     },
     "execution_count": 21,
     "metadata": {},
     "output_type": "execute_result"
    },
    {
     "data": {
      "image/png": "[encoded data removed]",
      "text/plain": [
       "<matplotlib.figure.Figure at 0x7f2a2bd95ac8>"
      ]
     },
     "metadata": {},
     "output_type": "display_data"
    }
   ],
   "source": [
    "%time pd.read_excel(filename + '.xlsx', 'Sheet1').cumsum().plot(figsize=(10,4))\n",
    "# title: Paths of random data from Excel file"
   ]
  },
  {
   "cell_type": "code",
   "execution_count": 22,
   "metadata": {},
   "outputs": [
    {
     "name": "stdout",
     "output_type": "stream",
     "text": [
      "-rw-rw-r-- 1 markbaum markbaum 48831576  1월  2 10:23 ./data/number.csv\r\n",
      "-rw-r--r-- 1 markbaum markbaum 53149696  1월  2 10:23 ./data/number.db\r\n",
      "-rw-rw-r-- 1 markbaum markbaum 48007192  1월  2 10:23 ./data/number.h5s\r\n",
      "-rw-rw-r-- 1 markbaum markbaum  4370030  1월  2 10:24 ./data/number.xlsx\r\n"
     ]
    }
   ],
   "source": [
    "!ls ./data/number.* -l"
   ]
  },
  {
   "cell_type": "code",
   "execution_count": 23,
   "metadata": {},
   "outputs": [],
   "source": [
    "# 결론\n",
    "# Excel은 일부분만 저정함에도 시간이 상당소요\n",
    "# HDFS 형식이 가장 용량이 작고 효율적이다\n",
    "# Csv는 가장 용량이 큰데, 이는 메모리 과다점유로 인한 성능둔화 원인이 된다"
   ]
  },
  {
   "cell_type": "markdown",
   "metadata": {},
   "source": [
    "<br>\n",
    "## <strong>3 PyTable를 활용한 고속 입출력 \n",
    "HDFS를 활용한 입출력 연산 성능 최적화 (Fast I/O with PyTables)"
   ]
  },
  {
   "cell_type": "code",
   "execution_count": 24,
   "metadata": {},
   "outputs": [],
   "source": [
    "import numpy as np\n",
    "import tables as tb\n",
    "import datetime as dt\n",
    "import matplotlib.pyplot as plt\n",
    "%matplotlib inline"
   ]
  },
  {
   "cell_type": "markdown",
   "metadata": {},
   "source": [
    "### <strong>01 Table 만들기\n",
    "PyTable"
   ]
  },
  {
   "cell_type": "code",
   "execution_count": 25,
   "metadata": {},
   "outputs": [],
   "source": [
    "# filename = path + 'tab.h5'\n",
    "h5 = tb.open_file(filename, 'w')\n",
    "rows = 2000000\n",
    "row_des = { 'Date': tb.StringCol(26, pos=1), # 26글자 String\n",
    "            'No1': tb.IntCol(pos=2),         # 정수열 1\n",
    "            'No2': tb.IntCol(pos=3),         # 정수열 2\n",
    "            'No3': tb.Float64Col(pos=4),     # 부동소숫점(소숫점 4자리)\n",
    "            'No4': tb.Float64Col(pos=5)}     # 부동소숫점(소숫점 5자리)"
   ]
  },
  {
   "cell_type": "code",
   "execution_count": 26,
   "metadata": {},
   "outputs": [
    {
     "data": {
      "text/plain": [
       "/ints_floats (Table(0,)) 'Integers and Floats'\n",
       "  description := {\n",
       "  \"Date\": StringCol(itemsize=26, shape=(), dflt=b'', pos=0),\n",
       "  \"No1\": Int32Col(shape=(), dflt=0, pos=1),\n",
       "  \"No2\": Int32Col(shape=(), dflt=0, pos=2),\n",
       "  \"No3\": Float64Col(shape=(), dflt=0.0, pos=3),\n",
       "  \"No4\": Float64Col(shape=(), dflt=0.0, pos=4)}\n",
       "  byteorder := 'little'\n",
       "  chunkshape := (2621,)"
      ]
     },
     "execution_count": 26,
     "metadata": {},
     "output_type": "execute_result"
    }
   ],
   "source": [
    "# 압축하지 않은 테이터 저장방식을 활용\n",
    "filters = tb.Filters(complevel = 0)\n",
    "tab = h5.create_table('/', 'ints_floats', row_des,\n",
    "                      title='Integers and Floats',\n",
    "                      expectedrows=rows, filters=filters)\n",
    "tab"
   ]
  },
  {
   "cell_type": "code",
   "execution_count": 27,
   "metadata": {},
   "outputs": [
    {
     "name": "stdout",
     "output_type": "stream",
     "text": [
      "CPU times: user 7.29 s, sys: 71.2 ms, total: 7.36 s\n",
      "Wall time: 7.36 s\n"
     ]
    }
   ],
   "source": [
    "%%time\n",
    "pointer = tab.row\n",
    "ran_int = np.random.randint(0, 10000, size=(rows, 2))\n",
    "ran_flo = np.random.standard_normal((rows, 2)).round(5)\n",
    "\n",
    "for i in range(rows): # for 반복문으로, 데이터를 입력한다\n",
    "    pointer['Date'] = dt.datetime.now()\n",
    "    pointer['No1'] = ran_int[i, 0]\n",
    "    pointer['No2'] = ran_int[i, 1] \n",
    "    pointer['No3'] = ran_flo[i, 0]\n",
    "    pointer['No4'] = ran_flo[i, 1] \n",
    "    pointer.append()\n",
    "tab.flush()          # HDFS의 commit 명령"
   ]
  },
  {
   "cell_type": "code",
   "execution_count": 28,
   "metadata": {},
   "outputs": [
    {
     "data": {
      "text/plain": [
       "/ints_floats (Table(2000000,)) 'Integers and Floats'\n",
       "  description := {\n",
       "  \"Date\": StringCol(itemsize=26, shape=(), dflt=b'', pos=0),\n",
       "  \"No1\": Int32Col(shape=(), dflt=0, pos=1),\n",
       "  \"No2\": Int32Col(shape=(), dflt=0, pos=2),\n",
       "  \"No3\": Float64Col(shape=(), dflt=0.0, pos=3),\n",
       "  \"No4\": Float64Col(shape=(), dflt=0.0, pos=4)}\n",
       "  byteorder := 'little'\n",
       "  chunkshape := (2621,)"
      ]
     },
     "execution_count": 28,
     "metadata": {},
     "output_type": "execute_result"
    }
   ],
   "source": [
    "# 입력한 객체의 내용 확인 : ndarray와 비슷하게 출력\n",
    "tab"
   ]
  },
  {
   "cell_type": "code",
   "execution_count": 29,
   "metadata": {},
   "outputs": [
    {
     "data": {
      "text/plain": [
       "array([(b'', 0, 0,  0.,  0.), (b'', 0, 0,  0.,  0.), (b'', 0, 0,  0.,  0.),\n",
       "       ..., (b'', 0, 0,  0.,  0.), (b'', 0, 0,  0.,  0.),\n",
       "       (b'', 0, 0,  0.,  0.)],\n",
       "      dtype=[('Date', 'S26'), ('No1', '<i4'), ('No2', '<i4'), ('No3', '<f8'), ('No4', '<f8')])"
      ]
     },
     "execution_count": 29,
     "metadata": {},
     "output_type": "execute_result"
    }
   ],
   "source": [
    "# HDSF를 담을 Zeros 생성\n",
    "dty = np.dtype([('Date', 'S26'), ('No1', '<i4'), ('No2', '<i4'),\n",
    "                                 ('No3', '<f8'), ('No4', '<f8')])\n",
    "sarray = np.zeros(len(ran_int), dtype=dty)\n",
    "sarray"
   ]
  },
  {
   "cell_type": "code",
   "execution_count": 30,
   "metadata": {},
   "outputs": [
    {
     "name": "stdout",
     "output_type": "stream",
     "text": [
      "CPU times: user 54.9 ms, sys: 16.2 ms, total: 71.1 ms\n",
      "Wall time: 69.9 ms\n",
      "Compiler : 111 ms\n"
     ]
    }
   ],
   "source": [
    "%%time\n",
    "# HDFS객체 옮겨 담기 : 순식간에 처리가 완료된다\n",
    "sarray['Date'] = dt.datetime.now()\n",
    "sarray['No1'] = ran_int[:, 0]\n",
    "sarray['No2'] = ran_int[:, 1]\n",
    "sarray['No3'] = ran_flo[:, 0]\n",
    "sarray['No4'] = ran_flo[:, 1]"
   ]
  },
  {
   "cell_type": "code",
   "execution_count": 31,
   "metadata": {
    "scrolled": true
   },
   "outputs": [
    {
     "data": {
      "text/plain": [
       "/ints_floats_from_array (Table(2000000,)) 'Integers and Floats'\n",
       "  description := {\n",
       "  \"Date\": StringCol(itemsize=26, shape=(), dflt=b'', pos=0),\n",
       "  \"No1\": Int32Col(shape=(), dflt=0, pos=1),\n",
       "  \"No2\": Int32Col(shape=(), dflt=0, pos=2),\n",
       "  \"No3\": Float64Col(shape=(), dflt=0.0, pos=3),\n",
       "  \"No4\": Float64Col(shape=(), dflt=0.0, pos=4)}\n",
       "  byteorder := 'little'\n",
       "  chunkshape := (2621,)"
      ]
     },
     "execution_count": 31,
     "metadata": {},
     "output_type": "execute_result"
    }
   ],
   "source": [
    "# np.array --> table 생성하기\n",
    "h5.create_table('/', 'ints_floats_from_array', sarray,\n",
    "                      title = 'Integers and Floats',\n",
    "                      expectedrows = rows, filters = filters)"
   ]
  },
  {
   "cell_type": "code",
   "execution_count": 32,
   "metadata": {},
   "outputs": [],
   "source": [
    "# 중복된 테이블은 삭제한다\n",
    "h5.remove_node('/', 'ints_floats_from_array')"
   ]
  },
  {
   "cell_type": "markdown",
   "metadata": {},
   "source": [
    "### <strong>02 Table 활용하기\n",
    "PyTable"
   ]
  },
  {
   "cell_type": "code",
   "execution_count": 33,
   "metadata": {},
   "outputs": [
    {
     "data": {
      "text/plain": [
       "array([(b'2018-01-02 10:24:21.697779', 6538,  668,  0.03704,  1.77393),\n",
       "       (b'2018-01-02 10:24:21.697862',  213, 9159,  2.01996,  0.15577),\n",
       "       (b'2018-01-02 10:24:21.697868',  662, 6851, -0.16152,  0.28232)],\n",
       "      dtype=[('Date', 'S26'), ('No1', '<i4'), ('No2', '<i4'), ('No3', '<f8'), ('No4', '<f8')])"
      ]
     },
     "execution_count": 33,
     "metadata": {},
     "output_type": "execute_result"
    }
   ],
   "source": [
    "# 객체를 slice 로 접근하기\n",
    "tab[:3]"
   ]
  },
  {
   "cell_type": "code",
   "execution_count": 34,
   "metadata": {},
   "outputs": [
    {
     "data": {
      "text/plain": [
       "array([ 1.77393,  0.15577,  0.28232])"
      ]
     },
     "execution_count": 34,
     "metadata": {},
     "output_type": "execute_result"
    }
   ],
   "source": [
    "# 객체를 slice 로 접근하기\n",
    "tab[:3]['No4']"
   ]
  },
  {
   "cell_type": "code",
   "execution_count": 35,
   "metadata": {},
   "outputs": [
    {
     "name": "stdout",
     "output_type": "stream",
     "text": [
      "CPU times: user 32.1 ms, sys: 32.1 ms, total: 64.1 ms\n",
      "Wall time: 63.5 ms\n"
     ]
    },
    {
     "data": {
      "text/plain": [
       "2630.4583699999998"
      ]
     },
     "execution_count": 35,
     "metadata": {},
     "output_type": "execute_result"
    }
   ],
   "source": [
    "# numpy의 유니버셜 함수를 바로 적용가능\n",
    "# No3 컬럼의 총합\n",
    "%time np.sum(tab[:]['No3'])"
   ]
  },
  {
   "cell_type": "code",
   "execution_count": 36,
   "metadata": {},
   "outputs": [
    {
     "name": "stdout",
     "output_type": "stream",
     "text": [
      "CPU times: user 19.2 ms, sys: 40.2 ms, total: 59.4 ms\n",
      "Wall time: 58.6 ms\n"
     ]
    },
    {
     "data": {
      "text/plain": [
       "133340478.38899373"
      ]
     },
     "execution_count": 36,
     "metadata": {},
     "output_type": "execute_result"
    }
   ],
   "source": [
    "# No1 컬럼의 편차 총합\n",
    "%time np.sum(np.sqrt(tab[:]['No1']))"
   ]
  },
  {
   "cell_type": "code",
   "execution_count": 37,
   "metadata": {},
   "outputs": [
    {
     "name": "stdout",
     "output_type": "stream",
     "text": [
      "2000000\n",
      "CPU times: user 127 ms, sys: 68 ms, total: 195 ms\n",
      "Wall time: 195 ms\n"
     ]
    },
    {
     "data": {
      "image/png": "[encoded data removed]",
      "text/plain": [
       "<matplotlib.figure.Figure at 0x7f2a38d8b278>"
      ]
     },
     "metadata": {},
     "output_type": "display_data"
    }
   ],
   "source": [
    "%%time\n",
    "# table 객체를 plot으로 시각화\n",
    "plt.hist(tab[:]['No3'], bins=30)\n",
    "plt.grid(True)\n",
    "print(len(tab[:]['No3']))"
   ]
  },
  {
   "cell_type": "code",
   "execution_count": 38,
   "metadata": {},
   "outputs": [
    {
     "name": "stdout",
     "output_type": "stream",
     "text": [
      "CPU times: user 324 ms, sys: 106 ms, total: 430 ms\n",
      "Wall time: 304 ms\n"
     ]
    },
    {
     "data": {
      "image/png": "[encoded data removed]",
      "text/plain": [
       "<matplotlib.figure.Figure at 0x7f2a7074a0f0>"
      ]
     },
     "metadata": {},
     "output_type": "display_data"
    }
   ],
   "source": [
    "%%time\n",
    "# table 객체를 Query 문으로 데이터 선별하기\n",
    "res = np.array([(row['No3'], row['No4']) for row in\n",
    "        tab.where('((No3 < -0.5) | (No3 > 0.5)) \\\n",
    "                 & ((No4 < -1) | (No4 > 1))')])[::100]\n",
    "plt.plot(res.T[0], res.T[1], 'ro')\n",
    "plt.grid(True)"
   ]
  },
  {
   "cell_type": "code",
   "execution_count": 39,
   "metadata": {},
   "outputs": [
    {
     "name": "stdout",
     "output_type": "stream",
     "text": [
      "CPU times: user 90.2 ms, sys: 67.7 ms, total: 158 ms\n",
      "Wall time: 69.2 ms\n"
     ]
    }
   ],
   "source": [
    "%%time\n",
    "# query문 연산\n",
    "results = [(row['No1'], row['No2']) for row in\n",
    "           tab.where('((No1 > 9800) | (No1 < 200)) \\\n",
    "                    & ((No2 > 4500) & (No2 < 5500))')]\n",
    "[res  for res in results[:4]]"
   ]
  },
  {
   "cell_type": "code",
   "execution_count": 40,
   "metadata": {},
   "outputs": [
    {
     "name": "stdout",
     "output_type": "stream",
     "text": [
      "CPU times: user 52.2 ms, sys: 3.69 ms, total: 55.9 ms\n",
      "Wall time: 48 ms\n"
     ]
    }
   ],
   "source": [
    "%%time\n",
    "results = [(row['No1'], row['No2']) for row in\n",
    "           tab.where('(No1 == 1234) & (No2 > 9776)')]\n",
    "[res  for res in results]"
   ]
  },
  {
   "cell_type": "markdown",
   "metadata": {},
   "source": [
    "### <strong>03 압축된 Table 다루기\n",
    "Working with Compressed Tables"
   ]
  },
  {
   "cell_type": "code",
   "execution_count": 41,
   "metadata": {},
   "outputs": [],
   "source": [
    "# 4단계 압축을 실시해도 속도 차이는 거의 없다\n",
    "h5c = tb.open_file(filename + '.h5c', 'w')\n",
    "filters = tb.Filters(complevel=4, complib = 'blosc')\n",
    "tabc = h5c.create_table('/', 'ints_floats', sarray,\n",
    "                        title = 'Integers and Floats',\n",
    "                        expectedrows = rows, filters = filters)"
   ]
  },
  {
   "cell_type": "code",
   "execution_count": 42,
   "metadata": {},
   "outputs": [
    {
     "name": "stdout",
     "output_type": "stream",
     "text": [
      "CPU times: user 260 ms, sys: 36 ms, total: 296 ms\n",
      "Wall time: 255 ms\n"
     ]
    }
   ],
   "source": [
    "%%time\n",
    "res = np.array([(row['No3'], row['No4']) for row in\n",
    "             tabc.where('((No3 < -0.5) | (No3 > 0.5)) \\\n",
    "                       & ((No4 < -1) | (No4 > 1))')])[::100]\n",
    "# 살짝 느린 결과값을 출력"
   ]
  },
  {
   "cell_type": "code",
   "execution_count": 43,
   "metadata": {
    "scrolled": true
   },
   "outputs": [
    {
     "name": "stdout",
     "output_type": "stream",
     "text": [
      "CPU times: user 11.3 ms, sys: 36 ms, total: 47.3 ms\n",
      "Wall time: 46.3 ms\n"
     ]
    }
   ],
   "source": [
    "%time arr_non = tab.read()"
   ]
  },
  {
   "cell_type": "code",
   "execution_count": 44,
   "metadata": {},
   "outputs": [
    {
     "name": "stdout",
     "output_type": "stream",
     "text": [
      "CPU times: user 12.7 ms, sys: 36.1 ms, total: 48.9 ms\n",
      "Wall time: 48.1 ms\n",
      "-rw-rw-r-- 1 markbaum markbaum  48831576  1월  2 10:23 ./data/number.csv\r\n",
      "-rw-r--r-- 1 markbaum markbaum  53149696  1월  2 10:23 ./data/number.db\r\n",
      "-rw-rw-r-- 1 markbaum markbaum 100030820  1월  2 10:24 ./data/number.h5c\r\n",
      "-rw-rw-r-- 1 markbaum markbaum  48007192  1월  2 10:23 ./data/number.h5s\r\n",
      "-rw-rw-r-- 1 markbaum markbaum   4370030  1월  2 10:24 ./data/number.xlsx\r\n"
     ]
    }
   ],
   "source": [
    "# 저장 및 읽기 시간은 좀 걸리지만, 50% 용량이 절약된다\n",
    "%time arr_com = tabc.read()\n",
    "h5c.close()\n",
    "!ls ./data/number.* -l"
   ]
  },
  {
   "cell_type": "markdown",
   "metadata": {},
   "source": [
    "### <strong>04 배열 Table 다루기\n",
    "Working with Arrays"
   ]
  },
  {
   "cell_type": "code",
   "execution_count": 45,
   "metadata": {},
   "outputs": [
    {
     "name": "stdout",
     "output_type": "stream",
     "text": [
      "CPU times: user 702 µs, sys: 48.2 ms, total: 48.9 ms\n",
      "Wall time: 48.7 ms\n"
     ]
    }
   ],
   "source": [
    "%%time\n",
    "arr_int = h5.create_array('/', 'integers', ran_int)\n",
    "arr_flo = h5.create_array('/', 'floats', ran_flo)"
   ]
  },
  {
   "cell_type": "code",
   "execution_count": 46,
   "metadata": {},
   "outputs": [],
   "source": [
    "h5.close()\n",
    "# HDF5 기반의 자료형\n",
    "# 관계형 DB에서 대용품으로 활용에 적합하다\n",
    "# pandas와 결합하면 최적의 성능 및 용량을 발휘가능하다\n",
    "# !rm ./data/number.db"
   ]
  }
 ],
 "metadata": {
  "kernelspec": {
   "display_name": "Python 3",
   "language": "python",
   "name": "python3"
  },
  "language_info": {
   "codemirror_mode": {
    "name": "ipython",
    "version": 3
   },
   "file_extension": ".py",
   "mimetype": "text/x-python",
   "name": "python",
   "nbconvert_exporter": "python",
   "pygments_lexer": "ipython3",
   "version": "3.6.3"
  }
 },
 "nbformat": 4,
 "nbformat_minor": 2
}
