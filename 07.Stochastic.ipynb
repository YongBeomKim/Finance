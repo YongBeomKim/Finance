{
 "cells": [
  {
   "cell_type": "markdown",
   "metadata": {},
   "source": [
    "# chapter 10 - Stochastics\n",
    "확률과정"
   ]
  },
  {
   "cell_type": "code",
   "execution_count": 1,
   "metadata": {
    "collapsed": true
   },
   "outputs": [],
   "source": [
    "# 난수를 생성\n",
    "# 시뮬레이션\n",
    "# 가치평가\n",
    "# 위험측도 VaR, CVaR, CVA"
   ]
  },
  {
   "cell_type": "markdown",
   "metadata": {},
   "source": [
    "<br></br>\n",
    "## 1 난수 생성\n",
    "Random Numbers"
   ]
  },
  {
   "cell_type": "code",
   "execution_count": 2,
   "metadata": {
    "collapsed": true
   },
   "outputs": [],
   "source": [
    "import numpy as np\n",
    "import matplotlib.pyplot as plt\n",
    "%matplotlib inline"
   ]
  },
  {
   "cell_type": "markdown",
   "metadata": {},
   "source": [
    "### 01 ndarray 객체로 난수생성\n",
    "np.random.rand(1dim, 2dim....)"
   ]
  },
  {
   "cell_type": "code",
   "execution_count": 3,
   "metadata": {},
   "outputs": [
    {
     "data": {
      "text/plain": [
       "array([ 0.25381967,  0.13396589,  0.02653212])"
      ]
     },
     "execution_count": 3,
     "metadata": {},
     "output_type": "execute_result"
    }
   ],
   "source": [
    "# Default : 평균 0, 분산 1 범위 난수를 생성\n",
    "np.random.rand(3)"
   ]
  },
  {
   "cell_type": "code",
   "execution_count": 4,
   "metadata": {},
   "outputs": [
    {
     "data": {
      "text/plain": [
       "array([[ 0.81561598,  0.99550642,  0.92643573],\n",
       "       [ 0.62820046,  0.27833581,  0.84333024],\n",
       "       [ 0.46880382,  0.75287359,  0.53974112]])"
      ]
     },
     "execution_count": 4,
     "metadata": {},
     "output_type": "execute_result"
    }
   ],
   "source": [
    "np.random.rand(3,3)"
   ]
  },
  {
   "cell_type": "code",
   "execution_count": 5,
   "metadata": {},
   "outputs": [
    {
     "data": {
      "text/plain": [
       "array([[[ 0.9520603 ,  0.35084536,  0.38373358],\n",
       "        [ 0.52065988,  0.07471193,  0.52459272],\n",
       "        [ 0.18720134,  0.06036341,  0.51530513]],\n",
       "\n",
       "       [[ 0.57470608,  0.27757652,  0.30810549],\n",
       "        [ 0.02059801,  0.78391858,  0.96126752],\n",
       "        [ 0.09334793,  0.11131427,  0.23191771]],\n",
       "\n",
       "       [[ 0.95668843,  0.92400403,  0.84830854],\n",
       "        [ 0.86350727,  0.9408296 ,  0.06420392],\n",
       "        [ 0.85400343,  0.87381418,  0.71921393]]])"
      ]
     },
     "execution_count": 5,
     "metadata": {},
     "output_type": "execute_result"
    }
   ],
   "source": [
    "np.random.rand(3,3,3)"
   ]
  },
  {
   "cell_type": "code",
   "execution_count": 6,
   "metadata": {},
   "outputs": [
    {
     "data": {
      "text/plain": [
       "array([ 6.03869183,  3.7060181 ,  7.51185957])"
      ]
     },
     "execution_count": 6,
     "metadata": {},
     "output_type": "execute_result"
    }
   ],
   "source": [
    "# 구간난수 생성\n",
    "# np.random.rand(3) * (max - min) + min\n",
    "# 3 ~ 9 사이의 난수를 생성\n",
    "a = 3.\n",
    "b = 9.\n",
    "np.random.rand(3) * (b - a) + a"
   ]
  },
  {
   "cell_type": "code",
   "execution_count": 7,
   "metadata": {},
   "outputs": [
    {
     "data": {
      "text/plain": [
       "array([[ 8.05088297,  8.71689677,  5.72192565],\n",
       "       [ 7.63840606,  8.58438651,  7.63584311],\n",
       "       [ 4.7985406 ,  3.43650528,  3.97234767]])"
      ]
     },
     "execution_count": 7,
     "metadata": {},
     "output_type": "execute_result"
    }
   ],
   "source": [
    "# 브로드캐스팅을 활용한 난수생성\n",
    "np.random.rand(3, 3) * (b - a) + a"
   ]
  },
  {
   "cell_type": "code",
   "execution_count": 8,
   "metadata": {},
   "outputs": [
    {
     "data": {
      "text/plain": [
       "array([3, 6, 4, 5, 8, 4, 2, 2, 8, 5])"
      ]
     },
     "execution_count": 8,
     "metadata": {},
     "output_type": "execute_result"
    }
   ],
   "source": [
    "np.random.randint(10, size=10)"
   ]
  },
  {
   "cell_type": "markdown",
   "metadata": {},
   "source": [
    "### 02 ndarray 여러타입 난수 비교\n",
    "np.random"
   ]
  },
  {
   "cell_type": "code",
   "execution_count": 9,
   "metadata": {
    "collapsed": true
   },
   "outputs": [],
   "source": [
    "sample_size = 500\n",
    "rn1 = np.random.rand(sample_size, 3)\n",
    "rn2 = np.random.randint(0, 10, sample_size)\n",
    "rn3 = np.random.sample(size=sample_size)\n",
    "\n",
    "a = [0, 25,50, 75, 100]\n",
    "rn4 = np.random.choice(a, size=sample_size)"
   ]
  },
  {
   "cell_type": "code",
   "execution_count": 10,
   "metadata": {},
   "outputs": [],
   "source": [
    "import matplotlib\n",
    "matplotlib.rc('font', family='NanumGothic')"
   ]
  },
  {
   "cell_type": "code",
   "execution_count": 11,
   "metadata": {},
   "outputs": [
    {
     "data": {
      "image/png": "[encoded data removed]",
      "text/plain": [
       "<matplotlib.figure.Figure at 0x7f1143738f28>"
      ]
     },
     "metadata": {},
     "output_type": "display_data"
    }
   ],
   "source": [
    "fig, ((ax1, ax2), (ax3, ax4)) = plt.subplots(nrows = 2, ncols = 2, figsize = (7, 7))\n",
    " \n",
    "ax1.set_title('rand (실수난수)')\n",
    "ax1.hist(rn1, bins = 25, stacked = True); ax1.set_ylabel('frequency'); ax1.grid(True)\n",
    "\n",
    "ax2.set_title('randint (정수난수)')\n",
    "ax2.hist(rn2, bins = 25); ax2.grid(True)                  \n",
    "\n",
    "ax3.set_title('sample (실수난수)'); ax3.hist(rn3, bins = 25); \n",
    "ax3.set_ylabel('frequency'); ax3.grid(True)                  \n",
    "\n",
    "ax4.set_title('choice (주어진 배열서 무작위 추출)')\n",
    "ax4.hist(rn4, bins = 25); ax4.grid(True)"
   ]
  },
  {
   "cell_type": "code",
   "execution_count": 12,
   "metadata": {
    "collapsed": true
   },
   "outputs": [],
   "source": [
    "# 결론\n",
    "# 아직까지 정규분포, 로그정규분포에 많이 의지하영 모형을 시뮬레이션 한다"
   ]
  },
  {
   "cell_type": "code",
   "execution_count": 13,
   "metadata": {},
   "outputs": [],
   "source": [
    "sample_size = 500\n",
    "rn1 = np.random.standard_normal(sample_size)\n",
    "rn2 = np.random.normal(100, 20, sample_size)\n",
    "rn3 = np.random.chisquare(df=0.5, size=sample_size)\n",
    "rn4 = np.random.poisson(lam=1.0, size=sample_size)"
   ]
  },
  {
   "cell_type": "code",
   "execution_count": 14,
   "metadata": {},
   "outputs": [
    {
     "data": {
      "image/png": "[encoded data removed]",
      "text/plain": [
       "<matplotlib.figure.Figure at 0x7f114113d7f0>"
      ]
     },
     "metadata": {},
     "output_type": "display_data"
    }
   ],
   "source": [
    "# Pseudo-random numbers from different distributions\n",
    "fig, ((ax1, ax2), (ax3, ax4)) = plt.subplots(nrows=2, ncols=2, figsize=(10, 10))\n",
    "ax1.set_title('standard normal (표준정규분포)')\n",
    "ax1.hist(rn1, bins=25); ax1.set_ylabel('frequency'); ax1.grid(True)\n",
    "ax2.set_title('normal(100, 20) (평균100, 표준편차20)')\n",
    "ax2.hist(rn2, bins=25); ax2.grid(True)\n",
    "ax3.set_title('chi square (카이제곱 분포)')\n",
    "ax3.set_ylabel('frequency'); ax3.hist(rn3, bins=25); ax3.grid(True)\n",
    "ax4.set_title('Poisson (포아송 분포)')\n",
    "ax4.hist(rn4, bins=25); ax4.grid(True)"
   ]
  },
  {
   "cell_type": "code",
   "execution_count": 15,
   "metadata": {
    "collapsed": true
   },
   "outputs": [],
   "source": [
    "# 개념정리\n",
    "# 포아송 분포 : 일정한 시간내 발생횟수 계산으로, 특이한 사건 발생분포를 시뮬레이션에 적합\n",
    "# 카이제곱 분포 : 독립된 k개 (K:자유도)의 표준정규분포를 제곱해서 얻은 분포로 (출처:위키)\n",
    "#              람다 계수가 1이다"
   ]
  },
  {
   "cell_type": "markdown",
   "metadata": {},
   "source": [
    "<br></br>\n",
    "## 2 시뮬레이션\n",
    "Simulation"
   ]
  },
  {
   "cell_type": "markdown",
   "metadata": {},
   "source": [
    "### 01 확률변수 모형\n",
    "블랙-숄즈-머튼 모형을 이용한 미래의 주가 시뮬레이션"
   ]
  },
  {
   "cell_type": "code",
   "execution_count": 16,
   "metadata": {
    "collapsed": true
   },
   "outputs": [],
   "source": [
    "# Data 생성하기\n",
    "S0 = 100      # 초기값\n",
    "r = 0.05      # 고정 단기 이자율\n",
    "sigma = 0.25  # 고정 변동성\n",
    "T = 2.0       # in years\n",
    "I = 10000     # 생성할 난수의 갯수"
   ]
  },
  {
   "cell_type": "code",
   "execution_count": 17,
   "metadata": {},
   "outputs": [
    {
     "data": {
      "image/png": "[encoded data removed]",
      "text/plain": [
       "<matplotlib.figure.Figure at 0x7f1140e98828>"
      ]
     },
     "metadata": {},
     "output_type": "display_data"
    }
   ],
   "source": [
    "# Standard_Normal 함수를 사용한 브라운 운동모형\n",
    "ST1 = S0 * np.exp((r - 0.5 * sigma ** 2) * T \n",
    "             + sigma * np.sqrt(T) * np.random.standard_normal(I))\n",
    "\n",
    "plt.hist(ST1, bins = 50)     # bins : 50개 구간으로 범주화\n",
    "plt.xlabel('index level')\n",
    "plt.ylabel('frequency'); plt.grid(True)"
   ]
  },
  {
   "cell_type": "code",
   "execution_count": 18,
   "metadata": {},
   "outputs": [
    {
     "data": {
      "image/png": "[encoded data removed]",
      "text/plain": [
       "<matplotlib.figure.Figure at 0x7f1141478cc0>"
      ]
     },
     "metadata": {},
     "output_type": "display_data"
    }
   ],
   "source": [
    "# Log_Normal 함수를 사용한 브라운 운동모형\n",
    "ST2 = S0 * np.random.lognormal((r - 0.5 * sigma ** 2) * T,\n",
    "                          sigma * np.sqrt(T), size = I)\n",
    "plt.hist(ST2, bins=50)\n",
    "plt.xlabel('index level')\n",
    "plt.ylabel('frequency')\n",
    "plt.grid(True)"
   ]
  },
  {
   "cell_type": "markdown",
   "metadata": {},
   "source": [
    "### 02 확률변수 모형의 검증\n",
    "통계 모멘트를 비교"
   ]
  },
  {
   "cell_type": "code",
   "execution_count": 19,
   "metadata": {
    "collapsed": true
   },
   "outputs": [],
   "source": [
    "import scipy.stats as scs\n",
    "def print_statistics(a1, a2):   # a1, a2 : ndarray objects\n",
    "    sta1 = scs.describe(a1)\n",
    "    sta2 = scs.describe(a2)\n",
    "    print(\"%14s %14s %14s\" % ('statistic', 'data set 1', 'data set 2'))\n",
    "    print(45 * \"-\")\n",
    "    print(\"%14s %14.3f %14.3f\" % ('size', sta1[0], sta2[0]))\n",
    "    print(\"%14s %14.3f %14.3f\" % ('min', sta1[1][0], sta2[1][0]))\n",
    "    print(\"%14s %14.3f %14.3f\" % ('max', sta1[1][1], sta2[1][1]))\n",
    "    print(\"%14s %14.3f %14.3f\" % ('mean', sta1[2], sta2[2]))\n",
    "    print(\"%14s %14.3f %14.3f\" % ('std', np.sqrt(sta1[3]), np.sqrt(sta2[3])))\n",
    "    print(\"%14s %14.3f %14.3f\" % ('skew', sta1[4], sta2[4]))\n",
    "    print(\"%14s %14.3f %14.3f\" % ('kurtosis', sta1[5], sta2[5]))"
   ]
  },
  {
   "cell_type": "code",
   "execution_count": 22,
   "metadata": {},
   "outputs": [
    {
     "name": "stdout",
     "output_type": "stream",
     "text": [
      "     statistic     data set 1     data set 2\n",
      "---------------------------------------------\n",
      "          size      10000.000      10000.000\n",
      "           min         28.216         27.497\n",
      "           max        404.186        401.819\n",
      "          mean        110.586        110.399\n",
      "           std         40.345         40.572\n",
      "          skew          1.173          1.154\n",
      "      kurtosis          2.723          2.303\n"
     ]
    }
   ],
   "source": [
    "# 통계적 요약 내용을 출력\n",
    "# scs.describe(ST1)\n",
    "print_statistics(ST1, ST2)"
   ]
  },
  {
   "cell_type": "markdown",
   "metadata": {},
   "source": [
    "<br></br>\n",
    "## 3 확률과정\n",
    "확률변수를 반복해서 시뮬레이션 한다\n",
    "\n",
    "단, 각단계의 샘플은 이전단계의 연산결과에 의존한다\n",
    "\n",
    "처음부터가 아닌 직전의 값들만 영향을 미치는 Markov 특성을 갖는다\n",
    "\n",
    "이를 무기억성 확률과정(memoryless) 라고 한다"
   ]
  },
  {
   "cell_type": "markdown",
   "metadata": {},
   "source": [
    "### 01 기하 브라운 운동모형\n",
    "Geometric Brownian Motion"
   ]
  },
  {
   "cell_type": "code",
   "execution_count": null,
   "metadata": {
    "collapsed": true
   },
   "outputs": [],
   "source": []
  },
  {
   "cell_type": "code",
   "execution_count": null,
   "metadata": {
    "collapsed": true
   },
   "outputs": [],
   "source": []
  },
  {
   "cell_type": "code",
   "execution_count": null,
   "metadata": {
    "collapsed": true
   },
   "outputs": [],
   "source": []
  },
  {
   "cell_type": "code",
   "execution_count": null,
   "metadata": {
    "collapsed": true
   },
   "outputs": [],
   "source": []
  },
  {
   "cell_type": "code",
   "execution_count": null,
   "metadata": {
    "collapsed": true
   },
   "outputs": [],
   "source": []
  },
  {
   "cell_type": "code",
   "execution_count": null,
   "metadata": {
    "collapsed": true
   },
   "outputs": [],
   "source": []
  },
  {
   "cell_type": "code",
   "execution_count": null,
   "metadata": {
    "collapsed": true
   },
   "outputs": [],
   "source": []
  },
  {
   "cell_type": "code",
   "execution_count": null,
   "metadata": {
    "collapsed": true
   },
   "outputs": [],
   "source": []
  },
  {
   "cell_type": "code",
   "execution_count": null,
   "metadata": {
    "collapsed": true
   },
   "outputs": [],
   "source": []
  }
 ],
 "metadata": {
  "kernelspec": {
   "display_name": "Python 3",
   "language": "python",
   "name": "python3"
  },
  "language_info": {
   "codemirror_mode": {
    "name": "ipython",
    "version": 3
   },
   "file_extension": ".py",
   "mimetype": "text/x-python",
   "name": "python",
   "nbconvert_exporter": "python",
   "pygments_lexer": "ipython3",
   "version": "3.6.1"
  }
 },
 "nbformat": 4,
 "nbformat_minor": 2
}
