{
 "cells": [
  {
   "cell_type": "markdown",
   "metadata": {},
   "source": [
    "# <strong>알고리즘 트레이딩\n",
    "## <strong>통계 </strong>머신러닝을 활용한 시스템 개발"
   ]
  },
  {
   "cell_type": "markdown",
   "metadata": {},
   "source": [
    "<br>\n",
    "## <strong>1 통계\n",
    "1. <strong>기술통계 : 표본</strong>을 추출하여 전체를 파악한다\n",
    "  1.  <strong>$\\bar{X}$ statistic (통계량)</strong> : 표본 평균\n",
    "2. <strong>추론통계 : 부분</strong>을 통해서 전체를 추정\n",
    "  1.  <strong>$\\mu$ patameter(파라미터)</strong> : 모집단의 평균\n",
    "\n",
    "<br>\n",
    "## <strong> 01 기초통계\n",
    "pandas_datareader"
   ]
  },
  {
   "cell_type": "code",
   "execution_count": 1,
   "metadata": {},
   "outputs": [
    {
     "data": {
      "text/html": [
       "<div>\n",
       "<table border=\"1\" class=\"dataframe\">\n",
       "  <thead>\n",
       "    <tr style=\"text-align: right;\">\n",
       "      <th></th>\n",
       "      <th>Open</th>\n",
       "      <th>High</th>\n",
       "      <th>Low</th>\n",
       "      <th>Close</th>\n",
       "      <th>Adj Close</th>\n",
       "      <th>Volume</th>\n",
       "    </tr>\n",
       "  </thead>\n",
       "  <tbody>\n",
       "    <tr>\n",
       "      <th>count</th>\n",
       "      <td>2.030000e+02</td>\n",
       "      <td>2.030000e+02</td>\n",
       "      <td>2.030000e+02</td>\n",
       "      <td>2.030000e+02</td>\n",
       "      <td>2.030000e+02</td>\n",
       "      <td>203.000000</td>\n",
       "    </tr>\n",
       "    <tr>\n",
       "      <th>mean</th>\n",
       "      <td>2.250695e+06</td>\n",
       "      <td>2.273207e+06</td>\n",
       "      <td>2.233443e+06</td>\n",
       "      <td>2.254631e+06</td>\n",
       "      <td>2.243701e+06</td>\n",
       "      <td>230617.862069</td>\n",
       "    </tr>\n",
       "    <tr>\n",
       "      <th>std</th>\n",
       "      <td>2.576473e+05</td>\n",
       "      <td>2.586046e+05</td>\n",
       "      <td>2.532367e+05</td>\n",
       "      <td>2.563360e+05</td>\n",
       "      <td>2.612677e+05</td>\n",
       "      <td>83431.531114</td>\n",
       "    </tr>\n",
       "    <tr>\n",
       "      <th>min</th>\n",
       "      <td>1.799000e+06</td>\n",
       "      <td>1.803000e+06</td>\n",
       "      <td>1.777000e+06</td>\n",
       "      <td>1.778000e+06</td>\n",
       "      <td>1.762055e+06</td>\n",
       "      <td>0.000000</td>\n",
       "    </tr>\n",
       "    <tr>\n",
       "      <th>25%</th>\n",
       "      <td>2.035500e+06</td>\n",
       "      <td>2.070500e+06</td>\n",
       "      <td>2.032500e+06</td>\n",
       "      <td>2.052500e+06</td>\n",
       "      <td>2.037500e+06</td>\n",
       "      <td>177005.000000</td>\n",
       "    </tr>\n",
       "    <tr>\n",
       "      <th>50%</th>\n",
       "      <td>2.280000e+06</td>\n",
       "      <td>2.303000e+06</td>\n",
       "      <td>2.261000e+06</td>\n",
       "      <td>2.281000e+06</td>\n",
       "      <td>2.268144e+06</td>\n",
       "      <td>215146.000000</td>\n",
       "    </tr>\n",
       "    <tr>\n",
       "      <th>75%</th>\n",
       "      <td>2.409500e+06</td>\n",
       "      <td>2.431000e+06</td>\n",
       "      <td>2.386000e+06</td>\n",
       "      <td>2.412000e+06</td>\n",
       "      <td>2.400892e+06</td>\n",
       "      <td>268154.000000</td>\n",
       "    </tr>\n",
       "    <tr>\n",
       "      <th>max</th>\n",
       "      <td>2.875000e+06</td>\n",
       "      <td>2.875000e+06</td>\n",
       "      <td>2.809000e+06</td>\n",
       "      <td>2.861000e+06</td>\n",
       "      <td>2.861000e+06</td>\n",
       "      <td>523366.000000</td>\n",
       "    </tr>\n",
       "  </tbody>\n",
       "</table>\n",
       "</div>"
      ],
      "text/plain": [
       "               Open          High           Low         Close     Adj Close  \\\n",
       "count  2.030000e+02  2.030000e+02  2.030000e+02  2.030000e+02  2.030000e+02   \n",
       "mean   2.250695e+06  2.273207e+06  2.233443e+06  2.254631e+06  2.243701e+06   \n",
       "std    2.576473e+05  2.586046e+05  2.532367e+05  2.563360e+05  2.612677e+05   \n",
       "min    1.799000e+06  1.803000e+06  1.777000e+06  1.778000e+06  1.762055e+06   \n",
       "25%    2.035500e+06  2.070500e+06  2.032500e+06  2.052500e+06  2.037500e+06   \n",
       "50%    2.280000e+06  2.303000e+06  2.261000e+06  2.281000e+06  2.268144e+06   \n",
       "75%    2.409500e+06  2.431000e+06  2.386000e+06  2.412000e+06  2.400892e+06   \n",
       "max    2.875000e+06  2.875000e+06  2.809000e+06  2.861000e+06  2.861000e+06   \n",
       "\n",
       "              Volume  \n",
       "count     203.000000  \n",
       "mean   230617.862069  \n",
       "std     83431.531114  \n",
       "min         0.000000  \n",
       "25%    177005.000000  \n",
       "50%    215146.000000  \n",
       "75%    268154.000000  \n",
       "max    523366.000000  "
      ]
     },
     "execution_count": 1,
     "metadata": {},
     "output_type": "execute_result"
    }
   ],
   "source": [
    "from pandas_datareader import get_data_yahoo, get_data_google\n",
    "\n",
    "#get_data_google('KRX:005930',\"2017-06-01\").head(3)\n",
    "df = get_data_yahoo('005930.KS',\"2017-01-01\")\n",
    "df.describe()"
   ]
  },
  {
   "cell_type": "markdown",
   "metadata": {},
   "source": [
    "### <strong> 02 표준편차\n",
    "$ 표준편차 = \\sqrt{\\frac{분산}{크기}} $ : 평균근처의 데이터 밀집도 측정"
   ]
  },
  {
   "cell_type": "markdown",
   "metadata": {},
   "source": [
    "### <strong> 03 사분위 수\n",
    "<strong>범위 : 최댓값 - 최솟값\n",
    "\n",
    "IQR (Interquartile Range : 2 ~ 3사분위 범위)</strong> : 데이터 구간분포 분석으로 많이 활용한다\n",
    "\n",
    "<img src =\"https://statsmethods.files.wordpress.com/2013/05/interquartile-range.gif\" align=\"left\">"
   ]
  },
  {
   "cell_type": "code",
   "execution_count": 2,
   "metadata": {},
   "outputs": [
    {
     "data": {
      "text/html": [
       "<div>\n",
       "<table border=\"1\" class=\"dataframe\">\n",
       "  <thead>\n",
       "    <tr style=\"text-align: right;\">\n",
       "      <th></th>\n",
       "      <th>Open</th>\n",
       "      <th>High</th>\n",
       "      <th>Low</th>\n",
       "      <th>Close</th>\n",
       "      <th>Adj Close</th>\n",
       "      <th>Volume</th>\n",
       "    </tr>\n",
       "  </thead>\n",
       "  <tbody>\n",
       "    <tr>\n",
       "      <th>0.00</th>\n",
       "      <td>1799000.0</td>\n",
       "      <td>1803000.0</td>\n",
       "      <td>1777000.0</td>\n",
       "      <td>1778000.0</td>\n",
       "      <td>1.762055e+06</td>\n",
       "      <td>0.0</td>\n",
       "    </tr>\n",
       "    <tr>\n",
       "      <th>0.25</th>\n",
       "      <td>2035500.0</td>\n",
       "      <td>2070500.0</td>\n",
       "      <td>2032500.0</td>\n",
       "      <td>2052500.0</td>\n",
       "      <td>2.037500e+06</td>\n",
       "      <td>177005.0</td>\n",
       "    </tr>\n",
       "    <tr>\n",
       "      <th>0.50</th>\n",
       "      <td>2280000.0</td>\n",
       "      <td>2303000.0</td>\n",
       "      <td>2261000.0</td>\n",
       "      <td>2281000.0</td>\n",
       "      <td>2.268144e+06</td>\n",
       "      <td>215146.0</td>\n",
       "    </tr>\n",
       "    <tr>\n",
       "      <th>0.75</th>\n",
       "      <td>2409500.0</td>\n",
       "      <td>2431000.0</td>\n",
       "      <td>2386000.0</td>\n",
       "      <td>2412000.0</td>\n",
       "      <td>2.400892e+06</td>\n",
       "      <td>268154.0</td>\n",
       "    </tr>\n",
       "  </tbody>\n",
       "</table>\n",
       "</div>"
      ],
      "text/plain": [
       "           Open       High        Low      Close     Adj Close    Volume\n",
       "0.00  1799000.0  1803000.0  1777000.0  1778000.0  1.762055e+06       0.0\n",
       "0.25  2035500.0  2070500.0  2032500.0  2052500.0  2.037500e+06  177005.0\n",
       "0.50  2280000.0  2303000.0  2261000.0  2281000.0  2.268144e+06  215146.0\n",
       "0.75  2409500.0  2431000.0  2386000.0  2412000.0  2.400892e+06  268154.0"
      ]
     },
     "execution_count": 2,
     "metadata": {},
     "output_type": "execute_result"
    }
   ],
   "source": [
    "df.quantile([0, .25, .5, .75])"
   ]
  },
  {
   "cell_type": "markdown",
   "metadata": {},
   "source": [
    "### <strong> 04 히스토그램\n",
    "데이터의 분포를 그래프로 출력\n",
    "1. <strong>bin</strong> : 데이터가 겹치지 않는 구간분할 간격\n",
    "2. <strong>빈도</strong> : bin 구간에 속한 데이터 수"
   ]
  },
  {
   "cell_type": "code",
   "execution_count": 3,
   "metadata": {},
   "outputs": [
    {
     "data": {
      "text/plain": [
       "<matplotlib.axes._subplots.AxesSubplot at 0x7fa14451c518>"
      ]
     },
     "execution_count": 3,
     "metadata": {},
     "output_type": "execute_result"
    },
    {
     "data": {
      "image/png": "[encoded data removed]",
      "text/plain": [
       "<matplotlib.figure.Figure at 0x7fa1476f5710>"
      ]
     },
     "metadata": {},
     "output_type": "display_data"
    }
   ],
   "source": [
    "%matplotlib inline\n",
    "df['Open'].hist()"
   ]
  },
  {
   "cell_type": "code",
   "execution_count": 4,
   "metadata": {},
   "outputs": [
    {
     "data": {
      "image/png": "[encoded data removed]",
      "text/plain": [
       "<matplotlib.figure.Figure at 0x7fa14443a208>"
      ]
     },
     "metadata": {},
     "output_type": "display_data"
    },
    {
     "name": "stdout",
     "output_type": "stream",
     "text": [
      "Bin : 1799000, Frequency = 24\n",
      "Bin : 1906600, Frequency = 24\n",
      "Bin : 2014200, Frequency = 31\n",
      "Bin : 2121800, Frequency = 3\n",
      "Bin : 2229400, Frequency = 41\n",
      "Bin : 2337000, Frequency = 33\n",
      "Bin : 2444600, Frequency = 21\n",
      "Bin : 2552200, Frequency = 11\n",
      "Bin : 2659800, Frequency = 14\n",
      "Bin : 2767400, Frequency = 1\n"
     ]
    }
   ],
   "source": [
    "import matplotlib.pyplot as plt\n",
    "\n",
    "(n, bins, _) = plt.hist(df['Open'])   #.hist : 구간별 bins 와 n(구간분포 데이터 수) 를 추출\n",
    "df['Open'].plot(kind='kde')\n",
    "plt.axvline(df['Open'].mean(),color='red')  # 중간값 보조선을 그린다\n",
    "plt.grid(); plt.show()\n",
    "\n",
    "for index in range(len(n)):\n",
    "    print (\"Bin : %0.f, Frequency = %0.f\" %(bins[index],n[index]) )"
   ]
  },
  {
   "cell_type": "code",
   "execution_count": 5,
   "metadata": {
    "collapsed": true
   },
   "outputs": [],
   "source": [
    "# 히스토그램 분석내용\n",
    "# 1.중심성향 (Central Tendency) : 평균을 중심으로 분포여부\n",
    "# 2.Modes : 무리의 설정여부\n",
    "# 3.Spread : 데이터 분포\n",
    "# 4.Tail : 상/하위 25% 분포의 기울기 경사정도\n",
    "# 5.이상치 : 예외값이 분포도에 존재하는가\n",
    "\n",
    "# 결과 : # 중심성향이 상당히 높다"
   ]
  },
  {
   "cell_type": "markdown",
   "metadata": {},
   "source": [
    "### <strong> 05 정규분포\n",
    "1. <strong>Normal Distribution</strong> : 다른이름으로 <strong>Gaussian Distribution (가우스 분포)</strong>라 한다\n",
    "2. <strong>Standard Normal Distribution (표준정규분포)</strong> : 평균 0, 분산 1인 정규분포\n",
    "\n",
    "Gaussian Distribution (가우스분포) : 물리학 실험시 발생한 계측오차를 확률분포로 정리\n",
    "\n",
    "Central Limit Theorem (중심극한정리) : N이 적당히 크면, 동일한 확률분포의 독립변수의 평균값이 정규분포에 가까워 진다"
   ]
  },
  {
   "cell_type": "markdown",
   "metadata": {},
   "source": [
    "### <strong> 06 산점도\n",
    "<strong>Scatter plot</strong> : 2개의 변수 데이터를 직교좌표를 활용하여 상관성을 분석한다\n",
    "\n",
    "단 상관성이 바로 <strong>Causation(인과관계)를 의미하지 않음</strong>에 주의\n",
    "\n",
    "<strong>산점도 행렬</strong> : 데이터 컬럼이 여럿인 경우, 2개씩 짝지어서 비교하면 용이하다"
   ]
  },
  {
   "cell_type": "code",
   "execution_count": 6,
   "metadata": {},
   "outputs": [],
   "source": [
    "df = df.astype(int)"
   ]
  },
  {
   "cell_type": "code",
   "execution_count": 7,
   "metadata": {},
   "outputs": [],
   "source": [
    "from pandas.tools.plotting import scatter_matrix\n",
    "# scatter_matrix(df, alpha=0.2, figsize=(6, 6), diagonal='kde')\n",
    "# plt.show()"
   ]
  },
  {
   "cell_type": "markdown",
   "metadata": {},
   "source": [
    "### <strong> 07 상자그림\n",
    "<strong>Box plot</strong>\n",
    "1. Whisker : 상단/ 하단경계\n",
    "2. Mean(평균), Median(중간), Quartile(1,3분위 경계)\n",
    "3. 이상치 데이터"
   ]
  },
  {
   "cell_type": "code",
   "execution_count": 8,
   "metadata": {},
   "outputs": [
    {
     "data": {
      "image/png": "[encoded data removed]",
      "text/plain": [
       "<matplotlib.figure.Figure at 0x7fa1444a5160>"
      ]
     },
     "metadata": {},
     "output_type": "display_data"
    }
   ],
   "source": [
    "df.ix[:,:-1].plot(kind='box')\n",
    "plt.show()\n",
    "\n",
    "# 분석결과\n",
    "# 모든 컬럼에는 이상치 값을 나타내지 않는다"
   ]
  },
  {
   "cell_type": "markdown",
   "metadata": {},
   "source": [
    "<br>\n",
    "## <strong>2 시계열 데이터\n",
    "<strong>Financial Time Series\n",
    "1. 자기상관 AutoCorrelation\n",
    "2. 자기공분산 AutoCovariance\n",
    "\n",
    "### <strong>01 시계열 데이터 분석\n",
    "1. 시계열 데이터 패턴에 영향을 미치는 요소를 찾는다\n",
    "2. 과거의 데이터가 미래에 영향을 미치는지 분석한다\n",
    "3. 모델로 미래의 데이터를 예측한다"
   ]
  },
  {
   "cell_type": "markdown",
   "metadata": {},
   "source": [
    "### <strong>02 시계열 데이터 특성\n",
    "1. Trend : 시간의 흐름에 따른 변화\n",
    "2. Seasonality : 일,월,년,계절에 따른 반복적 pattern\n",
    "3. Outliers : 이상치 발견\n",
    "4. Long-run Cycle : 별도의 pattern 반복구간\n",
    "5. Constant Variance : 측정값의 변동\n",
    "6. Abrupt Change : 급격한 변화여부"
   ]
  },
  {
   "cell_type": "markdown",
   "metadata": {},
   "source": [
    "### <strong>03 랜덤과정\n",
    "1. Stochastic Process(랜덤과정) : 시간의 흐름에 따른 데이터의 변화 ex) 환율변화, 주식가격 변화\n",
    "2. Deterministic Process(결정적과정) : 모든 데이터 값은 결정이 되어 있다"
   ]
  },
  {
   "cell_type": "markdown",
   "metadata": {},
   "source": [
    "### <strong>04 정상 시계열 데이터\n",
    "평균 0기준 <strong>+-5</strong> 사이에서 변동 : <strong>통계적 특성을 찾기 용이</strong> (주식가격은 정상성을 갖기 어렵다)\n",
    "1. Weak-sense stationarity (약한 정상성) : 평균함수 (mean(t))와 공분산함수 (r(s,t))가 시간에 대해 변하지 않음\n",
    "  1. 일정한 평균\n",
    "  2. 일정한 분산\n",
    "  3. 시간에 독립적인 공분산\n",
    "  4. $ f(t_1) = f(t_1 + T) $ : T 시간의 변화에 상관없이 통계적 특성을 갖는다"
   ]
  },
  {
   "cell_type": "markdown",
   "metadata": {},
   "source": [
    "### <strong>05 랜덤과정에서의 기대값, 분산, 공분산\n",
    "$E(x) = \\mu$ :  (모집단 확률변수 x 의 기대값) = (모집단 평균)"
   ]
  },
  {
   "cell_type": "code",
   "execution_count": 9,
   "metadata": {},
   "outputs": [
    {
     "data": {
      "text/plain": [
       "14865752193.508265"
      ]
     },
     "execution_count": 9,
     "metadata": {},
     "output_type": "execute_result"
    }
   ],
   "source": [
    "# 한미약품 데이터 추출\n",
    "df_hanmi = get_data_yahoo('128940.KS','2017-01-01')\n",
    "df_hanmi = df_hanmi.astype(int)\n",
    "\n",
    "# 종가간의 공분산을 측정\n",
    "# 공분산은 값보단, 양/음수 방향성이 중요하다 (같은 방향으로 움직인다)\n",
    "df['Close'].cov(df_hanmi['Close'])"
   ]
  },
  {
   "cell_type": "markdown",
   "metadata": {},
   "source": [
    "### <strong>06 상관분석\n",
    "피어슨, 스피어만, 켄달 방식"
   ]
  },
  {
   "cell_type": "code",
   "execution_count": 10,
   "metadata": {},
   "outputs": [
    {
     "data": {
      "text/plain": [
       "0.9101523089405944"
      ]
     },
     "execution_count": 10,
     "metadata": {},
     "output_type": "execute_result"
    }
   ],
   "source": [
    "df['Close'].corr(df_hanmi['Close'])"
   ]
  },
  {
   "cell_type": "markdown",
   "metadata": {},
   "source": [
    "### <strong>07 자기공분산\n",
    "Auto_Covariance : 상관도표에 근거를 둔 안정성 검정으로, $Log$의 추세와 크기를 파악에 용이\n",
    "\n",
    "cf)공분산이 실제시간 아닌, 시차에만 의존시 안정적\n",
    "\n",
    "https://m.blog.naver.com/PostView.nhn?blogId=someonenice&logNo=10099260876&proxyReferer=https%3A%2F%2Fwww.google.co.kr%2F"
   ]
  },
  {
   "cell_type": "markdown",
   "metadata": {},
   "source": [
    "### <strong>08 자기상관\n",
    "Auto_Correlation : 시간 변화에 따른 변수간의 상관관계 변화를 측정"
   ]
  },
  {
   "cell_type": "code",
   "execution_count": 11,
   "metadata": {},
   "outputs": [
    {
     "data": {
      "image/png": "[encoded data removed]",
      "text/plain": [
       "<matplotlib.figure.Figure at 0x7fa138b92128>"
      ]
     },
     "metadata": {},
     "output_type": "display_data"
    }
   ],
   "source": [
    "# 종가의 자기상관 그래프 출력\n",
    "# 분석결과 : 데이터의 무작위성을 파악가능하다 (Randomness)\n",
    "#        : 데이터가 0에 가까울수록 자기상관성을 강하게 나타낸다\n",
    "\n",
    "from pandas.tools.plotting import autocorrelation_plot\n",
    "\n",
    "fig, axs = plt.subplots(2,1)\n",
    "df['Close'].plot(ax = axs[0])\n",
    "autocorrelation_plot(df['Close'], ax = axs[1])\n",
    "plt.show()"
   ]
  },
  {
   "cell_type": "code",
   "execution_count": 12,
   "metadata": {},
   "outputs": [
    {
     "data": {
      "image/png": "[encoded data removed]",
      "text/plain": [
       "<matplotlib.figure.Figure at 0x7fa138b53358>"
      ]
     },
     "metadata": {},
     "output_type": "display_data"
    }
   ],
   "source": [
    "fig, axs = plt.subplots(2,1)\n",
    "df_hanmi['Close'].plot(ax = axs[0])\n",
    "autocorrelation_plot(df_hanmi['Close'], ax = axs[1])\n",
    "plt.show()"
   ]
  },
  {
   "cell_type": "markdown",
   "metadata": {},
   "source": [
    "### <strong>09 상광도표\n",
    "correlogram : 자기상관함수를 Lag K의 순차적 값에 따른 자기상관도를 출력한다"
   ]
  },
  {
   "cell_type": "code",
   "execution_count": 13,
   "metadata": {
    "collapsed": true
   },
   "outputs": [],
   "source": [
    "def get_autocorrelation_dataframe(series):\n",
    "    def r(h):\n",
    "        return ((data[:n - h] - mean) * (data[h:] - mean)).sum() / float(n) / c0\n",
    "    n = len(series)\n",
    "    data = np.asarray(series)\n",
    "    mean = np.mean(data)\n",
    "    c0 = np.sum((data - mean) ** 2) / float(n)\n",
    "    x = np.arange(n) + 1\n",
    "    y = lmap(r, x)\n",
    "    df = pd.DataFrame(y, index=x)\n",
    "    return df"
   ]
  },
  {
   "cell_type": "code",
   "execution_count": 17,
   "metadata": {},
   "outputs": [
    {
     "data": {
      "text/html": [
       "<div>\n",
       "<table border=\"1\" class=\"dataframe\">\n",
       "  <thead>\n",
       "    <tr style=\"text-align: right;\">\n",
       "      <th></th>\n",
       "      <th>0</th>\n",
       "    </tr>\n",
       "  </thead>\n",
       "  <tbody>\n",
       "    <tr>\n",
       "      <th>count</th>\n",
       "      <td>203.000000</td>\n",
       "    </tr>\n",
       "    <tr>\n",
       "      <th>mean</th>\n",
       "      <td>-0.002463</td>\n",
       "    </tr>\n",
       "    <tr>\n",
       "      <th>std</th>\n",
       "      <td>0.358245</td>\n",
       "    </tr>\n",
       "    <tr>\n",
       "      <th>min</th>\n",
       "      <td>-0.344759</td>\n",
       "    </tr>\n",
       "    <tr>\n",
       "      <th>25%</th>\n",
       "      <td>-0.299548</td>\n",
       "    </tr>\n",
       "    <tr>\n",
       "      <th>50%</th>\n",
       "      <td>-0.143085</td>\n",
       "    </tr>\n",
       "    <tr>\n",
       "      <th>75%</th>\n",
       "      <td>0.265623</td>\n",
       "    </tr>\n",
       "    <tr>\n",
       "      <th>max</th>\n",
       "      <td>0.969722</td>\n",
       "    </tr>\n",
       "  </tbody>\n",
       "</table>\n",
       "</div>"
      ],
      "text/plain": [
       "                0\n",
       "count  203.000000\n",
       "mean    -0.002463\n",
       "std      0.358245\n",
       "min     -0.344759\n",
       "25%     -0.299548\n",
       "50%     -0.143085\n",
       "75%      0.265623\n",
       "max      0.969722"
      ]
     },
     "execution_count": 17,
     "metadata": {},
     "output_type": "execute_result"
    }
   ],
   "source": [
    "import numpy as np\n",
    "import pandas as pd\n",
    "from pandas.compat import lmap\n",
    "\n",
    "df_corr = get_autocorrelation_dataframe(df['Close'])\n",
    "df_corr.describe()"
   ]
  },
  {
   "cell_type": "code",
   "execution_count": 15,
   "metadata": {},
   "outputs": [
    {
     "data": {
      "image/png": "[encoded data removed]",
      "text/plain": [
       "<matplotlib.figure.Figure at 0x7fa138a02710>"
      ]
     },
     "metadata": {},
     "output_type": "display_data"
    }
   ],
   "source": [
    "fig, axs = plt.subplots(2,1)\n",
    "\n",
    "axs[1].xaxis.set_visible(False) \n",
    "df['Close'].plot(ax=axs[0])\n",
    "df_corr[0].plot(kind='bar',ax=axs[1])\n",
    "plt.show()\n",
    "\n",
    "# 자기상관 그래프와 형태만 약간 다를뿐, 결과적으로 같은 결과를 출력한다"
   ]
  },
  {
   "cell_type": "markdown",
   "metadata": {},
   "source": [
    "### <strong>10 Random Walk\n",
    "평균은 일정하지만, 방향이 무작위로 결정되어 시간이 흐를수록 분산이 증가\n",
    "\n",
    "<img src=\"https://upload.wikimedia.org/wikipedia/commons/7/76/Random_Walk_example.png\" align=\"left\" width=\"250\">"
   ]
  },
  {
   "cell_type": "markdown",
   "metadata": {},
   "source": [
    "### <strong>11 기하적 브라운 운동 GBM\n",
    "Geomatric Brownian Motion, Exponential Brownian Motion : 랜덤워크의 일종으로 표류하는 브라운 운동\n",
    "1. 표류하는 랜덤위크\n",
    "2. 정상과정 (평균 +-5 이내로 변동)\n",
    "3. 랜덤워크 \n",
    "\n",
    "<img src=\"http://images.slideplayer.com/31/9706941/slides/slide_18.jpg\" align=\"left\" width=\"500\">"
   ]
  }
 ],
 "metadata": {
  "kernelspec": {
   "display_name": "Python 3",
   "language": "python",
   "name": "python3"
  },
  "language_info": {
   "codemirror_mode": {
    "name": "ipython",
    "version": 3
   },
   "file_extension": ".py",
   "mimetype": "text/x-python",
   "name": "python",
   "nbconvert_exporter": "python",
   "pygments_lexer": "ipython3",
   "version": "3.6.1"
  }
 },
 "nbformat": 4,
 "nbformat_minor": 2
}
