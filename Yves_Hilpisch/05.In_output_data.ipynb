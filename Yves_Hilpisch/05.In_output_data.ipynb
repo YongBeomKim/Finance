{
 "cells": [
  {
   "cell_type": "markdown",
   "metadata": {},
   "source": [
    "# Chapte 7 - Input-Output Operations\n",
    "입출력 작업"
   ]
  },
  {
   "cell_type": "code",
   "execution_count": 1,
   "metadata": {
    "collapsed": true
   },
   "outputs": [],
   "source": [
    "# 기본 입출력 작업 : text, ndarray, SQL\n",
    "# pandas 모듈을 활용 : 상동 및 CSV, JSON을 추가적 가능\n",
    "# PyTable을 사용한 입출력 : HDF5 표준을 활용한 대규모 입출력 작업"
   ]
  },
  {
   "cell_type": "markdown",
   "metadata": {},
   "source": [
    "<br></br>\n",
    "## 1 기본 파이썬 입출력\n",
    "Input-Output Operations"
   ]
  },
  {
   "cell_type": "markdown",
   "metadata": {},
   "source": [
    "### 01 Pickle 객체 저장\n",
    "객체를 Disk에 저장하기"
   ]
  },
  {
   "cell_type": "code",
   "execution_count": 2,
   "metadata": {
    "collapsed": true
   },
   "outputs": [],
   "source": [
    "import numpy as np\n",
    "from random import gauss\n",
    "\n",
    "# 정규분포를 갖는 랜덤데이터를 생성한다\n",
    "a = [gauss(1.5, 2) for i in range(1000000)] "
   ]
  },
  {
   "cell_type": "code",
   "execution_count": 3,
   "metadata": {},
   "outputs": [
    {
     "name": "stdout",
     "output_type": "stream",
     "text": [
      "CPU times: user 0 ns, sys: 0 ns, total: 0 ns\n",
      "Wall time: 4.29 µs\n",
      "-rw-rw-r-- 1 markbaum markbaum 9002006  9월  4 11:29 ./data/data.pkl\r\n"
     ]
    }
   ],
   "source": [
    "%time\n",
    "import pickle\n",
    "path = './data/'\n",
    "with open(path + 'data.pkl', 'wb') as file:\n",
    "    pickle.dump(a, file)\n",
    "\n",
    "# 저장된 객체의 용량 9MB확인\n",
    "# http://www.mireene.com/webimg/linux_tip1.htm  # 리눅스 기본명령어\n",
    "! ls ./data/*.pkl -l"
   ]
  },
  {
   "cell_type": "code",
   "execution_count": 4,
   "metadata": {},
   "outputs": [
    {
     "name": "stdout",
     "output_type": "stream",
     "text": [
      "CPU times: user 0 ns, sys: 0 ns, total: 0 ns\n",
      "Wall time: 13.1 µs\n"
     ]
    }
   ],
   "source": [
    "# 저장된 객체 불러오기\n",
    "%time \n",
    "with open(path + 'data.pkl', 'rb') as file:\n",
    "    b = pickle.load(file)"
   ]
  },
  {
   "cell_type": "code",
   "execution_count": 5,
   "metadata": {},
   "outputs": [
    {
     "data": {
      "text/plain": [
       "True"
      ]
     },
     "execution_count": 5,
     "metadata": {},
     "output_type": "execute_result"
    }
   ],
   "source": [
    "# a (생성), b (불러옴) 객체간 동일여부를 확인한다\n",
    "np.allclose(np.array(a), np.array(b))"
   ]
  },
  {
   "cell_type": "markdown",
   "metadata": {},
   "source": [
    "### 02 Numpy를 활용한 Pickle 객체 저장\n",
    "by numpy"
   ]
  },
  {
   "cell_type": "code",
   "execution_count": 6,
   "metadata": {},
   "outputs": [
    {
     "name": "stdout",
     "output_type": "stream",
     "text": [
      "CPU times: user 28 ms, sys: 4 ms, total: 32 ms\n",
      "Wall time: 31.4 ms\n",
      "CPU times: user 24 ms, sys: 4 ms, total: 28 ms\n",
      "Wall time: 27.8 ms\n"
     ]
    }
   ],
   "source": [
    "# 2개 객체를 1개의 파일에 저장하기\n",
    "# np.array 모듈을 사용해서 속도가 빠르다\n",
    "# 2배 데이터로, 용량도 2배가 된다\n",
    "pkl_file = open(path + 'data.pkl', 'wb')  # open file for writing\n",
    "%time pickle.dump(np.array(a), pkl_file)  # a 객체를 np.array로 변환입력\n",
    "%time pickle.dump(np.array(a) ** 2, pkl_file) # 동일데이터 제곱을 입력\n",
    "pkl_file.close()"
   ]
  },
  {
   "cell_type": "code",
   "execution_count": 7,
   "metadata": {},
   "outputs": [
    {
     "name": "stdout",
     "output_type": "stream",
     "text": [
      "-rw-rw-r-- 1 markbaum markbaum 16000322  9월  4 11:29 ./data/data.pkl\r\n"
     ]
    }
   ],
   "source": [
    "# 다른 함수들과 같이 실행하면 syntex 오류가 발생한다 (주의!!)\n",
    "! ls ./data/*.pkl -l"
   ]
  },
  {
   "cell_type": "code",
   "execution_count": 8,
   "metadata": {},
   "outputs": [
    {
     "data": {
      "text/plain": [
       "array([ 1.70649082,  4.12848061,  3.39685536, ...,  3.6687107 ,\n",
       "        0.24022276, -0.07239309])"
      ]
     },
     "execution_count": 8,
     "metadata": {},
     "output_type": "execute_result"
    }
   ],
   "source": [
    "# 2개의 np.array가 저장되었음에도 1개만 출력\n",
    "pkl_file = open(path + 'data.pkl', 'rb')  # open file for reading\n",
    "x = pickle.load(pkl_file)\n",
    "x"
   ]
  },
  {
   "cell_type": "code",
   "execution_count": 9,
   "metadata": {},
   "outputs": [
    {
     "data": {
      "text/plain": [
       "array([  2.91211091e+00,   1.70443521e+01,   1.15386263e+01, ...,\n",
       "         1.34594382e+01,   5.77069768e-02,   5.24075991e-03])"
      ]
     },
     "execution_count": 9,
     "metadata": {},
     "output_type": "execute_result"
    }
   ],
   "source": [
    "# First In First Out\n",
    "# pickle.load()를 1번더 실행해야 2번쨰 객체가 출력\n",
    "# 데이터 구조를 알지 못하면 필요한 자료를 찾기 어렵다\n",
    "y = pickle.load(pkl_file)\n",
    "y"
   ]
  },
  {
   "cell_type": "code",
   "execution_count": 10,
   "metadata": {
    "collapsed": true
   },
   "outputs": [],
   "source": [
    "pkl_file.close()"
   ]
  },
  {
   "cell_type": "code",
   "execution_count": 11,
   "metadata": {
    "collapsed": true
   },
   "outputs": [],
   "source": [
    "# {'x' : x, 'y' : y} 의 dict 객체를 통해 데이터를 모두 저장\n",
    "pkl_file = open(path + 'data.pkl', 'wb')  # open file for writing\n",
    "pickle.dump({'x' : x, 'y' : y}, pkl_file)\n",
    "pkl_file.close()"
   ]
  },
  {
   "cell_type": "code",
   "execution_count": 12,
   "metadata": {},
   "outputs": [
    {
     "name": "stdout",
     "output_type": "stream",
     "text": [
      "x [ 1.70649082  4.12848061  3.39685536  3.65246595]\n",
      "y [  2.91211091  17.04435214  11.53862634  13.34050748]\n"
     ]
    }
   ],
   "source": [
    "# {dict} 을 통해 모든 데이터를 불러오기 가능하다\n",
    "pkl_file = open(path + 'data.pkl', 'rb')  # open file for writing\n",
    "data = pickle.load(pkl_file)\n",
    "pkl_file.close()\n",
    "for key in data.keys():\n",
    "    print(key, data[key][:4])"
   ]
  },
  {
   "cell_type": "markdown",
   "metadata": {},
   "source": [
    "### 02 텍스트 파일 읽고 쓰기\n",
    "Reading and Writing Text Files"
   ]
  },
  {
   "cell_type": "code",
   "execution_count": 13,
   "metadata": {},
   "outputs": [
    {
     "data": {
      "text/plain": [
       "array([[ 0.3806, -0.1565, -1.4968, -1.2179, -0.9513],\n",
       "       [-0.1281,  2.016 , -0.2718, -1.7224,  1.3798],\n",
       "       [-0.0967, -0.4376, -0.1043, -1.484 ,  0.4281],\n",
       "       ..., \n",
       "       [-0.1536,  1.3108,  1.0434,  0.1261,  0.3519],\n",
       "       [-1.6063,  0.7243, -1.3272, -1.4951,  1.44  ],\n",
       "       [-0.3295,  0.7337, -1.8692,  0.4136,  0.6614]])"
      ]
     },
     "execution_count": 13,
     "metadata": {},
     "output_type": "execute_result"
    }
   ],
   "source": [
    "import numpy as np\n",
    "rows = 5000\n",
    "a = np.random.standard_normal((rows, 5))  \n",
    "a.round(4) # 소숫점 4자리서 반올림"
   ]
  },
  {
   "cell_type": "code",
   "execution_count": 14,
   "metadata": {
    "collapsed": true
   },
   "outputs": [],
   "source": [
    "import pandas as pd\n",
    "t = pd.date_range(start='2014/1/1', periods=rows, freq='H')\n",
    "    # set of hourly datetime objects\n",
    "csv_file = open(path + 'data.csv', 'w')  # open file for writing"
   ]
  },
  {
   "cell_type": "code",
   "execution_count": 15,
   "metadata": {},
   "outputs": [
    {
     "data": {
      "text/plain": [
       "25"
      ]
     },
     "execution_count": 15,
     "metadata": {},
     "output_type": "execute_result"
    }
   ],
   "source": [
    "header = 'date,no1,no2,no3,no4,no5\\n'\n",
    "csv_file.write(header)"
   ]
  },
  {
   "cell_type": "code",
   "execution_count": 16,
   "metadata": {
    "collapsed": true
   },
   "outputs": [],
   "source": [
    "# 랜덤한 숫자와 날짜-시간 정보를 합쳐서 1줄씩 기록\n",
    "for t_, (no1, no2, no3, no4, no5) in zip(t, a):\n",
    "    s = '%s,%f,%f,%f,%f,%f\\n' % (t_, no1, no2, no3, no4, no5)\n",
    "    csv_file.write(s)\n",
    "csv_file.close()"
   ]
  },
  {
   "cell_type": "code",
   "execution_count": 17,
   "metadata": {},
   "outputs": [
    {
     "name": "stdout",
     "output_type": "stream",
     "text": [
      "date,no1,no2,no3,no4,no5\n",
      "2014-01-01 00:00:00,0.380571,-0.156497,-1.496833,-1.217939,-0.951262\n",
      "2014-01-01 01:00:00,-0.128092,2.015992,-0.271780,-1.722366,1.379821\n",
      "2014-01-01 02:00:00,-0.096663,-0.437576,-0.104265,-1.483974,0.428121\n",
      "2014-01-01 03:00:00,0.175604,-0.748875,0.454243,1.755248,-1.268272\n"
     ]
    }
   ],
   "source": [
    "# data.csv 저장한 파일 불러오기\n",
    "csv_file = open(path + 'data.csv', 'r') \n",
    "for i in range(5): # 전체 line 중 5줄만 읽기\n",
    "    print(csv_file.readline(), end='')"
   ]
  },
  {
   "cell_type": "code",
   "execution_count": 18,
   "metadata": {},
   "outputs": [
    {
     "name": "stdout",
     "output_type": "stream",
     "text": [
      "date,no1,no2,no3,no4,no5\n",
      "2014-01-01 00:00:00,0.380571,-0.156497,-1.496833,-1.217939,-0.951262\n",
      "2014-01-01 01:00:00,-0.128092,2.015992,-0.271780,-1.722366,1.379821\n",
      "2014-01-01 02:00:00,-0.096663,-0.437576,-0.104265,-1.483974,0.428121\n",
      "2014-01-01 03:00:00,0.175604,-0.748875,0.454243,1.755248,-1.268272\n"
     ]
    }
   ],
   "source": [
    "csv_file = open(path + 'data.csv', 'r')\n",
    "content = csv_file.readlines()\n",
    "for line in content[:5]:\n",
    "    print(line, end='')"
   ]
  },
  {
   "cell_type": "code",
   "execution_count": 19,
   "metadata": {
    "collapsed": true
   },
   "outputs": [],
   "source": [
    "csv_file.close()"
   ]
  },
  {
   "cell_type": "markdown",
   "metadata": {},
   "source": [
    "### 03 SQL 데이터베이스\n",
    "sqlite3"
   ]
  },
  {
   "cell_type": "code",
   "execution_count": 20,
   "metadata": {
    "collapsed": true
   },
   "outputs": [],
   "source": [
    "# DB와 연결을 설정\n",
    "import sqlite3\n",
    "con = sqlite3.connect(path + 'number.db')\n",
    "\n",
    "# Query 문 지정 및 실행\n",
    "query = 'Create Table numbs (Date date, No1 real, No2 real)'\n",
    "con.execute(query)   # execute : 명령입력\n",
    "con.commit()         # commit  : 입력시행 (범하다)"
   ]
  },
  {
   "cell_type": "code",
   "execution_count": 21,
   "metadata": {},
   "outputs": [
    {
     "data": {
      "text/plain": [
       "<sqlite3.Cursor at 0x7fa374086a40>"
      ]
     },
     "execution_count": 21,
     "metadata": {},
     "output_type": "execute_result"
    }
   ],
   "source": [
    "# input 01 : 테이블에 데이터 추가하기 : 1 줄 추가\n",
    "import datetime\n",
    "con.execute('Insert Into numbs  values(?,?,?)', (datetime.datetime.now(), 0.12, 7.3))"
   ]
  },
  {
   "cell_type": "code",
   "execution_count": 22,
   "metadata": {},
   "outputs": [
    {
     "name": "stdout",
     "output_type": "stream",
     "text": [
      "(10000, 2)\n"
     ]
    }
   ],
   "source": [
    "# input 02 : 10,000개 데이터를 생성후 입력하기\n",
    "data = np.random.standard_normal((10000, 2)).round(5)\n",
    "print(data.shape)\n",
    "for row in data:\n",
    "    con.execute('INSERT INTO numbs VALUES(?, ?, ?)',\n",
    "                (datetime.datetime.now(), row[0], row[1]))\n",
    "con.commit()"
   ]
  },
  {
   "cell_type": "code",
   "execution_count": 23,
   "metadata": {},
   "outputs": [
    {
     "data": {
      "text/plain": [
       "[('2017-09-04 11:29:29.815855', 0.12, 7.3),\n",
       " ('2017-09-04 11:29:29.823753', 1.21111, 0.86575),\n",
       " ('2017-09-04 11:29:29.823826', 0.31321, -1.06475),\n",
       " ('2017-09-04 11:29:29.823840', -1.77909, -1.54526)]"
      ]
     },
     "execution_count": 23,
     "metadata": {},
     "output_type": "execute_result"
    }
   ],
   "source": [
    "# load 01 : 저장한 데이터 불러오기\n",
    "con.execute('SELECT * FROM numbs').fetchmany(4)"
   ]
  },
  {
   "cell_type": "code",
   "execution_count": 24,
   "metadata": {},
   "outputs": [
    {
     "name": "stdout",
     "output_type": "stream",
     "text": [
      "('2017-09-04 11:29:29.815855', 7.3)\n",
      "('2017-09-04 11:29:29.823753', 0.86575)\n",
      "('2017-09-04 11:29:29.823826', -1.06475)\n"
     ]
    }
   ],
   "source": [
    "# load 02 : 한번에 특정 column 만 호출\n",
    "pointer = con.execute('SELECT   Date, No2   FROM numbs')\n",
    "for i in range(3):\n",
    "    print(pointer.fetchone())"
   ]
  },
  {
   "cell_type": "code",
   "execution_count": 25,
   "metadata": {
    "collapsed": true
   },
   "outputs": [],
   "source": [
    "con.close()\n",
    "!rm ./data/number.db"
   ]
  },
  {
   "cell_type": "markdown",
   "metadata": {},
   "source": [
    "### 03 Numpy 활용, 자료형 정의하기\n",
    "numpy 의 dtype를 지정하면 Sqlite의 자료형 변환의 수고를 덜어준다"
   ]
  },
  {
   "cell_type": "code",
   "execution_count": 26,
   "metadata": {},
   "outputs": [
    {
     "data": {
      "text/plain": [
       "3681360"
      ]
     },
     "execution_count": 26,
     "metadata": {},
     "output_type": "execute_result"
    }
   ],
   "source": [
    "# 필드별 데이터타입 정의하기\n",
    "import numpy as np\n",
    "# 날짜데이터로 기준 index 생성하기\n",
    "dtimes = np.arange('2015-01-01 10:00:00', '2021-12-31 22:00:00',\n",
    "                  dtype='datetime64[m]')  # 분 단위로 index를 생성 (minute intervals)\n",
    "len(dtimes)"
   ]
  },
  {
   "cell_type": "code",
   "execution_count": 27,
   "metadata": {},
   "outputs": [
    {
     "data": {
      "text/plain": [
       "array([[ 0.,  0.,  0.,  0.],\n",
       "       [ 0.,  0.,  0.,  0.],\n",
       "       [ 0.,  0.,  0.,  0.],\n",
       "       [ 0.,  0.,  0.,  0.]])"
      ]
     },
     "execution_count": 27,
     "metadata": {},
     "output_type": "execute_result"
    }
   ],
   "source": [
    "np.zeros([4,4])"
   ]
  },
  {
   "cell_type": "code",
   "execution_count": 28,
   "metadata": {},
   "outputs": [
    {
     "data": {
      "text/plain": [
       "array([('1970-01-01T00:00',  0.,  0.), ('1970-01-01T00:00',  0.,  0.),\n",
       "       ('1970-01-01T00:00',  0.,  0.), ..., ('1970-01-01T00:00',  0.,  0.),\n",
       "       ('1970-01-01T00:00',  0.,  0.), ('1970-01-01T00:00',  0.,  0.)],\n",
       "      dtype=[('Date', '<M8[m]'), ('No1', '<f4'), ('No2', '<f4')])"
      ]
     },
     "execution_count": 28,
     "metadata": {},
     "output_type": "execute_result"
    }
   ],
   "source": [
    "d_ty = np.dtype([('Date', 'datetime64[m]'), ('No1', 'f'), ('No2', 'f')])\n",
    "# zero array 생성 (datetime의 0을 입력하니까, 모든 데이터가 1970-1-1로 치환되어 입력)\n",
    "# 전체 3컬럼 중, 첫번쨰 컬럼에 내용이 삽입\n",
    "data = np.zeros(len(dtimes), dtype = d_ty); data "
   ]
  },
  {
   "cell_type": "code",
   "execution_count": 29,
   "metadata": {},
   "outputs": [
    {
     "data": {
      "text/plain": [
       "array([('2015-01-01T10:00',  0.,  0.), ('2015-01-01T10:01',  0.,  0.),\n",
       "       ('2015-01-01T10:02',  0.,  0.), ..., ('2021-12-31T21:57',  0.,  0.),\n",
       "       ('2021-12-31T21:58',  0.,  0.), ('2021-12-31T21:59',  0.,  0.)],\n",
       "      dtype=[('Date', '<M8[m]'), ('No1', '<f4'), ('No2', '<f4')])"
      ]
     },
     "execution_count": 29,
     "metadata": {},
     "output_type": "execute_result"
    }
   ],
   "source": [
    "# zero 데이터 영역에 dtime 객체로 치환\n",
    "data['Date'] = dtimes; data"
   ]
  },
  {
   "cell_type": "code",
   "execution_count": 30,
   "metadata": {},
   "outputs": [
    {
     "data": {
      "text/plain": [
       "array([('2015-01-01T10:00', -0.99307001,  0.60544002),\n",
       "       ('2015-01-01T10:01',  0.59921002, -0.22319999),\n",
       "       ('2015-01-01T10:02', -2.08380008, -1.64101005), ...,\n",
       "       ('2021-12-31T21:57', -0.46145999,  1.37346995),\n",
       "       ('2021-12-31T21:58', -0.91083997,  1.70670998),\n",
       "       ('2021-12-31T21:59', -0.1596    ,  0.22825   )],\n",
       "      dtype=[('Date', '<M8[m]'), ('No1', '<f4'), ('No2', '<f4')])"
      ]
     },
     "execution_count": 30,
     "metadata": {},
     "output_type": "execute_result"
    }
   ],
   "source": [
    "# 기타 column 데이터 입력하기\n",
    "a = np.random.standard_normal((len(dtimes), 2)).round(5)\n",
    "data['No1'] = a[:, 0] # 생성한 난수의 0 컬럼을 No1에 입력\n",
    "data['No2'] = a[:, 1] # 생성한 난수의 1 컬럼을 No1에 입력\n",
    "data"
   ]
  },
  {
   "cell_type": "code",
   "execution_count": 43,
   "metadata": {},
   "outputs": [
    {
     "name": "stdout",
     "output_type": "stream",
     "text": [
      "CPU times: user 4 ms, sys: 44 ms, total: 48 ms\n",
      "Wall time: 45.9 ms\n",
      "-rw-rw-r-- 1 markbaum markbaum 58901888  9월  4 11:32 ./data/array.npy\r\n"
     ]
    }
   ],
   "source": [
    "# 59Mb 임에도 속도가 빠르다\n",
    "%time np.save(path + 'array', data)  # array .npy 로 저장된다\n",
    "!ls ./data/*.npy -l"
   ]
  },
  {
   "cell_type": "code",
   "execution_count": 44,
   "metadata": {},
   "outputs": [
    {
     "name": "stdout",
     "output_type": "stream",
     "text": [
      "CPU times: user 0 ns, sys: 16 ms, total: 16 ms\n",
      "Wall time: 14.7 ms\n"
     ]
    },
    {
     "data": {
      "text/plain": [
       "array([('2015-01-01T10:00', -0.99307001,  0.60544002),\n",
       "       ('2015-01-01T10:01',  0.59921002, -0.22319999),\n",
       "       ('2015-01-01T10:02', -2.08380008, -1.64101005), ...,\n",
       "       ('2021-12-31T21:57', -0.46145999,  1.37346995),\n",
       "       ('2021-12-31T21:58', -0.91083997,  1.70670998),\n",
       "       ('2021-12-31T21:59', -0.1596    ,  0.22825   )],\n",
       "      dtype=[('Date', '<M8[m]'), ('No1', '<f4'), ('No2', '<f4')])"
      ]
     },
     "execution_count": 44,
     "metadata": {},
     "output_type": "execute_result"
    }
   ],
   "source": [
    "# numpy 객체 불러오기\n",
    "%time np.load(path + 'array.npy')"
   ]
  },
  {
   "cell_type": "code",
   "execution_count": 46,
   "metadata": {},
   "outputs": [
    {
     "name": "stdout",
     "output_type": "stream",
     "text": [
      "CPU times: user 4 ms, sys: 20 ms, total: 24 ms\n",
      "Wall time: 22.1 ms\n",
      "-rw-rw-r-- 1 markbaum markbaum 58901888  9월  4 11:32 ./data/array.npy\r\n",
      "-rw-rw-r-- 1 markbaum markbaum 48000080  9월  4 11:36 ./data/array_big.npy\r\n"
     ]
    }
   ],
   "source": [
    "# 대용량 데이터 저장 및 불러오기\n",
    "# 거의 시스템 속도만큼 즉각 저장이 가능하다 \n",
    "data = np.random.standard_normal((1000, 6000))\n",
    "%time np.save(path + 'array_big', data)\n",
    "!ls ./data/*.npy -l"
   ]
  },
  {
   "cell_type": "code",
   "execution_count": 47,
   "metadata": {
    "collapsed": true
   },
   "outputs": [],
   "source": [
    "! rm ./data/*.npy\n",
    "# 결론\n",
    "# pickle 및 SQL 보다 더 속도가 빠른반면, SQL의 기능을 활용할 수 없다\n",
    "# SQL기능을 보완가능한 Pandas (Pytable 라이브러리)를 활용하면 유용하다"
   ]
  },
  {
   "cell_type": "markdown",
   "metadata": {},
   "source": [
    "<br></br>\n",
    "## 2 pandas 를 활용한 사용자 입출력\n",
    "pandas 라이브러리"
   ]
  },
  {
   "cell_type": "code",
   "execution_count": null,
   "metadata": {
    "collapsed": true
   },
   "outputs": [],
   "source": [
    "# http://pandas.pydata.org/pandas-docs/version/0.20/io.html\n",
    "# <ty>  <format>    <read>          <write>\n",
    "# text  CSV         read_csv        to_csv\n",
    "# text \tJSON    \tread_json   \tto_json\n",
    "# text \tHTML    \tread_html   \tto_html\n",
    "# text \tLocalclips \tread_clipboard \tto_clipboard\n",
    "# binary MS Excel \tread_excel \t    to_excel\n",
    "# binary HDF5       read_hdf \t    to_hdf\n",
    "# binary Feather    read_feather    to_feather\n",
    "# binary Msgpack \tread_msgpack    to_msgpack\n",
    "# binary Stata      read_stata      to_stata\n",
    "# binary SAS        read_sas \n",
    "# binary Pickle     read_pickle     to_pickle\n",
    "# SQL    SQL        read_sql        to_sql\n",
    "# SQL    Gogl Query read_gbq        to_gbq"
   ]
  },
  {
   "cell_type": "markdown",
   "metadata": {},
   "source": [
    "### 01 SQL 데이터베이스\n",
    "Sqlite3 데이터베이스"
   ]
  },
  {
   "cell_type": "code",
   "execution_count": 48,
   "metadata": {},
   "outputs": [
    {
     "data": {
      "text/plain": [
       "'./data/numbs'"
      ]
     },
     "execution_count": 48,
     "metadata": {},
     "output_type": "execute_result"
    }
   ],
   "source": [
    "# numpy로 객체 생성하기\n",
    "import pandas as pd\n",
    "filename = path + 'numbs'\n",
    "filename"
   ]
  },
  {
   "cell_type": "markdown",
   "metadata": {},
   "source": [
    "### 02 Numpy 활용, 자료형 정의하기\n",
    "numpy 의 dtype를 지정하면 Sqlite의 자료형 변환의 수고를 덜어준다"
   ]
  },
  {
   "cell_type": "code",
   "execution_count": 51,
   "metadata": {},
   "outputs": [
    {
     "data": {
      "text/plain": [
       "<sqlite3.Cursor at 0x7fa34bec56c0>"
      ]
     },
     "execution_count": 51,
     "metadata": {},
     "output_type": "execute_result"
    }
   ],
   "source": [
    "# DB와 table 만들기\n",
    "import sqlite3\n",
    "query = 'CREATE TABLE numbers (No1 real, No2 real,\\\n",
    "        No3 real, No4 real, No5 real)'\n",
    "con = sqlite3.Connection(filename + '.db')\n",
    "con.execute(query)"
   ]
  },
  {
   "cell_type": "code",
   "execution_count": 54,
   "metadata": {},
   "outputs": [
    {
     "name": "stdout",
     "output_type": "stream",
     "text": [
      "CPU times: user 6.52 s, sys: 40 ms, total: 6.56 s\n",
      "Wall time: 6.58 s\n"
     ]
    }
   ],
   "source": [
    "# %%time             # 셀의 실행시간 계산\n",
    "# con.executemany() 데이터 전체입력함수\n",
    "import numpy as np\n",
    "data = np.random.standard_normal((1000000, 5)).round(5)\n",
    "%time con.executemany('INSERT INTO numbers VALUES (?, ?, ?, ?, ?)', data)\n",
    "con.commit()"
   ]
  },
  {
   "cell_type": "code",
   "execution_count": 55,
   "metadata": {},
   "outputs": [
    {
     "name": "stdout",
     "output_type": "stream",
     "text": [
      "-rw-r--r-- 1 markbaum markbaum 158552064  9월  4 12:01 ./data/numbs.db\r\n"
     ]
    }
   ],
   "source": [
    "!ls ./data/*.db -l"
   ]
  },
  {
   "cell_type": "code",
   "execution_count": 59,
   "metadata": {},
   "outputs": [
    {
     "name": "stdout",
     "output_type": "stream",
     "text": [
      "[(0.69656, -0.16083, -0.35156, 0.69569, -1.03612), (0.71939, -0.04034, 1.45961, 0.10254, -1.21528)]\n",
      "CPU times: user 3.63 s, sys: 204 ms, total: 3.83 s\n",
      "Wall time: 3.87 s\n"
     ]
    }
   ],
   "source": [
    "%%time\n",
    "# SQlite3 객체를 numpy로 불러오기\n",
    "temp = con.execute('SELECT * FROM numbers').fetchall()\n",
    "print(temp[:2])  # 전체 데이터 불러온 뒤 index 2까지 출력\n",
    "temp = 0.0"
   ]
  },
  {
   "cell_type": "code",
   "execution_count": 70,
   "metadata": {},
   "outputs": [
    {
     "name": "stdout",
     "output_type": "stream",
     "text": [
      "CPU times: user 1.34 s, sys: 88 ms, total: 1.42 s\n",
      "Wall time: 1.42 s\n"
     ]
    }
   ],
   "source": [
    "%%time\n",
    "# query 조건으로 축약해서 불러오기\n",
    "query = 'SELECT * FROM numbers WHERE No1 > 0 AND No2 < 0'\n",
    "res = np.array(con.execute(query).fetchall()).round(3)"
   ]
  },
  {
   "cell_type": "code",
   "execution_count": 71,
   "metadata": {},
   "outputs": [
    {
     "data": {
      "image/png": "[encoded data removed]",
      "text/plain": [
       "<matplotlib.figure.Figure at 0x7fa34990db70>"
      ]
     },
     "metadata": {},
     "output_type": "display_data"
    }
   ],
   "source": [
    "res = res[::100]  # every 100th result\n",
    "import matplotlib.pyplot as plt\n",
    "%matplotlib inline\n",
    "plt.plot(res[:, 0], res[:, 1], 'ro')\n",
    "plt.grid(True); plt.tight_layout() #plt.xlim(-0.5, 4.5); plt.ylim(-4.5, 0.5)\n",
    "plt.title('Plot of the query result'); plt.show()"
   ]
  },
  {
   "cell_type": "markdown",
   "metadata": {},
   "source": [
    "### 03 SQL에서 Pandas로 \n",
    "SQL의 query 결과를 pandas로 변환하기"
   ]
  },
  {
   "cell_type": "code",
   "execution_count": null,
   "metadata": {
    "collapsed": true
   },
   "outputs": [],
   "source": [
    "filename = path + 'numbs'\n",
    "con = sqlite3.Connection(filename + '.db')"
   ]
  },
  {
   "cell_type": "code",
   "execution_count": 75,
   "metadata": {},
   "outputs": [
    {
     "name": "stdout",
     "output_type": "stream",
     "text": [
      "CPU times: user 4.37 s, sys: 204 ms, total: 4.57 s\n",
      "Wall time: 4.57 s\n"
     ]
    },
    {
     "data": {
      "text/html": [
       "<div>\n",
       "<table border=\"1\" class=\"dataframe\">\n",
       "  <thead>\n",
       "    <tr style=\"text-align: right;\">\n",
       "      <th></th>\n",
       "      <th>No1</th>\n",
       "      <th>No2</th>\n",
       "      <th>No3</th>\n",
       "      <th>No4</th>\n",
       "      <th>No5</th>\n",
       "    </tr>\n",
       "  </thead>\n",
       "  <tbody>\n",
       "    <tr>\n",
       "      <th>0</th>\n",
       "      <td>0.69656</td>\n",
       "      <td>-0.16083</td>\n",
       "      <td>-0.35156</td>\n",
       "      <td>0.69569</td>\n",
       "      <td>-1.03612</td>\n",
       "    </tr>\n",
       "    <tr>\n",
       "      <th>1</th>\n",
       "      <td>0.71939</td>\n",
       "      <td>-0.04034</td>\n",
       "      <td>1.45961</td>\n",
       "      <td>0.10254</td>\n",
       "      <td>-1.21528</td>\n",
       "    </tr>\n",
       "    <tr>\n",
       "      <th>2</th>\n",
       "      <td>-1.40935</td>\n",
       "      <td>1.35670</td>\n",
       "      <td>0.58194</td>\n",
       "      <td>0.36640</td>\n",
       "      <td>-0.69994</td>\n",
       "    </tr>\n",
       "    <tr>\n",
       "      <th>3</th>\n",
       "      <td>-0.29410</td>\n",
       "      <td>0.50784</td>\n",
       "      <td>2.00188</td>\n",
       "      <td>-0.53286</td>\n",
       "      <td>1.91960</td>\n",
       "    </tr>\n",
       "    <tr>\n",
       "      <th>4</th>\n",
       "      <td>0.26852</td>\n",
       "      <td>-1.48763</td>\n",
       "      <td>-0.50525</td>\n",
       "      <td>1.74496</td>\n",
       "      <td>0.20267</td>\n",
       "    </tr>\n",
       "  </tbody>\n",
       "</table>\n",
       "</div>"
      ],
      "text/plain": [
       "       No1      No2      No3      No4      No5\n",
       "0  0.69656 -0.16083 -0.35156  0.69569 -1.03612\n",
       "1  0.71939 -0.04034  1.45961  0.10254 -1.21528\n",
       "2 -1.40935  1.35670  0.58194  0.36640 -0.69994\n",
       "3 -0.29410  0.50784  2.00188 -0.53286  1.91960\n",
       "4  0.26852 -1.48763 -0.50525  1.74496  0.20267"
      ]
     },
     "execution_count": 75,
     "metadata": {},
     "output_type": "execute_result"
    }
   ],
   "source": [
    "# import pandas.io.sql as pds\n",
    "# %time data = pds.read_sql('SELECT * FROM numbers', con)\n",
    "import pandas as pd\n",
    "%time data1 = pd.read_sql('SELECT * FROM numbers', con)\n",
    "data.head()"
   ]
  },
  {
   "cell_type": "code",
   "execution_count": 76,
   "metadata": {},
   "outputs": [
    {
     "name": "stdout",
     "output_type": "stream",
     "text": [
      "CPU times: user 36 ms, sys: 0 ns, total: 36 ms\n",
      "Wall time: 37.5 ms\n"
     ]
    },
    {
     "data": {
      "text/html": [
       "<div>\n",
       "<table border=\"1\" class=\"dataframe\">\n",
       "  <thead>\n",
       "    <tr style=\"text-align: right;\">\n",
       "      <th></th>\n",
       "      <th>No1</th>\n",
       "      <th>No2</th>\n",
       "      <th>No3</th>\n",
       "      <th>No4</th>\n",
       "      <th>No5</th>\n",
       "    </tr>\n",
       "  </thead>\n",
       "  <tbody>\n",
       "    <tr>\n",
       "      <th>0</th>\n",
       "      <td>0.69656</td>\n",
       "      <td>-0.16083</td>\n",
       "      <td>-0.35156</td>\n",
       "      <td>0.69569</td>\n",
       "      <td>-1.03612</td>\n",
       "    </tr>\n",
       "    <tr>\n",
       "      <th>1</th>\n",
       "      <td>0.71939</td>\n",
       "      <td>-0.04034</td>\n",
       "      <td>1.45961</td>\n",
       "      <td>0.10254</td>\n",
       "      <td>-1.21528</td>\n",
       "    </tr>\n",
       "    <tr>\n",
       "      <th>4</th>\n",
       "      <td>0.26852</td>\n",
       "      <td>-1.48763</td>\n",
       "      <td>-0.50525</td>\n",
       "      <td>1.74496</td>\n",
       "      <td>0.20267</td>\n",
       "    </tr>\n",
       "    <tr>\n",
       "      <th>7</th>\n",
       "      <td>0.02893</td>\n",
       "      <td>-0.05963</td>\n",
       "      <td>-0.74074</td>\n",
       "      <td>0.10557</td>\n",
       "      <td>1.29539</td>\n",
       "    </tr>\n",
       "    <tr>\n",
       "      <th>8</th>\n",
       "      <td>0.06583</td>\n",
       "      <td>-0.97360</td>\n",
       "      <td>-1.33696</td>\n",
       "      <td>-0.87478</td>\n",
       "      <td>-1.28015</td>\n",
       "    </tr>\n",
       "  </tbody>\n",
       "</table>\n",
       "</div>"
      ],
      "text/plain": [
       "       No1      No2      No3      No4      No5\n",
       "0  0.69656 -0.16083 -0.35156  0.69569 -1.03612\n",
       "1  0.71939 -0.04034  1.45961  0.10254 -1.21528\n",
       "4  0.26852 -1.48763 -0.50525  1.74496  0.20267\n",
       "7  0.02893 -0.05963 -0.74074  0.10557  1.29539\n",
       "8  0.06583 -0.97360 -1.33696 -0.87478 -1.28015"
      ]
     },
     "execution_count": 76,
     "metadata": {},
     "output_type": "execute_result"
    }
   ],
   "source": [
    "# 메모리에 업로드후 작업시 빠르게 작업이 가능\n",
    "%time data[(data['No1'] > 0) & (data['No2'] < 0)].head()"
   ]
  },
  {
   "cell_type": "code",
   "execution_count": 80,
   "metadata": {},
   "outputs": [
    {
     "data": {
      "image/png": "[encoded data removed]",
      "text/plain": [
       "<matplotlib.figure.Figure at 0x7fa349bd2ba8>"
      ]
     },
     "metadata": {},
     "output_type": "display_data"
    },
    {
     "name": "stdout",
     "output_type": "stream",
     "text": [
      "CPU times: user 1.91 s, sys: 348 ms, total: 2.26 s\n",
      "Wall time: 1.86 s\n"
     ]
    }
   ],
   "source": [
    "%%time\n",
    "res = data[['No1', 'No2']][ ((data['No1'] > 0.5) | (data['No1'] < -0.5))\n",
    "            & ((data['No2'] < -1) | (data['No2'] > 1))]\n",
    "\n",
    "plt.plot(res.No1, res.No2, 'ro')\n",
    "plt.grid(True); plt.axis('tight')\n",
    "plt.title('Scatter plot of complex query results');plt.show()"
   ]
  },
  {
   "cell_type": "markdown",
   "metadata": {},
   "source": [
    "### 04 HDFS를 pandas 에서\n",
    "pd.HDFStore()"
   ]
  },
  {
   "cell_type": "code",
   "execution_count": 81,
   "metadata": {},
   "outputs": [
    {
     "name": "stdout",
     "output_type": "stream",
     "text": [
      "CPU times: user 56 ms, sys: 76 ms, total: 132 ms\n",
      "Wall time: 131 ms\n"
     ]
    }
   ],
   "source": [
    "# SQL과 같은 데이터를 HDFS로 저장\n",
    "# 속도가 SQL보다 더 빠르다\n",
    "h5s = pd.HDFStore(filename + '.h5s', 'w')\n",
    "%time h5s['data'] = data\n",
    "h5s\n",
    "h5s.close()"
   ]
  },
  {
   "cell_type": "code",
   "execution_count": 82,
   "metadata": {},
   "outputs": [
    {
     "name": "stdout",
     "output_type": "stream",
     "text": [
      "CPU times: user 0 ns, sys: 36 ms, total: 36 ms\n",
      "Wall time: 41.4 ms\n"
     ]
    }
   ],
   "source": [
    "%%time\n",
    "# HDFS로 읽기\n",
    "h5s = pd.HDFStore(filename + '.h5s', 'r')\n",
    "temp = h5s['data']\n",
    "h5s.close()"
   ]
  },
  {
   "cell_type": "code",
   "execution_count": 83,
   "metadata": {},
   "outputs": [
    {
     "data": {
      "text/plain": [
       "True"
      ]
     },
     "execution_count": 83,
     "metadata": {},
     "output_type": "execute_result"
    }
   ],
   "source": [
    "# 저장자료와 읽은자료 동질성 확인\n",
    "np.allclose(np.array(temp), np.array(data))"
   ]
  },
  {
   "cell_type": "code",
   "execution_count": 84,
   "metadata": {},
   "outputs": [
    {
     "name": "stdout",
     "output_type": "stream",
     "text": [
      "합계 321128\r\n",
      "-rw-rw-r-- 1 markbaum markbaum    337582  9월  4 11:29 data.csv\r\n",
      "-rw-rw-r-- 1 markbaum markbaum  16000267  9월  4 11:29 data.pkl\r\n",
      "-rw-rw-r-- 1 markbaum markbaum    688500  8월 31 11:29 es.txt\r\n",
      "-rw-rw-r-- 1 markbaum markbaum    531406  8월 31 13:45 es50.txt\r\n",
      "-rw-r--r-- 1 markbaum markbaum 158552064  9월  4 12:01 numbs.db\r\n",
      "-rw-rw-r-- 1 markbaum markbaum 144007192  9월  4 13:23 numbs.h5s\r\n",
      "drwx------ 6 markbaum markbaum      4096  7월 12 03:24 py4fi-master\r\n",
      "-rw-rw-r-- 1 markbaum markbaum    363485  8월 31 11:30 vs.txt\r\n",
      "-rw-rw-r-- 1 markbaum markbaum   1102776  7월 12 03:24 vstoxx_data_31032014.h5\r\n",
      "-rw-rw-r-- 1 markbaum markbaum   2416542  7월 12 03:24 vstoxx_march_2014.h5\r\n",
      "-rw-rw-r-- 1 markbaum markbaum   4806862  7월 12 03:24 vstoxx_march_2014.xlsx\r\n"
     ]
    }
   ],
   "source": [
    "# h5s가 10% 더 작은 용량을 갖는다\n",
    "!ls ./data/ -l"
   ]
  },
  {
   "cell_type": "markdown",
   "metadata": {},
   "source": [
    "### 05 CSV로 저장\n",
    "Data as CSV File"
   ]
  },
  {
   "cell_type": "code",
   "execution_count": 85,
   "metadata": {},
   "outputs": [
    {
     "name": "stdout",
     "output_type": "stream",
     "text": [
      "CPU times: user 25.4 s, sys: 288 ms, total: 25.7 s\n",
      "Wall time: 25.8 s\n"
     ]
    }
   ],
   "source": [
    "%time data.to_csv(filename + '.csv')"
   ]
  },
  {
   "cell_type": "code",
   "execution_count": 86,
   "metadata": {},
   "outputs": [
    {
     "name": "stdout",
     "output_type": "stream",
     "text": [
      "합계 466360\r\n",
      "-rw-rw-r-- 1 markbaum markbaum    337582  9월  4 11:29 data.csv\r\n",
      "-rw-rw-r-- 1 markbaum markbaum  16000267  9월  4 11:29 data.pkl\r\n",
      "-rw-rw-r-- 1 markbaum markbaum    688500  8월 31 11:29 es.txt\r\n",
      "-rw-rw-r-- 1 markbaum markbaum    531406  8월 31 13:45 es50.txt\r\n",
      "-rw-rw-r-- 1 markbaum markbaum 148715170  9월  4 13:29 numbs.csv\r\n",
      "-rw-r--r-- 1 markbaum markbaum 158552064  9월  4 12:01 numbs.db\r\n",
      "-rw-rw-r-- 1 markbaum markbaum 144007192  9월  4 13:23 numbs.h5s\r\n",
      "drwx------ 6 markbaum markbaum      4096  7월 12 03:24 py4fi-master\r\n",
      "-rw-rw-r-- 1 markbaum markbaum    363485  8월 31 11:30 vs.txt\r\n",
      "-rw-rw-r-- 1 markbaum markbaum   1102776  7월 12 03:24 vstoxx_data_31032014.h5\r\n",
      "-rw-rw-r-- 1 markbaum markbaum   2416542  7월 12 03:24 vstoxx_march_2014.h5\r\n",
      "-rw-rw-r-- 1 markbaum markbaum   4806862  7월 12 03:24 vstoxx_march_2014.xlsx\r\n"
     ]
    }
   ],
   "source": [
    "# h5s가 10% 더 작은 용량을 갖는다\n",
    "!ls ./data/ -l"
   ]
  },
  {
   "cell_type": "code",
   "execution_count": 87,
   "metadata": {},
   "outputs": [
    {
     "name": "stdout",
     "output_type": "stream",
     "text": [
      "CPU times: user 2 s, sys: 56 ms, total: 2.06 s\n",
      "Wall time: 2.06 s\n"
     ]
    },
    {
     "data": {
      "text/plain": [
       "array([[<matplotlib.axes._subplots.AxesSubplot object at 0x7fa31f910160>,\n",
       "        <matplotlib.axes._subplots.AxesSubplot object at 0x7fa3456d6b38>],\n",
       "       [<matplotlib.axes._subplots.AxesSubplot object at 0x7fa344d66cc0>,\n",
       "        <matplotlib.axes._subplots.AxesSubplot object at 0x7fa31f97f400>]], dtype=object)"
      ]
     },
     "execution_count": 87,
     "metadata": {},
     "output_type": "execute_result"
    },
    {
     "data": {
      "image/png": "[encoded data removed]",
      "text/plain": [
       "<matplotlib.figure.Figure at 0x7fa34993da90>"
      ]
     },
     "metadata": {},
     "output_type": "display_data"
    }
   ],
   "source": [
    "%%time\n",
    "# bins = 20 : 구간을 20단계로 나눈다\n",
    "pd.read_csv(filename + '.csv')[['No1', 'No2','No3', 'No4']].hist(bins = 20)"
   ]
  },
  {
   "cell_type": "markdown",
   "metadata": {},
   "source": [
    "### 06 Excel 로 저장\n",
    "Data as Excel File"
   ]
  },
  {
   "cell_type": "code",
   "execution_count": 88,
   "metadata": {},
   "outputs": [
    {
     "name": "stdout",
     "output_type": "stream",
     "text": [
      "CPU times: user 16.6 s, sys: 108 ms, total: 16.7 s\n",
      "Wall time: 16.7 s\n"
     ]
    }
   ],
   "source": [
    "%time data[:100000].to_excel(filename + '.xlsx')"
   ]
  },
  {
   "cell_type": "code",
   "execution_count": 89,
   "metadata": {},
   "outputs": [
    {
     "name": "stdout",
     "output_type": "stream",
     "text": [
      "CPU times: user 5.41 s, sys: 12 ms, total: 5.42 s\n",
      "Wall time: 5.44 s\n"
     ]
    },
    {
     "data": {
      "text/plain": [
       "<matplotlib.axes._subplots.AxesSubplot at 0x7fa330108d68>"
      ]
     },
     "execution_count": 89,
     "metadata": {},
     "output_type": "execute_result"
    },
    {
     "data": {
      "image/png": "[encoded data removed]",
      "text/plain": [
       "<matplotlib.figure.Figure at 0x7fa3301082b0>"
      ]
     },
     "metadata": {},
     "output_type": "display_data"
    }
   ],
   "source": [
    "%time pd.read_excel(filename + '.xlsx', 'Sheet1').cumsum().plot()\n",
    "# title: Paths of random data from Excel file"
   ]
  },
  {
   "cell_type": "code",
   "execution_count": 90,
   "metadata": {},
   "outputs": [
    {
     "name": "stdout",
     "output_type": "stream",
     "text": [
      "합계 470632\r\n",
      "-rw-rw-r-- 1 markbaum markbaum    337582  9월  4 11:29 data.csv\r\n",
      "-rw-rw-r-- 1 markbaum markbaum  16000267  9월  4 11:29 data.pkl\r\n",
      "-rw-rw-r-- 1 markbaum markbaum    688500  8월 31 11:29 es.txt\r\n",
      "-rw-rw-r-- 1 markbaum markbaum    531406  8월 31 13:45 es50.txt\r\n",
      "-rw-rw-r-- 1 markbaum markbaum 148715170  9월  4 13:29 numbs.csv\r\n",
      "-rw-r--r-- 1 markbaum markbaum 158552064  9월  4 12:01 numbs.db\r\n",
      "-rw-rw-r-- 1 markbaum markbaum 144007192  9월  4 13:23 numbs.h5s\r\n",
      "-rw-rw-r-- 1 markbaum markbaum   4371224  9월  4 13:33 numbs.xlsx\r\n",
      "drwx------ 6 markbaum markbaum      4096  7월 12 03:24 py4fi-master\r\n",
      "-rw-rw-r-- 1 markbaum markbaum    363485  8월 31 11:30 vs.txt\r\n",
      "-rw-rw-r-- 1 markbaum markbaum   1102776  7월 12 03:24 vstoxx_data_31032014.h5\r\n",
      "-rw-rw-r-- 1 markbaum markbaum   2416542  7월 12 03:24 vstoxx_march_2014.h5\r\n",
      "-rw-rw-r-- 1 markbaum markbaum   4806862  7월 12 03:24 vstoxx_march_2014.xlsx\r\n"
     ]
    }
   ],
   "source": [
    "!ls ./data/ -l"
   ]
  },
  {
   "cell_type": "code",
   "execution_count": null,
   "metadata": {
    "collapsed": true
   },
   "outputs": [],
   "source": [
    "# 결론\n",
    "# Excel은 일부분만 저정함에도 시간이 상당소요\n",
    "# HDFS 형식이 가장 용량이 작고 효율적이다\n",
    "# Csv는 가장 용량이 큰데, 이는 메모리 과다점유로 인한 성능둔화 원인이 된다"
   ]
  },
  {
   "cell_type": "markdown",
   "metadata": {},
   "source": [
    "<br></br>\n",
    "## 3 PyTable를 활용한 고속 입출력 \n",
    "HDFS를 활용한 입출력 연산 성능 최적화 (Fast I/O with PyTables)"
   ]
  },
  {
   "cell_type": "code",
   "execution_count": 91,
   "metadata": {
    "collapsed": true
   },
   "outputs": [],
   "source": [
    "import numpy as np\n",
    "import tables as tb\n",
    "import datetime as dt\n",
    "import matplotlib.pyplot as plt\n",
    "%matplotlib inline"
   ]
  },
  {
   "cell_type": "markdown",
   "metadata": {},
   "source": [
    "### 01 Table 만들기\n",
    "PyTable"
   ]
  },
  {
   "cell_type": "code",
   "execution_count": 100,
   "metadata": {},
   "outputs": [],
   "source": [
    "# filename = path + 'tab.h5'\n",
    "h5 = tb.open_file(filename, 'w')\n",
    "rows = 2000000\n",
    "row_des = { 'Date': tb.StringCol(26, pos=1), # 26글자 String\n",
    "            'No1': tb.IntCol(pos=2),         # 정수열 1\n",
    "            'No2': tb.IntCol(pos=3),         # 정수열 2\n",
    "            'No3': tb.Float64Col(pos=4),     # 부동소숫점(소숫점 4자리)\n",
    "            'No4': tb.Float64Col(pos=5)}     # 부동소숫점(소숫점 5자리)"
   ]
  },
  {
   "cell_type": "code",
   "execution_count": 101,
   "metadata": {},
   "outputs": [
    {
     "data": {
      "text/plain": [
       "/ints_floats (Table(0,)) 'Integers and Floats'\n",
       "  description := {\n",
       "  \"Date\": StringCol(itemsize=26, shape=(), dflt=b'', pos=0),\n",
       "  \"No1\": Int32Col(shape=(), dflt=0, pos=1),\n",
       "  \"No2\": Int32Col(shape=(), dflt=0, pos=2),\n",
       "  \"No3\": Float64Col(shape=(), dflt=0.0, pos=3),\n",
       "  \"No4\": Float64Col(shape=(), dflt=0.0, pos=4)}\n",
       "  byteorder := 'little'\n",
       "  chunkshape := (2621,)"
      ]
     },
     "execution_count": 101,
     "metadata": {},
     "output_type": "execute_result"
    }
   ],
   "source": [
    "# 압축하지 않은 테이터 저장방식을 활용\n",
    "filters = tb.Filters(complevel = 0)\n",
    "tab = h5.create_table('/', 'ints_floats', row_des,\n",
    "                      title='Integers and Floats',\n",
    "                      expectedrows=rows, filters=filters)\n",
    "tab"
   ]
  },
  {
   "cell_type": "code",
   "execution_count": null,
   "metadata": {
    "collapsed": true
   },
   "outputs": [],
   "source": [
    "pointer = tab.row\n",
    "ran_int = np.random.randint(0, 10000, size=(rows, 2))\n",
    "ran_flo = np.random.standard_normal((rows, 2)).round(5)"
   ]
  },
  {
   "cell_type": "code",
   "execution_count": 106,
   "metadata": {},
   "outputs": [
    {
     "name": "stdout",
     "output_type": "stream",
     "text": [
      "CPU times: user 6.28 s, sys: 40 ms, total: 6.32 s\n",
      "Wall time: 6.33 s\n"
     ]
    }
   ],
   "source": [
    "%%time\n",
    "for i in range(rows): # for 반복문으로, 데이터를 입력한다\n",
    "    pointer['Date'] = dt.datetime.now()\n",
    "    pointer['No1'] = ran_int[i, 0]\n",
    "    pointer['No2'] = ran_int[i, 1] \n",
    "    pointer['No3'] = ran_flo[i, 0]\n",
    "    pointer['No4'] = ran_flo[i, 1] \n",
    "    pointer.append()\n",
    "tab.flush()          # HDFS의 commit 명령"
   ]
  },
  {
   "cell_type": "code",
   "execution_count": 107,
   "metadata": {},
   "outputs": [
    {
     "data": {
      "text/plain": [
       "/ints_floats (Table(2000000,)) 'Integers and Floats'\n",
       "  description := {\n",
       "  \"Date\": StringCol(itemsize=26, shape=(), dflt=b'', pos=0),\n",
       "  \"No1\": Int32Col(shape=(), dflt=0, pos=1),\n",
       "  \"No2\": Int32Col(shape=(), dflt=0, pos=2),\n",
       "  \"No3\": Float64Col(shape=(), dflt=0.0, pos=3),\n",
       "  \"No4\": Float64Col(shape=(), dflt=0.0, pos=4)}\n",
       "  byteorder := 'little'\n",
       "  chunkshape := (2621,)"
      ]
     },
     "execution_count": 107,
     "metadata": {},
     "output_type": "execute_result"
    }
   ],
   "source": [
    "# 입력한 객체의 내용 확인 : ndarray와 비슷하게 출력\n",
    "tab"
   ]
  },
  {
   "cell_type": "code",
   "execution_count": 108,
   "metadata": {},
   "outputs": [
    {
     "data": {
      "text/plain": [
       "array([(b'', 0, 0,  0.,  0.), (b'', 0, 0,  0.,  0.), (b'', 0, 0,  0.,  0.),\n",
       "       ..., (b'', 0, 0,  0.,  0.), (b'', 0, 0,  0.,  0.),\n",
       "       (b'', 0, 0,  0.,  0.)],\n",
       "      dtype=[('Date', 'S26'), ('No1', '<i4'), ('No2', '<i4'), ('No3', '<f8'), ('No4', '<f8')])"
      ]
     },
     "execution_count": 108,
     "metadata": {},
     "output_type": "execute_result"
    }
   ],
   "source": [
    "# HDSF를 담을 Zeros 생성\n",
    "dty = np.dtype([('Date', 'S26'), ('No1', '<i4'), ('No2', '<i4'),\n",
    "                                 ('No3', '<f8'), ('No4', '<f8')])\n",
    "sarray = np.zeros(len(ran_int), dtype=dty)\n",
    "sarray"
   ]
  },
  {
   "cell_type": "code",
   "execution_count": 109,
   "metadata": {},
   "outputs": [
    {
     "name": "stdout",
     "output_type": "stream",
     "text": [
      "CPU times: user 60 ms, sys: 0 ns, total: 60 ms\n",
      "Wall time: 58.9 ms\n"
     ]
    }
   ],
   "source": [
    "%%time\n",
    "# HDFS객체 옮겨 담기 : 순식간에 처리가 완료된다\n",
    "sarray['Date'] = dt.datetime.now()\n",
    "sarray['No1'] = ran_int[:, 0]\n",
    "sarray['No2'] = ran_int[:, 1]\n",
    "sarray['No3'] = ran_flo[:, 0]\n",
    "sarray['No4'] = ran_flo[:, 1]"
   ]
  },
  {
   "cell_type": "code",
   "execution_count": 110,
   "metadata": {},
   "outputs": [
    {
     "data": {
      "text/plain": [
       "/ints_floats_from_array (Table(2000000,)) 'Integers and Floats'\n",
       "  description := {\n",
       "  \"Date\": StringCol(itemsize=26, shape=(), dflt=b'', pos=0),\n",
       "  \"No1\": Int32Col(shape=(), dflt=0, pos=1),\n",
       "  \"No2\": Int32Col(shape=(), dflt=0, pos=2),\n",
       "  \"No3\": Float64Col(shape=(), dflt=0.0, pos=3),\n",
       "  \"No4\": Float64Col(shape=(), dflt=0.0, pos=4)}\n",
       "  byteorder := 'little'\n",
       "  chunkshape := (2621,)"
      ]
     },
     "execution_count": 110,
     "metadata": {},
     "output_type": "execute_result"
    }
   ],
   "source": [
    "# np.array --> table 생성하기\n",
    "h5.create_table('/', 'ints_floats_from_array', sarray,\n",
    "                      title = 'Integers and Floats',\n",
    "                      expectedrows = rows, filters = filters)"
   ]
  },
  {
   "cell_type": "code",
   "execution_count": 111,
   "metadata": {
    "collapsed": true
   },
   "outputs": [],
   "source": [
    "# 중복된 테이블은 삭제한다\n",
    "h5.remove_node('/', 'ints_floats_from_array')"
   ]
  },
  {
   "cell_type": "markdown",
   "metadata": {},
   "source": [
    "### 02 Table 활용하기\n",
    "PyTable"
   ]
  },
  {
   "cell_type": "code",
   "execution_count": 112,
   "metadata": {},
   "outputs": [
    {
     "data": {
      "text/plain": [
       "array([(b'2017-09-04 14:42:07.211879', 5233, 7296, -0.2709 , -0.15859),\n",
       "       (b'2017-09-04 14:42:07.211915', 8828, 6078,  1.39352, -0.24489),\n",
       "       (b'2017-09-04 14:42:07.211920', 3349, 7951, -1.01049, -0.37965)],\n",
       "      dtype=[('Date', 'S26'), ('No1', '<i4'), ('No2', '<i4'), ('No3', '<f8'), ('No4', '<f8')])"
      ]
     },
     "execution_count": 112,
     "metadata": {},
     "output_type": "execute_result"
    }
   ],
   "source": [
    "# 객체를 slice 로 접근하기\n",
    "tab[:3]"
   ]
  },
  {
   "cell_type": "code",
   "execution_count": 113,
   "metadata": {},
   "outputs": [
    {
     "data": {
      "text/plain": [
       "array([-0.15859, -0.24489, -0.37965])"
      ]
     },
     "execution_count": 113,
     "metadata": {},
     "output_type": "execute_result"
    }
   ],
   "source": [
    "# 객체를 slice 로 접근하기\n",
    "tab[:3]['No4']"
   ]
  },
  {
   "cell_type": "code",
   "execution_count": 114,
   "metadata": {},
   "outputs": [
    {
     "name": "stdout",
     "output_type": "stream",
     "text": [
      "CPU times: user 28 ms, sys: 24 ms, total: 52 ms\n",
      "Wall time: 48.6 ms\n"
     ]
    },
    {
     "data": {
      "text/plain": [
       "-1598.3723099999997"
      ]
     },
     "execution_count": 114,
     "metadata": {},
     "output_type": "execute_result"
    }
   ],
   "source": [
    "# numpy의 유니버셜 함수를 바로 적용가능\n",
    "# No3 컬럼의 총합\n",
    "%time np.sum(tab[:]['No3'])"
   ]
  },
  {
   "cell_type": "code",
   "execution_count": 115,
   "metadata": {},
   "outputs": [
    {
     "name": "stdout",
     "output_type": "stream",
     "text": [
      "CPU times: user 36 ms, sys: 16 ms, total: 52 ms\n",
      "Wall time: 50.6 ms\n"
     ]
    },
    {
     "data": {
      "text/plain": [
       "133303920.42162623"
      ]
     },
     "execution_count": 115,
     "metadata": {},
     "output_type": "execute_result"
    }
   ],
   "source": [
    "# No1 컬럼의 편차 총합\n",
    "%time np.sum(np.sqrt(tab[:]['No1']))"
   ]
  },
  {
   "cell_type": "code",
   "execution_count": 116,
   "metadata": {},
   "outputs": [
    {
     "name": "stdout",
     "output_type": "stream",
     "text": [
      "2000000\n",
      "CPU times: user 144 ms, sys: 64 ms, total: 208 ms\n",
      "Wall time: 206 ms\n"
     ]
    },
    {
     "data": {
      "image/png": "[encoded data removed]",
      "text/plain": [
       "<matplotlib.figure.Figure at 0x7fa331cdd160>"
      ]
     },
     "metadata": {},
     "output_type": "display_data"
    }
   ],
   "source": [
    "%%time\n",
    "# table 객체를 plot으로 시각화\n",
    "plt.hist(tab[:]['No3'], bins=30)\n",
    "plt.grid(True)\n",
    "print(len(tab[:]['No3']))"
   ]
  },
  {
   "cell_type": "code",
   "execution_count": 119,
   "metadata": {},
   "outputs": [
    {
     "name": "stdout",
     "output_type": "stream",
     "text": [
      "CPU times: user 304 ms, sys: 28 ms, total: 332 ms\n",
      "Wall time: 300 ms\n"
     ]
    },
    {
     "data": {
      "image/png": "[encoded data removed]",
      "text/plain": [
       "<matplotlib.figure.Figure at 0x7fa3410e0f98>"
      ]
     },
     "metadata": {},
     "output_type": "display_data"
    }
   ],
   "source": [
    "%%time\n",
    "# table 객체를 Query 문으로 데이터 선별하기\n",
    "res = np.array([(row['No3'], row['No4']) for row in\n",
    "        tab.where('((No3 < -0.5) | (No3 > 0.5)) \\\n",
    "                 & ((No4 < -1) | (No4 > 1))')])[::100]\n",
    "plt.plot(res.T[0], res.T[1], 'ro')\n",
    "plt.grid(True)"
   ]
  },
  {
   "cell_type": "code",
   "execution_count": 120,
   "metadata": {},
   "outputs": [
    {
     "name": "stdout",
     "output_type": "stream",
     "text": [
      "(9904, 4860)\n",
      "(159, 4668)\n",
      "(60, 5058)\n",
      "(9946, 4669)\n",
      "CPU times: user 72 ms, sys: 8 ms, total: 80 ms\n",
      "Wall time: 60 ms\n"
     ]
    }
   ],
   "source": [
    "%%time\n",
    "# query문 연산하기\n",
    "results = [(row['No1'], row['No2']) for row in\n",
    "           tab.where('((No1 > 9800) | (No1 < 200)) \\\n",
    "                    & ((No2 > 4500) & (No2 < 5500))')]\n",
    "for res in results[:4]:\n",
    "    print(res)"
   ]
  },
  {
   "cell_type": "code",
   "execution_count": 121,
   "metadata": {},
   "outputs": [
    {
     "name": "stdout",
     "output_type": "stream",
     "text": [
      "(1234, 9954)\n",
      "(1234, 9898)\n",
      "(1234, 9796)\n",
      "(1234, 9982)\n",
      "(1234, 9971)\n",
      "CPU times: user 28 ms, sys: 28 ms, total: 56 ms\n",
      "Wall time: 49.5 ms\n"
     ]
    }
   ],
   "source": [
    "%%time\n",
    "results = [(row['No1'], row['No2']) for row in\n",
    "           tab.where('(No1 == 1234) & (No2 > 9776)')]\n",
    "for res in results:\n",
    "    print(res)"
   ]
  },
  {
   "cell_type": "markdown",
   "metadata": {},
   "source": [
    "### 03 압축된 Table 다루기\n",
    "Working with Compressed Tables"
   ]
  },
  {
   "cell_type": "code",
   "execution_count": 122,
   "metadata": {
    "collapsed": true
   },
   "outputs": [],
   "source": [
    "# 4단계 압축을 실시해도 속도 차이는 거의 없다\n",
    "filename = path + 'tab.h5c'\n",
    "h5c = tb.open_file(filename, 'w')\n",
    "\n",
    "filters = tb.Filters(complevel=4, complib = 'blosc')\n",
    "\n",
    "tabc = h5c.create_table('/', 'ints_floats', sarray,\n",
    "                        title = 'Integers and Floats',\n",
    "                        expectedrows = rows, filters = filters)"
   ]
  },
  {
   "cell_type": "code",
   "execution_count": 123,
   "metadata": {},
   "outputs": [
    {
     "name": "stdout",
     "output_type": "stream",
     "text": [
      "CPU times: user 256 ms, sys: 28 ms, total: 284 ms\n",
      "Wall time: 255 ms\n"
     ]
    }
   ],
   "source": [
    "%%time\n",
    "res = np.array([(row['No3'], row['No4']) for row in\n",
    "             tabc.where('((No3 < -0.5) | (No3 > 0.5)) \\\n",
    "                       & ((No4 < -1) | (No4 > 1))')])[::100]\n",
    "# 살짝 느린 결과값을 출력"
   ]
  },
  {
   "cell_type": "code",
   "execution_count": 124,
   "metadata": {},
   "outputs": [
    {
     "name": "stdout",
     "output_type": "stream",
     "text": [
      "CPU times: user 16 ms, sys: 28 ms, total: 44 ms\n",
      "Wall time: 39.7 ms\n"
     ]
    }
   ],
   "source": [
    "%time arr_non = tab.read()"
   ]
  },
  {
   "cell_type": "code",
   "execution_count": 125,
   "metadata": {},
   "outputs": [
    {
     "name": "stdout",
     "output_type": "stream",
     "text": [
      "CPU times: user 20 ms, sys: 24 ms, total: 44 ms\n",
      "Wall time: 43.5 ms\n",
      "합계 763944\r\n",
      "-rw-rw-r-- 1 markbaum markbaum    337582  9월  4 11:29 data.csv\r\n",
      "-rw-rw-r-- 1 markbaum markbaum  16000267  9월  4 11:29 data.pkl\r\n",
      "-rw-rw-r-- 1 markbaum markbaum    688500  8월 31 11:29 es.txt\r\n",
      "-rw-rw-r-- 1 markbaum markbaum    531406  8월 31 13:45 es50.txt\r\n",
      "-rw-rw-r-- 1 markbaum markbaum 148715170  9월  4 13:29 numbs.csv\r\n",
      "-rw-r--r-- 1 markbaum markbaum 158552064  9월  4 12:01 numbs.db\r\n",
      "-rw-rw-r-- 1 markbaum markbaum 144007192  9월  4 13:23 numbs.h5s\r\n",
      "-rw-rw-r-- 1 markbaum markbaum   4371224  9월  4 13:33 numbs.xlsx\r\n",
      "drwx------ 6 markbaum markbaum      4096  7월 12 03:24 py4fi-master\r\n",
      "-rw-rw-r-- 1 markbaum markbaum 200312336  9월  4 14:53 tab.h5\r\n",
      "-rw-rw-r-- 1 markbaum markbaum 100030831  9월  4 15:01 tab.h5c\r\n",
      "-rw-rw-r-- 1 markbaum markbaum    363485  8월 31 11:30 vs.txt\r\n",
      "-rw-rw-r-- 1 markbaum markbaum   1102776  7월 12 03:24 vstoxx_data_31032014.h5\r\n",
      "-rw-rw-r-- 1 markbaum markbaum   2416542  7월 12 03:24 vstoxx_march_2014.h5\r\n",
      "-rw-rw-r-- 1 markbaum markbaum   4806862  7월 12 03:24 vstoxx_march_2014.xlsx\r\n"
     ]
    }
   ],
   "source": [
    "# 저장 및 읽기 시간은 좀 걸리지만, 50% 용량이 절약된다\n",
    "%time arr_com = tabc.read()\n",
    "h5c.close()\n",
    "\n",
    "!ls ./data/ -l"
   ]
  },
  {
   "cell_type": "markdown",
   "metadata": {},
   "source": [
    "### 04 배열 Table 다루기\n",
    "Working with Arrays"
   ]
  },
  {
   "cell_type": "code",
   "execution_count": 126,
   "metadata": {},
   "outputs": [
    {
     "name": "stdout",
     "output_type": "stream",
     "text": [
      "CPU times: user 4 ms, sys: 36 ms, total: 40 ms\n",
      "Wall time: 39.4 ms\n"
     ]
    }
   ],
   "source": [
    "%%time\n",
    "arr_int = h5.create_array('/', 'integers', ran_int)\n",
    "arr_flo = h5.create_array('/', 'floats', ran_flo)"
   ]
  },
  {
   "cell_type": "code",
   "execution_count": 127,
   "metadata": {},
   "outputs": [
    {
     "data": {
      "text/plain": [
       "File(filename=./data/tab.h5, title='', mode='w', root_uep='/', filters=Filters(complevel=0, shuffle=False, bitshuffle=False, fletcher32=False, least_significant_digit=None))\n",
       "/ (RootGroup) ''\n",
       "/floats (Array(2000000, 2)) ''\n",
       "  atom := Float64Atom(shape=(), dflt=0.0)\n",
       "  maindim := 0\n",
       "  flavor := 'numpy'\n",
       "  byteorder := 'little'\n",
       "  chunkshape := None\n",
       "/integers (Array(2000000, 2)) ''\n",
       "  atom := Int64Atom(shape=(), dflt=0)\n",
       "  maindim := 0\n",
       "  flavor := 'numpy'\n",
       "  byteorder := 'little'\n",
       "  chunkshape := None\n",
       "/ints_floats (Table(2000000,)) 'Integers and Floats'\n",
       "  description := {\n",
       "  \"Date\": StringCol(itemsize=26, shape=(), dflt=b'', pos=0),\n",
       "  \"No1\": Int32Col(shape=(), dflt=0, pos=1),\n",
       "  \"No2\": Int32Col(shape=(), dflt=0, pos=2),\n",
       "  \"No3\": Float64Col(shape=(), dflt=0.0, pos=3),\n",
       "  \"No4\": Float64Col(shape=(), dflt=0.0, pos=4)}\n",
       "  byteorder := 'little'\n",
       "  chunkshape := (2621,)"
      ]
     },
     "execution_count": 127,
     "metadata": {},
     "output_type": "execute_result"
    }
   ],
   "source": [
    "h5"
   ]
  },
  {
   "cell_type": "code",
   "execution_count": 128,
   "metadata": {
    "collapsed": true
   },
   "outputs": [],
   "source": [
    "h5.close()\n",
    "# HDF5 기반의 자료형\n",
    "# 관계형 DB에서 대용품으로 활용에 적합하다\n",
    "# pandas와 결합하면 최적의 성능 및 용량을 발휘가능하다"
   ]
  },
  {
   "cell_type": "markdown",
   "metadata": {},
   "source": [
    "### 05 Out of Memory 연산\n",
    "본인의 메모리보다 더 큰 자료를 다룰 수 있다"
   ]
  },
  {
   "cell_type": "code",
   "execution_count": 134,
   "metadata": {},
   "outputs": [],
   "source": [
    "# filename = path + 'array.h5'\n",
    "# h5 = tb.open_file(filename, 'w') \n",
    "\n",
    "# n = 1000\n",
    "# ear = h5.create_earray( h5.root, 'ear', \n",
    "#                         atom = tb.Float64Atom(),\n",
    "#                         shape = (0, n))"
   ]
  },
  {
   "cell_type": "code",
   "execution_count": 136,
   "metadata": {},
   "outputs": [
    {
     "name": "stdout",
     "output_type": "stream",
     "text": [
      "CPU times: user 6.94 s, sys: 7.56 s, total: 14.5 s\n",
      "Wall time: 43.6 s\n"
     ]
    }
   ],
   "source": [
    "# %%time\n",
    "# rand = np.random.standard_normal((n, n))\n",
    "# for i in range(750):\n",
    "#     ear.append(rand)\n",
    "# ear.flush()"
   ]
  },
  {
   "cell_type": "code",
   "execution_count": 138,
   "metadata": {},
   "outputs": [
    {
     "data": {
      "text/plain": [
       "/ear (EArray(750000, 1000)) ''\n",
       "  atom := Float64Atom(shape=(), dflt=0.0)\n",
       "  maindim := 0\n",
       "  flavor := 'numpy'\n",
       "  byteorder := 'little'\n",
       "  chunkshape := (8, 1000)"
      ]
     },
     "execution_count": 138,
     "metadata": {},
     "output_type": "execute_result"
    }
   ],
   "source": [
    "# ear"
   ]
  },
  {
   "cell_type": "code",
   "execution_count": 137,
   "metadata": {},
   "outputs": [
    {
     "data": {
      "text/plain": [
       "6000000000"
      ]
     },
     "execution_count": 137,
     "metadata": {},
     "output_type": "execute_result"
    }
   ],
   "source": [
    "# # 총 6gb 데이터가 생성\n",
    "# ear.size_on_disk"
   ]
  },
  {
   "cell_type": "code",
   "execution_count": 139,
   "metadata": {
    "collapsed": true
   },
   "outputs": [],
   "source": [
    "# out = h5.create_earray(h5.root, 'out',\n",
    "#                       atom=tb.Float64Atom(),\n",
    "#                       shape=(0, n))"
   ]
  },
  {
   "cell_type": "code",
   "execution_count": 141,
   "metadata": {},
   "outputs": [
    {
     "name": "stdout",
     "output_type": "stream",
     "text": [
      "CPU times: user 1min 32s, sys: 13.6 s, total: 1min 46s\n",
      "Wall time: 1min 28s\n"
     ]
    },
    {
     "data": {
      "text/plain": [
       "/out (EArray(750000, 1000)) ''\n",
       "  atom := Float64Atom(shape=(), dflt=0.0)\n",
       "  maindim := 0\n",
       "  flavor := 'numpy'\n",
       "  byteorder := 'little'\n",
       "  chunkshape := (8, 1000)"
      ]
     },
     "execution_count": 141,
     "metadata": {},
     "output_type": "execute_result"
    }
   ],
   "source": [
    "# # Earray객체 : numexpr 라이브러리에 기반한 수치표현식\n",
    "# # 전체 연산이 메모리 밖에서 이루어 진다\n",
    "\n",
    "# # 수치 표현식을 문자열로 입력\n",
    "# expr = tb.Expr('3 * sin(ear) + sqrt(abs(ear))')\n",
    "# # 결과를 저장할 디스크 기반의 배열 설정\n",
    "# expr.set_output(out, append_mode=True)\n",
    "# # 수치표현식을 실제로 계산후 디스크 기반의 배열에 저장\n",
    "# %time expr.eval()"
   ]
  },
  {
   "cell_type": "code",
   "execution_count": 144,
   "metadata": {},
   "outputs": [],
   "source": [
    "# # 위의 같은 작업을 메모리에서 작업\n",
    "# %time imarray = ear.read()\n",
    "# import numexpr as ne\n",
    "# expr = '3 * sin(imarray) + sqrt(abs(imarray))'\n",
    "# ne.set_num_threads(16)\n",
    "# %time ne.evaluate(expr)[0, :10]"
   ]
  },
  {
   "cell_type": "code",
   "execution_count": 143,
   "metadata": {
    "collapsed": true
   },
   "outputs": [],
   "source": [
    "# h5.close()"
   ]
  },
  {
   "cell_type": "code",
   "execution_count": null,
   "metadata": {
    "collapsed": true
   },
   "outputs": [],
   "source": []
  }
 ],
 "metadata": {
  "kernelspec": {
   "display_name": "Python 3",
   "language": "python",
   "name": "python3"
  },
  "language_info": {
   "codemirror_mode": {
    "name": "ipython",
    "version": 3
   },
   "file_extension": ".py",
   "mimetype": "text/x-python",
   "name": "python",
   "nbconvert_exporter": "python",
   "pygments_lexer": "ipython3",
   "version": "3.6.1"
  }
 },
 "nbformat": 4,
 "nbformat_minor": 2
}
